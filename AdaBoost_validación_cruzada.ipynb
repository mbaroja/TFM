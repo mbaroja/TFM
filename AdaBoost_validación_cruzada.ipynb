{
  "cells": [
    {
      "cell_type": "markdown",
      "source": [
        "#Librerías"
      ],
      "metadata": {
        "id": "HrpCSs87HSPf"
      },
      "id": "HrpCSs87HSPf"
    },
    {
      "cell_type": "code",
      "source": [
        "import pandas as pd\n",
        "import numpy as np\n",
        "from sklearn.model_selection import train_test_split\n",
        "from sklearn.ensemble import AdaBoostClassifier\n",
        "from sklearn.metrics import accuracy_score\n",
        "\n",
        "import matplotlib.pyplot as plt\n",
        "import seaborn as sns\n",
        "\n",
        "from sklearn.metrics import roc_curve, roc_auc_score\n",
        "from sklearn.metrics import confusion_matrix            # matriz de confusión\n",
        "from sklearn.metrics import classification_report       # evaluación  Accuracy/Precision/Recall/F1 Score\n",
        "from sklearn.metrics import ConfusionMatrixDisplay      # matriz de confusión para mapa de calor\n",
        "\n",
        "#Validación cruzada\n",
        "from sklearn.model_selection import KFold\n",
        "from sklearn.model_selection import cross_val_score"
      ],
      "metadata": {
        "id": "Gm1Sk5PuHTjO"
      },
      "id": "Gm1Sk5PuHTjO",
      "execution_count": 1,
      "outputs": []
    },
    {
      "cell_type": "markdown",
      "source": [
        "# Descarga de Datos"
      ],
      "metadata": {
        "id": "GtDjBWmHIYlD"
      },
      "id": "GtDjBWmHIYlD"
    },
    {
      "cell_type": "code",
      "execution_count": 2,
      "id": "de37c14c-d8fb-4ff5-94a9-28b96c00c20c",
      "metadata": {
        "id": "de37c14c-d8fb-4ff5-94a9-28b96c00c20c"
      },
      "outputs": [],
      "source": [
        "# Cargar los datos desde el archivo CSV\n",
        "# data = pd.read_csv('datos.csv')\n",
        "data = pd.read_csv('https://raw.githubusercontent.com/mbaroja/TFM/data/AgglomerativeClustering_withclusters.csv', delimiter=';')"
      ]
    },
    {
      "cell_type": "code",
      "source": [
        "data"
      ],
      "metadata": {
        "colab": {
          "base_uri": "https://localhost:8080/",
          "height": 505
        },
        "id": "l8oMKlVoC2Gi",
        "outputId": "d01d9d03-fb2c-4bd1-865e-475956a8a4a5"
      },
      "id": "l8oMKlVoC2Gi",
      "execution_count": 3,
      "outputs": [
        {
          "output_type": "execute_result",
          "data": {
            "text/plain": [
              "      V_media  SA_media  SI_media  SP_media  SF_media  CL_media  CH_media  \\\n",
              "0    4.333333  5.000000  4.666667  3.000000  4.000000  5.000000  4.000000   \n",
              "1    4.000000  5.000000  5.000000  2.000000  4.666667  5.000000  5.333333   \n",
              "2    4.666667  4.000000  4.666667  3.000000  4.333333  5.000000  5.000000   \n",
              "3    5.000000  5.000000  5.000000  4.000000  4.000000  4.666667  4.666667   \n",
              "4    2.000000  1.000000  4.666667  1.000000  1.000000  1.000000  1.333333   \n",
              "..        ...       ...       ...       ...       ...       ...       ...   \n",
              "128  4.000000  4.666667  3.333333  2.000000  2.000000  5.000000  4.000000   \n",
              "129  3.000000  4.333333  4.333333  1.333333  2.000000  4.666667  2.000000   \n",
              "130 -1.000000 -1.000000 -1.000000 -1.000000 -1.000000  4.666667  3.000000   \n",
              "131  5.000000  5.000000  5.000000  5.000000  5.000000  5.000000  5.000000   \n",
              "132  5.333333  5.000000  5.333333  5.333333  5.000000  4.333333  4.666667   \n",
              "\n",
              "     CE_media  CB_media  CD_media  ...  EQUIPO_rflidbinih  EDAD_ijawrgtfuz  \\\n",
              "0    4.333333  3.666667  5.000000  ...                  0                0   \n",
              "1    6.000000  4.333333  4.000000  ...                  0                0   \n",
              "2    5.000000  3.333333  2.333333  ...                  0                0   \n",
              "3    4.666667  4.666667  3.666667  ...                  0                0   \n",
              "4    2.000000  4.000000  5.000000  ...                  0                0   \n",
              "..        ...       ...       ...  ...                ...              ...   \n",
              "128  4.333333  3.000000  2.333333  ...                  0                0   \n",
              "129  3.333333  3.333333  4.333333  ...                  0                0   \n",
              "130  3.666667  3.000000  3.000000  ...                  0                0   \n",
              "131  5.000000  5.000000  5.000000  ...                  0                0   \n",
              "132  5.000000  3.000000  3.333333  ...                  0                0   \n",
              "\n",
              "     EDAD_omygfsbzgq  EDAD_pqgwhrmfdu  EDAD_qmsudmubli  EDAD_vjekcogdhn  \\\n",
              "0                  0                1                0                0   \n",
              "1                  0                1                0                0   \n",
              "2                  1                0                0                0   \n",
              "3                  0                1                0                0   \n",
              "4                  0                1                0                0   \n",
              "..               ...              ...              ...              ...   \n",
              "128                0                0                1                0   \n",
              "129                0                0                1                0   \n",
              "130                0                0                1                0   \n",
              "131                0                0                1                0   \n",
              "132                0                0                1                0   \n",
              "\n",
              "     GENERO_Femenino  GENERO_Masculino  GENERO_No binario  Cluster  \n",
              "0                  0                 1                  0        1  \n",
              "1                  0                 1                  0        1  \n",
              "2                  1                 0                  0        1  \n",
              "3                  0                 1                  0        4  \n",
              "4                  0                 1                  0        0  \n",
              "..               ...               ...                ...      ...  \n",
              "128                0                 0                  0        4  \n",
              "129                0                 0                  0        0  \n",
              "130                0                 0                  0        5  \n",
              "131                0                 0                  0        1  \n",
              "132                0                 0                  0        1  \n",
              "\n",
              "[133 rows x 46 columns]"
            ],
            "text/html": [
              "\n",
              "  <div id=\"df-0be520a8-7b39-4c3b-b749-fd8b020b27bf\">\n",
              "    <div class=\"colab-df-container\">\n",
              "      <div>\n",
              "<style scoped>\n",
              "    .dataframe tbody tr th:only-of-type {\n",
              "        vertical-align: middle;\n",
              "    }\n",
              "\n",
              "    .dataframe tbody tr th {\n",
              "        vertical-align: top;\n",
              "    }\n",
              "\n",
              "    .dataframe thead th {\n",
              "        text-align: right;\n",
              "    }\n",
              "</style>\n",
              "<table border=\"1\" class=\"dataframe\">\n",
              "  <thead>\n",
              "    <tr style=\"text-align: right;\">\n",
              "      <th></th>\n",
              "      <th>V_media</th>\n",
              "      <th>SA_media</th>\n",
              "      <th>SI_media</th>\n",
              "      <th>SP_media</th>\n",
              "      <th>SF_media</th>\n",
              "      <th>CL_media</th>\n",
              "      <th>CH_media</th>\n",
              "      <th>CE_media</th>\n",
              "      <th>CB_media</th>\n",
              "      <th>CD_media</th>\n",
              "      <th>...</th>\n",
              "      <th>EQUIPO_rflidbinih</th>\n",
              "      <th>EDAD_ijawrgtfuz</th>\n",
              "      <th>EDAD_omygfsbzgq</th>\n",
              "      <th>EDAD_pqgwhrmfdu</th>\n",
              "      <th>EDAD_qmsudmubli</th>\n",
              "      <th>EDAD_vjekcogdhn</th>\n",
              "      <th>GENERO_Femenino</th>\n",
              "      <th>GENERO_Masculino</th>\n",
              "      <th>GENERO_No binario</th>\n",
              "      <th>Cluster</th>\n",
              "    </tr>\n",
              "  </thead>\n",
              "  <tbody>\n",
              "    <tr>\n",
              "      <th>0</th>\n",
              "      <td>4.333333</td>\n",
              "      <td>5.000000</td>\n",
              "      <td>4.666667</td>\n",
              "      <td>3.000000</td>\n",
              "      <td>4.000000</td>\n",
              "      <td>5.000000</td>\n",
              "      <td>4.000000</td>\n",
              "      <td>4.333333</td>\n",
              "      <td>3.666667</td>\n",
              "      <td>5.000000</td>\n",
              "      <td>...</td>\n",
              "      <td>0</td>\n",
              "      <td>0</td>\n",
              "      <td>0</td>\n",
              "      <td>1</td>\n",
              "      <td>0</td>\n",
              "      <td>0</td>\n",
              "      <td>0</td>\n",
              "      <td>1</td>\n",
              "      <td>0</td>\n",
              "      <td>1</td>\n",
              "    </tr>\n",
              "    <tr>\n",
              "      <th>1</th>\n",
              "      <td>4.000000</td>\n",
              "      <td>5.000000</td>\n",
              "      <td>5.000000</td>\n",
              "      <td>2.000000</td>\n",
              "      <td>4.666667</td>\n",
              "      <td>5.000000</td>\n",
              "      <td>5.333333</td>\n",
              "      <td>6.000000</td>\n",
              "      <td>4.333333</td>\n",
              "      <td>4.000000</td>\n",
              "      <td>...</td>\n",
              "      <td>0</td>\n",
              "      <td>0</td>\n",
              "      <td>0</td>\n",
              "      <td>1</td>\n",
              "      <td>0</td>\n",
              "      <td>0</td>\n",
              "      <td>0</td>\n",
              "      <td>1</td>\n",
              "      <td>0</td>\n",
              "      <td>1</td>\n",
              "    </tr>\n",
              "    <tr>\n",
              "      <th>2</th>\n",
              "      <td>4.666667</td>\n",
              "      <td>4.000000</td>\n",
              "      <td>4.666667</td>\n",
              "      <td>3.000000</td>\n",
              "      <td>4.333333</td>\n",
              "      <td>5.000000</td>\n",
              "      <td>5.000000</td>\n",
              "      <td>5.000000</td>\n",
              "      <td>3.333333</td>\n",
              "      <td>2.333333</td>\n",
              "      <td>...</td>\n",
              "      <td>0</td>\n",
              "      <td>0</td>\n",
              "      <td>1</td>\n",
              "      <td>0</td>\n",
              "      <td>0</td>\n",
              "      <td>0</td>\n",
              "      <td>1</td>\n",
              "      <td>0</td>\n",
              "      <td>0</td>\n",
              "      <td>1</td>\n",
              "    </tr>\n",
              "    <tr>\n",
              "      <th>3</th>\n",
              "      <td>5.000000</td>\n",
              "      <td>5.000000</td>\n",
              "      <td>5.000000</td>\n",
              "      <td>4.000000</td>\n",
              "      <td>4.000000</td>\n",
              "      <td>4.666667</td>\n",
              "      <td>4.666667</td>\n",
              "      <td>4.666667</td>\n",
              "      <td>4.666667</td>\n",
              "      <td>3.666667</td>\n",
              "      <td>...</td>\n",
              "      <td>0</td>\n",
              "      <td>0</td>\n",
              "      <td>0</td>\n",
              "      <td>1</td>\n",
              "      <td>0</td>\n",
              "      <td>0</td>\n",
              "      <td>0</td>\n",
              "      <td>1</td>\n",
              "      <td>0</td>\n",
              "      <td>4</td>\n",
              "    </tr>\n",
              "    <tr>\n",
              "      <th>4</th>\n",
              "      <td>2.000000</td>\n",
              "      <td>1.000000</td>\n",
              "      <td>4.666667</td>\n",
              "      <td>1.000000</td>\n",
              "      <td>1.000000</td>\n",
              "      <td>1.000000</td>\n",
              "      <td>1.333333</td>\n",
              "      <td>2.000000</td>\n",
              "      <td>4.000000</td>\n",
              "      <td>5.000000</td>\n",
              "      <td>...</td>\n",
              "      <td>0</td>\n",
              "      <td>0</td>\n",
              "      <td>0</td>\n",
              "      <td>1</td>\n",
              "      <td>0</td>\n",
              "      <td>0</td>\n",
              "      <td>0</td>\n",
              "      <td>1</td>\n",
              "      <td>0</td>\n",
              "      <td>0</td>\n",
              "    </tr>\n",
              "    <tr>\n",
              "      <th>...</th>\n",
              "      <td>...</td>\n",
              "      <td>...</td>\n",
              "      <td>...</td>\n",
              "      <td>...</td>\n",
              "      <td>...</td>\n",
              "      <td>...</td>\n",
              "      <td>...</td>\n",
              "      <td>...</td>\n",
              "      <td>...</td>\n",
              "      <td>...</td>\n",
              "      <td>...</td>\n",
              "      <td>...</td>\n",
              "      <td>...</td>\n",
              "      <td>...</td>\n",
              "      <td>...</td>\n",
              "      <td>...</td>\n",
              "      <td>...</td>\n",
              "      <td>...</td>\n",
              "      <td>...</td>\n",
              "      <td>...</td>\n",
              "      <td>...</td>\n",
              "    </tr>\n",
              "    <tr>\n",
              "      <th>128</th>\n",
              "      <td>4.000000</td>\n",
              "      <td>4.666667</td>\n",
              "      <td>3.333333</td>\n",
              "      <td>2.000000</td>\n",
              "      <td>2.000000</td>\n",
              "      <td>5.000000</td>\n",
              "      <td>4.000000</td>\n",
              "      <td>4.333333</td>\n",
              "      <td>3.000000</td>\n",
              "      <td>2.333333</td>\n",
              "      <td>...</td>\n",
              "      <td>0</td>\n",
              "      <td>0</td>\n",
              "      <td>0</td>\n",
              "      <td>0</td>\n",
              "      <td>1</td>\n",
              "      <td>0</td>\n",
              "      <td>0</td>\n",
              "      <td>0</td>\n",
              "      <td>0</td>\n",
              "      <td>4</td>\n",
              "    </tr>\n",
              "    <tr>\n",
              "      <th>129</th>\n",
              "      <td>3.000000</td>\n",
              "      <td>4.333333</td>\n",
              "      <td>4.333333</td>\n",
              "      <td>1.333333</td>\n",
              "      <td>2.000000</td>\n",
              "      <td>4.666667</td>\n",
              "      <td>2.000000</td>\n",
              "      <td>3.333333</td>\n",
              "      <td>3.333333</td>\n",
              "      <td>4.333333</td>\n",
              "      <td>...</td>\n",
              "      <td>0</td>\n",
              "      <td>0</td>\n",
              "      <td>0</td>\n",
              "      <td>0</td>\n",
              "      <td>1</td>\n",
              "      <td>0</td>\n",
              "      <td>0</td>\n",
              "      <td>0</td>\n",
              "      <td>0</td>\n",
              "      <td>0</td>\n",
              "    </tr>\n",
              "    <tr>\n",
              "      <th>130</th>\n",
              "      <td>-1.000000</td>\n",
              "      <td>-1.000000</td>\n",
              "      <td>-1.000000</td>\n",
              "      <td>-1.000000</td>\n",
              "      <td>-1.000000</td>\n",
              "      <td>4.666667</td>\n",
              "      <td>3.000000</td>\n",
              "      <td>3.666667</td>\n",
              "      <td>3.000000</td>\n",
              "      <td>3.000000</td>\n",
              "      <td>...</td>\n",
              "      <td>0</td>\n",
              "      <td>0</td>\n",
              "      <td>0</td>\n",
              "      <td>0</td>\n",
              "      <td>1</td>\n",
              "      <td>0</td>\n",
              "      <td>0</td>\n",
              "      <td>0</td>\n",
              "      <td>0</td>\n",
              "      <td>5</td>\n",
              "    </tr>\n",
              "    <tr>\n",
              "      <th>131</th>\n",
              "      <td>5.000000</td>\n",
              "      <td>5.000000</td>\n",
              "      <td>5.000000</td>\n",
              "      <td>5.000000</td>\n",
              "      <td>5.000000</td>\n",
              "      <td>5.000000</td>\n",
              "      <td>5.000000</td>\n",
              "      <td>5.000000</td>\n",
              "      <td>5.000000</td>\n",
              "      <td>5.000000</td>\n",
              "      <td>...</td>\n",
              "      <td>0</td>\n",
              "      <td>0</td>\n",
              "      <td>0</td>\n",
              "      <td>0</td>\n",
              "      <td>1</td>\n",
              "      <td>0</td>\n",
              "      <td>0</td>\n",
              "      <td>0</td>\n",
              "      <td>0</td>\n",
              "      <td>1</td>\n",
              "    </tr>\n",
              "    <tr>\n",
              "      <th>132</th>\n",
              "      <td>5.333333</td>\n",
              "      <td>5.000000</td>\n",
              "      <td>5.333333</td>\n",
              "      <td>5.333333</td>\n",
              "      <td>5.000000</td>\n",
              "      <td>4.333333</td>\n",
              "      <td>4.666667</td>\n",
              "      <td>5.000000</td>\n",
              "      <td>3.000000</td>\n",
              "      <td>3.333333</td>\n",
              "      <td>...</td>\n",
              "      <td>0</td>\n",
              "      <td>0</td>\n",
              "      <td>0</td>\n",
              "      <td>0</td>\n",
              "      <td>1</td>\n",
              "      <td>0</td>\n",
              "      <td>0</td>\n",
              "      <td>0</td>\n",
              "      <td>0</td>\n",
              "      <td>1</td>\n",
              "    </tr>\n",
              "  </tbody>\n",
              "</table>\n",
              "<p>133 rows × 46 columns</p>\n",
              "</div>\n",
              "      <button class=\"colab-df-convert\" onclick=\"convertToInteractive('df-0be520a8-7b39-4c3b-b749-fd8b020b27bf')\"\n",
              "              title=\"Convert this dataframe to an interactive table.\"\n",
              "              style=\"display:none;\">\n",
              "        \n",
              "  <svg xmlns=\"http://www.w3.org/2000/svg\" height=\"24px\"viewBox=\"0 0 24 24\"\n",
              "       width=\"24px\">\n",
              "    <path d=\"M0 0h24v24H0V0z\" fill=\"none\"/>\n",
              "    <path d=\"M18.56 5.44l.94 2.06.94-2.06 2.06-.94-2.06-.94-.94-2.06-.94 2.06-2.06.94zm-11 1L8.5 8.5l.94-2.06 2.06-.94-2.06-.94L8.5 2.5l-.94 2.06-2.06.94zm10 10l.94 2.06.94-2.06 2.06-.94-2.06-.94-.94-2.06-.94 2.06-2.06.94z\"/><path d=\"M17.41 7.96l-1.37-1.37c-.4-.4-.92-.59-1.43-.59-.52 0-1.04.2-1.43.59L10.3 9.45l-7.72 7.72c-.78.78-.78 2.05 0 2.83L4 21.41c.39.39.9.59 1.41.59.51 0 1.02-.2 1.41-.59l7.78-7.78 2.81-2.81c.8-.78.8-2.07 0-2.86zM5.41 20L4 18.59l7.72-7.72 1.47 1.35L5.41 20z\"/>\n",
              "  </svg>\n",
              "      </button>\n",
              "      \n",
              "  <style>\n",
              "    .colab-df-container {\n",
              "      display:flex;\n",
              "      flex-wrap:wrap;\n",
              "      gap: 12px;\n",
              "    }\n",
              "\n",
              "    .colab-df-convert {\n",
              "      background-color: #E8F0FE;\n",
              "      border: none;\n",
              "      border-radius: 50%;\n",
              "      cursor: pointer;\n",
              "      display: none;\n",
              "      fill: #1967D2;\n",
              "      height: 32px;\n",
              "      padding: 0 0 0 0;\n",
              "      width: 32px;\n",
              "    }\n",
              "\n",
              "    .colab-df-convert:hover {\n",
              "      background-color: #E2EBFA;\n",
              "      box-shadow: 0px 1px 2px rgba(60, 64, 67, 0.3), 0px 1px 3px 1px rgba(60, 64, 67, 0.15);\n",
              "      fill: #174EA6;\n",
              "    }\n",
              "\n",
              "    [theme=dark] .colab-df-convert {\n",
              "      background-color: #3B4455;\n",
              "      fill: #D2E3FC;\n",
              "    }\n",
              "\n",
              "    [theme=dark] .colab-df-convert:hover {\n",
              "      background-color: #434B5C;\n",
              "      box-shadow: 0px 1px 3px 1px rgba(0, 0, 0, 0.15);\n",
              "      filter: drop-shadow(0px 1px 2px rgba(0, 0, 0, 0.3));\n",
              "      fill: #FFFFFF;\n",
              "    }\n",
              "  </style>\n",
              "\n",
              "      <script>\n",
              "        const buttonEl =\n",
              "          document.querySelector('#df-0be520a8-7b39-4c3b-b749-fd8b020b27bf button.colab-df-convert');\n",
              "        buttonEl.style.display =\n",
              "          google.colab.kernel.accessAllowed ? 'block' : 'none';\n",
              "\n",
              "        async function convertToInteractive(key) {\n",
              "          const element = document.querySelector('#df-0be520a8-7b39-4c3b-b749-fd8b020b27bf');\n",
              "          const dataTable =\n",
              "            await google.colab.kernel.invokeFunction('convertToInteractive',\n",
              "                                                     [key], {});\n",
              "          if (!dataTable) return;\n",
              "\n",
              "          const docLinkHtml = 'Like what you see? Visit the ' +\n",
              "            '<a target=\"_blank\" href=https://colab.research.google.com/notebooks/data_table.ipynb>data table notebook</a>'\n",
              "            + ' to learn more about interactive tables.';\n",
              "          element.innerHTML = '';\n",
              "          dataTable['output_type'] = 'display_data';\n",
              "          await google.colab.output.renderOutput(dataTable, element);\n",
              "          const docLink = document.createElement('div');\n",
              "          docLink.innerHTML = docLinkHtml;\n",
              "          element.appendChild(docLink);\n",
              "        }\n",
              "      </script>\n",
              "    </div>\n",
              "  </div>\n",
              "  "
            ]
          },
          "metadata": {},
          "execution_count": 3
        }
      ]
    },
    {
      "cell_type": "code",
      "execution_count": 4,
      "id": "1155781a-5ef4-4e7c-9f60-2e722f00314d",
      "metadata": {
        "id": "1155781a-5ef4-4e7c-9f60-2e722f00314d"
      },
      "outputs": [],
      "source": [
        "# Dividir los datos en características (X) y etiquetas (y)\n",
        "X = data.drop('Cluster', axis=1)  # nombre de la columna objetivo, en este caso AREA\n",
        "y = data['Cluster']\n",
        "\n",
        "etiquetas=np.unique(y)\n",
        "\n",
        "# Dividir los datos en conjuntos de entrenamiento y prueba\n",
        "X_train, X_test, y_train, y_test = train_test_split(X, y, test_size=0.2, random_state=42)"
      ]
    },
    {
      "cell_type": "markdown",
      "source": [
        "## Creación del Modelo (sin validación cruzada)\n",
        "\n"
      ],
      "metadata": {
        "id": "KJXYiyexJMxI"
      },
      "id": "KJXYiyexJMxI"
    },
    {
      "cell_type": "code",
      "execution_count": null,
      "id": "11f8a296-ef57-4556-9448-e64237d5b997",
      "metadata": {
        "id": "11f8a296-ef57-4556-9448-e64237d5b997"
      },
      "outputs": [],
      "source": [
        "# Crear el modelo SVM\n",
        "modelAdaBoost = AdaBoostClassifier(n_estimators=500,learning_rate=2,  algorithm=\"SAMME\")"
      ]
    },
    {
      "cell_type": "code",
      "source": [
        "# Entrenar el modelo\n",
        "history = modelAdaBoost.fit(X_train, y_train)"
      ],
      "metadata": {
        "id": "Aa-Ux-Pv2-RN"
      },
      "id": "Aa-Ux-Pv2-RN",
      "execution_count": null,
      "outputs": []
    },
    {
      "cell_type": "markdown",
      "source": [
        "## Predicciones y resultados"
      ],
      "metadata": {
        "id": "1j_qvOfYLqWH"
      },
      "id": "1j_qvOfYLqWH"
    },
    {
      "cell_type": "code",
      "execution_count": null,
      "id": "99f9ea5c-1bc6-46f7-8a9a-e525dd2f1542",
      "metadata": {
        "colab": {
          "base_uri": "https://localhost:8080/"
        },
        "id": "99f9ea5c-1bc6-46f7-8a9a-e525dd2f1542",
        "outputId": "80063aa4-dca7-4cd7-c67a-e0973b042846"
      },
      "outputs": [
        {
          "output_type": "stream",
          "name": "stdout",
          "text": [
            "Precisión: 0.9259259259259259\n"
          ]
        }
      ],
      "source": [
        "# Realizar predicciones en el conjunto de prueba\n",
        "y_pred = modelAdaBoost.predict(X_test)\n",
        "\n",
        "# Calcular la precisión del modelo\n",
        "accuracy = accuracy_score(y_test, y_pred)\n",
        "print(\"Precisión:\", accuracy)"
      ]
    },
    {
      "cell_type": "code",
      "source": [
        "y_test"
      ],
      "metadata": {
        "colab": {
          "base_uri": "https://localhost:8080/"
        },
        "id": "nIRJEWEfvDlp",
        "outputId": "a3171726-6025-4b1a-d8fb-48afcbd5096d"
      },
      "id": "nIRJEWEfvDlp",
      "execution_count": null,
      "outputs": [
        {
          "output_type": "execute_result",
          "data": {
            "text/plain": [
              "51     1\n",
              "69     1\n",
              "31     4\n",
              "42     1\n",
              "117    4\n",
              "77     0\n",
              "127    4\n",
              "56     1\n",
              "40     1\n",
              "12     7\n",
              "81     0\n",
              "26     1\n",
              "108    0\n",
              "100    0\n",
              "66     1\n",
              "83     0\n",
              "4      0\n",
              "27     0\n",
              "19     1\n",
              "123    4\n",
              "36     1\n",
              "16     1\n",
              "18     1\n",
              "10     1\n",
              "65     1\n",
              "44     1\n",
              "11     7\n",
              "Name: Cluster, dtype: int64"
            ]
          },
          "metadata": {},
          "execution_count": 10
        }
      ]
    },
    {
      "cell_type": "code",
      "source": [
        "# Resultados\n",
        "resultados = modelAdaBoost.predict(X_test)\n",
        "resultados_maximos = []\n",
        "#for i in resultados:\n",
        "#  resultados_maximos.append(np.where(i==i.max()))\n",
        "#  resultados_maximos= [int(tupla[0]) for tupla in resultados_maximos]\n",
        "\n",
        "# Generación del informe de clasificación\n",
        "print(\"\\n\", classification_report(y_pred,y_test, zero_division=True))"
      ],
      "metadata": {
        "colab": {
          "base_uri": "https://localhost:8080/"
        },
        "id": "EFZFExArKplS",
        "outputId": "543d481e-c3b0-4e65-b04b-80e18e409bc1"
      },
      "id": "EFZFExArKplS",
      "execution_count": null,
      "outputs": [
        {
          "output_type": "stream",
          "name": "stdout",
          "text": [
            "\n",
            "               precision    recall  f1-score   support\n",
            "\n",
            "           0       0.86      1.00      0.92         6\n",
            "           1       0.93      1.00      0.96        13\n",
            "           4       1.00      0.67      0.80         6\n",
            "           7       1.00      1.00      1.00         2\n",
            "\n",
            "    accuracy                           0.93        27\n",
            "   macro avg       0.95      0.92      0.92        27\n",
            "weighted avg       0.93      0.93      0.92        27\n",
            "\n"
          ]
        }
      ]
    },
    {
      "cell_type": "code",
      "source": [
        "# Matriz de confusión\n",
        "cm = confusion_matrix(y_test, y_pred, labels=etiquetas)\n",
        "# Visualizar matriz de confusión\n",
        "plt.figure(figsize=(8, 6))\n",
        "plt.imshow(cm, interpolation='nearest', cmap=plt.cm.Blues)\n",
        "plt.title('Matriz de Confusión')\n",
        "plt.colorbar()\n",
        "#classes = ['GENERO_Femenino', 'GENERO_Masculino']  # Ajustar las etiquetas de clase según los datos\n",
        "#tick_marks = np.arange(len(classes))\n",
        "#plt.xticks(tick_marks, classes)\n",
        "#plt.yticks(tick_marks, classes)\n",
        "plt.xlabel('Etiqueta Predicha')\n",
        "plt.ylabel('Etiqueta Real')\n",
        "plt.show()\n"
      ],
      "metadata": {
        "colab": {
          "base_uri": "https://localhost:8080/",
          "height": 564
        },
        "id": "VGvPhzjcEUUu",
        "outputId": "b2c6289b-6738-43c1-b7f7-d70bffd8fabc"
      },
      "id": "VGvPhzjcEUUu",
      "execution_count": null,
      "outputs": [
        {
          "output_type": "display_data",
          "data": {
            "text/plain": [
              "<Figure size 800x600 with 2 Axes>"
            ],
            "image/png": "[encoded data removed]"
          },
          "metadata": {}
        }
      ]
    },
    {
      "cell_type": "code",
      "source": [
        "# Crear el heatmap de la matriz de confusión\n",
        "plt.figure(figsize=(8,6))\n",
        "sns.heatmap(cm, annot=cm, fmt='d', cmap='Blues')\n",
        "plt.xlabel(\"Predicción\")\n",
        "plt.ylabel(\"Clase Real\")\n",
        "plt.title(\"Matriz de Confusión\")\n",
        "plt.show()"
      ],
      "metadata": {
        "colab": {
          "base_uri": "https://localhost:8080/",
          "height": 564
        },
        "id": "PnwQV6H99D6E",
        "outputId": "1f247a3e-42ee-43ec-830a-148c0cfbe9d8"
      },
      "id": "PnwQV6H99D6E",
      "execution_count": null,
      "outputs": [
        {
          "output_type": "display_data",
          "data": {
            "text/plain": [
              "<Figure size 800x600 with 2 Axes>"
            ],
            "image/png": "[encoded data removed]"
          },
          "metadata": {}
        }
      ]
    },
    {
      "cell_type": "markdown",
      "source": [
        "###Hay que tener en cuenta que al interpretar el F1-score en conjuntos de datos pequeños, es el caso,, es importante considerar el contexto y tener en cuenta otras métricas y factores relevantes. Además, es recomendable utilizar técnicas de validación cruzada o remuestreo adecuadas para asegurarse de que la evaluación sea robusta y representativa del desempeño general del modelo."
      ],
      "metadata": {
        "id": "KDpo8KFDjb6O"
      },
      "id": "KDpo8KFDjb6O"
    },
    {
      "cell_type": "markdown",
      "source": [
        "## Creación del Modelo (con validación cruzada)"
      ],
      "metadata": {
        "id": "RHzBA7J0jPaM"
      },
      "id": "RHzBA7J0jPaM"
    },
    {
      "cell_type": "code",
      "source": [
        "# Definir el número de folds\n",
        "k = 5\n",
        "\n",
        "# Crear un objeto de validación cruzada k-fold\n",
        "kfold = KFold(n_splits=k, shuffle=True, random_state=42)"
      ],
      "metadata": {
        "id": "Mb24R28pBBX7"
      },
      "id": "Mb24R28pBBX7",
      "execution_count": 5,
      "outputs": []
    },
    {
      "cell_type": "code",
      "source": [
        "# Crear una instancia de tu modelo\n",
        "model = AdaBoostClassifier()  # Utilizamos directamente AdaBoostClassifier como el modelo"
      ],
      "metadata": {
        "id": "jmXGLTn9jgb1"
      },
      "id": "jmXGLTn9jgb1",
      "execution_count": 6,
      "outputs": []
    },
    {
      "cell_type": "code",
      "source": [
        "# Realizar validación cruzada\n",
        "scores = cross_val_score(model, X, y, cv=kfold, scoring='f1_macro')\n",
        "\n",
        "# Imprimir los resultados de cada fold\n",
        "for i, score in enumerate(scores):\n",
        "    print(f\"F1-score en el fold {i+1}: {score}\")\n",
        "\n",
        "# Imprimir el promedio y la desviación estándar de los resultados\n",
        "print(f\"Promedio del F1-score: {scores.mean()}\")\n",
        "print(f\"Desviación estándar del F1-score: {scores.std()}\")"
      ],
      "metadata": {
        "colab": {
          "base_uri": "https://localhost:8080/"
        },
        "id": "fptB4vvMj2HN",
        "outputId": "87fcdcc5-5473-49c3-8cdf-da2f2dc13ce3"
      },
      "id": "fptB4vvMj2HN",
      "execution_count": 7,
      "outputs": [
        {
          "output_type": "stream",
          "name": "stdout",
          "text": [
            "F1-score en el fold 1: 0.4367365967365967\n",
            "F1-score en el fold 2: 0.6132756132756132\n",
            "F1-score en el fold 3: 0.2857142857142857\n",
            "F1-score en el fold 4: 0.5066666666666666\n",
            "F1-score en el fold 5: 0.5469399881164586\n",
            "Promedio del F1-score: 0.4778666301019242\n",
            "Desviación estándar del F1-score: 0.11184843916297223\n"
          ]
        }
      ]
    }
  ],
  "metadata": {
    "kernelspec": {
      "display_name": "Python 3 (ipykernel)",
      "language": "python",
      "name": "python3"
    },
    "language_info": {
      "codemirror_mode": {
        "name": "ipython",
        "version": 3
      },
      "file_extension": ".py",
      "mimetype": "text/x-python",
      "name": "python",
      "nbconvert_exporter": "python",
      "pygments_lexer": "ipython3",
      "version": "3.9.12"
    },
    "colab": {
      "provenance": []
    }
  },
  "nbformat": 4,
  "nbformat_minor": 5
}