{
  "nbformat": 4,
  "nbformat_minor": 0,
  "metadata": {
    "colab": {
      "provenance": [],
      "authorship_tag": "ABX9TyOiE/1PxwDa/DLlsQwhIDg3",
      "include_colab_link": true
    },
    "kernelspec": {
      "name": "python3",
      "display_name": "Python 3"
    },
    "language_info": {
      "name": "python"
    }
  },
  "cells": [
    {
      "cell_type": "markdown",
      "metadata": {
        "id": "view-in-github",
        "colab_type": "text"
      },
      "source": [
        "<a href=\"https://colab.research.google.com/github/mbaroja/TFM/blob/code/AffinityPropagation.ipynb\" target=\"_parent\"><img src=\"https://colab.research.google.com/assets/colab-badge.svg\" alt=\"Open In Colab\"/></a>"
      ]
    },
    {
      "cell_type": "markdown",
      "source": [
        "# **Affinity Propagation clustering**\n",
        "\n",
        "Matriz de responsabilidad: importancia de cada punto de datos\n",
        "\n",
        "Matriz de disponibilidad: cantidad de vecinos de cada punto\n",
        "\n",
        "Matriz de similitud: cuanto más cercanos más similares\n",
        "\n",
        "Ejemplares: puntos con mayor responsabilidad y disponiblidad\n",
        "\n",
        "### Hiperparámetros\n",
        "Este algoritmo no requiere determinar el número de clústeres antes de su ejecución, siendo el propio algoritmo el que encuentra el nº óptimo.\n",
        "\n",
        "*   **damping**: factor de amortiguación que evita oscilaciones numéricas al actualizar mensajes. Rango [0.5, 1.0) a mayor damping, menos clusters\n",
        "*   **affinity**: distandia euclídea (por defecto) o precalculada\n",
        "*   **converge_iter**: nº de iteraciones sin cambiar el nº de clusters estimados antes de converger\n",
        "*   **preference**: (none por defecto == la media de la matriz de similitud) basado en la matriz de responsablidad y disponibilidad. Recomendable muy baja, asociado al nº de clusters controla cuántos ejemplares se utilizan.\n",
        "*   **max_iter**: nº máximo de iteraciones"
      ],
      "metadata": {
        "id": "tdU1nzaOpwSK"
      }
    },
    {
      "cell_type": "markdown",
      "source": [
        "# **Librerías**"
      ],
      "metadata": {
        "id": "322JlTqrL7wT"
      }
    },
    {
      "cell_type": "code",
      "execution_count": 13,
      "metadata": {
        "id": "4aVUWwrMHy_Z"
      },
      "outputs": [],
      "source": [
        "import pandas as pd\n",
        "import numpy as np\n",
        "import matplotlib.pyplot as plt\n",
        "import seaborn as sns\n",
        "from sklearn.cluster import AffinityPropagation\n",
        "from sklearn.decomposition import PCA\n",
        "from sklearn import metrics\n",
        "from sklearn.metrics import silhouette_score, silhouette_samples"
      ]
    },
    {
      "cell_type": "markdown",
      "source": [
        "# **Datos**\n",
        "Trabajaremos con 3 ficheros previamente anonimizados y preprocesados (eliminación de filas con todos los valores nulos y relleno de vacíos según los criterios establecidos en el EDA https://github.com/mbaroja/TFM/blob/code/EDA.ipynb):\n",
        "\n",
        "*   **df_without_avg**: Fichero base, sin medias: 133 x 86\n",
        "*   **df_only_avg**: Fichero solo con medias: 133 x 29\n",
        "*   **df_total**: Fichero completo: 133 x 110\n",
        "\n"
      ],
      "metadata": {
        "id": "TIyOJU56MFjL"
      }
    },
    {
      "cell_type": "code",
      "source": [
        "df_total = pd.read_csv('https://raw.githubusercontent.com/mbaroja/TFM/data/data_cleaned.csv', delimiter=';')\n",
        "df_only_avg = pd.read_csv(\"https://raw.githubusercontent.com/mbaroja/TFM/data/data_cleaned_only_avgcolumns.csv\",delimiter=\";\")\n",
        "df_without_avg = pd.read_csv(\"https://raw.githubusercontent.com/mbaroja/TFM/data/data_cleaned_without_avgcolumns.csv\",delimiter=\";\")"
      ],
      "metadata": {
        "id": "8__Ta4ELIFxb"
      },
      "execution_count": 14,
      "outputs": []
    },
    {
      "cell_type": "markdown",
      "source": [
        "####**Transformación**\n",
        "*Aunque el algoritmo permite trabajar con datos mixtos, númericos y categóricos y pueda ocurrir que la agrupación de una variable categórica convertida en númerica no obtenga el mismo resultado, trabajaremos con datos numéricos en todos los algoritmos de clasificación no supervisada.*"
      ],
      "metadata": {
        "id": "IGh7NXwo9EeW"
      }
    },
    {
      "cell_type": "code",
      "source": [
        "def transformData (df):\n",
        "  #identificar las columnas que contienen valores de texto en el conjunto de datos\n",
        "  data_text = df.select_dtypes(include='object')\n",
        "  # aplicar la codificación one-hot utilizando el método get_dummies de Pandas para convertir esas columnas en columnas numéricas\n",
        "  data_encoded = pd.get_dummies(data_text)\n",
        "  #una vez que preprocesados los datos, combinar las columnas numéricas procesadas con el resto del conjunto de datos.\n",
        "  data_numeric = df.select_dtypes(exclude='object')\n",
        "  data_processed = pd.concat([data_numeric, data_encoded], axis=1)\n",
        "  return data_processed"
      ],
      "metadata": {
        "id": "Oai0wvzlGxOL"
      },
      "execution_count": 15,
      "outputs": []
    },
    {
      "cell_type": "markdown",
      "source": [
        "# *Métodos para visualización*"
      ],
      "metadata": {
        "id": "HCfipC4qAKtQ"
      }
    },
    {
      "cell_type": "markdown",
      "source": [
        "> **Plot resultado: nº de clusters estimados**"
      ],
      "metadata": {
        "id": "AdcjJObcCqGC"
      }
    },
    {
      "cell_type": "code",
      "source": [
        "def plot_num_cluster (X, n_clusters_, labels, cluster_centers_indices):\n",
        "\n",
        "  plt.close(\"all\")\n",
        "  plt.figure(1)\n",
        "  plt.clf()\n",
        "\n",
        "  colors = plt.cycler(\"color\", plt.cm.viridis(np.linspace(0, 1, 4)))\n",
        "\n",
        "  for k, col in zip(range(n_clusters_), colors):\n",
        "      class_members = labels == k\n",
        "      cluster_center = X[cluster_centers_indices[k]]\n",
        "      plt.scatter(X[class_members, 0], X[class_members, 1], color=col[\"color\"], marker=\".\")\n",
        "      plt.scatter(cluster_center[0], cluster_center[1], s=14, color=col[\"color\"], marker=\"o\")\n",
        "      for x in X[class_members]:\n",
        "          plt.plot([cluster_center[0], x[0]], [cluster_center[1], x[1]], color=col[\"color\"])\n",
        "\n",
        "  plt.title(\"Estimated number of clusters: %d\" % n_clusters_)\n",
        "  plt.show()"
      ],
      "metadata": {
        "id": "mbq75rePu0cE"
      },
      "execution_count": 16,
      "outputs": []
    },
    {
      "cell_type": "markdown",
      "source": [
        "> **Plot: Silhouette score según *preference***\n"
      ],
      "metadata": {
        "id": "rrmPut1m_Rww"
      }
    },
    {
      "cell_type": "code",
      "source": [
        "def plot_sil_pref (ap_results, pref):\n",
        "  fig, ax = plt.subplots(figsize=(8,3))\n",
        "  ax = sns.lineplot(ap_results, x='preference', y='sil_score', markers=True, dashes=False, hue='clusters')\n",
        "  ax.set_xlabel(\"Preference\")\n",
        "  ax.set_ylabel(\"Silhouette score\")\n",
        "  ax.axvline(pref, ls=\"--\", c=\"red\")\n",
        "  plt.grid()\n",
        "  plt.show()"
      ],
      "metadata": {
        "id": "58QkcjHSRykJ"
      },
      "execution_count": 17,
      "outputs": []
    },
    {
      "cell_type": "markdown",
      "source": [
        "> **Heatmap de características**"
      ],
      "metadata": {
        "id": "HtC91ciNVs7e"
      }
    },
    {
      "cell_type": "code",
      "source": [
        "def heatMap (data_processed, labels, n_clusters_):\n",
        "  # Agregar las etiquetas de clúster a los datos procesados\n",
        "  data_processed['Cluster'] = labels\n",
        "\n",
        "  # Crear el heatmap\n",
        "  sns.heatmap(data_processed.T, cmap='coolwarm', cbar=False)\n",
        "  plt.title('Clustered Data Heatmap n_clusters=%d' % n_clusters_)\n",
        "  plt.show()"
      ],
      "metadata": {
        "id": "Nk72qcDHGUSj"
      },
      "execution_count": 6,
      "outputs": []
    },
    {
      "cell_type": "markdown",
      "source": [
        "> **Gráfico de dispersión**"
      ],
      "metadata": {
        "id": "ruXlr3RLyIcH"
      }
    },
    {
      "cell_type": "code",
      "source": [
        "def plot_dispersion(X, labels):\n",
        "\n",
        "  # Aplicar PCA para reducir a 2 dimensiones\n",
        "  pca = PCA(n_components=2)\n",
        "  X_pca = pca.fit_transform(X)\n",
        "\n",
        "  # X_pca[:, 0] son los valores en el eje x\n",
        "  # X_pca[:, 1] son los valores en el eje y\n",
        "  # labels son las etiquetas de los grupos\n",
        "\n",
        "  # Crea el gráfico de dispersión con colores según las etiquetas\n",
        "  plt.scatter(X_pca[:, 0], X_pca[:, 1], c=labels)\n",
        "  # Crea una leyenda o mapa de colores\n",
        "  plt.colorbar()\n",
        "  # Muestra el gráfico\n",
        "  plt.show()"
      ],
      "metadata": {
        "id": "8ZC-VICHyFJu"
      },
      "execution_count": 18,
      "outputs": []
    },
    {
      "cell_type": "markdown",
      "source": [
        "> **Gráfico de dispersión con etiquetas**"
      ],
      "metadata": {
        "id": "E7k4oOKNvB-n"
      }
    },
    {
      "cell_type": "code",
      "source": [
        "def plot_dispersion_etiquetas (X, labels):\n",
        "\n",
        "  # Aplicar PCA para reducir a 2 dimensiones\n",
        "  pca = PCA(n_components=2)\n",
        "  X_pca = pca.fit_transform(X)\n",
        "\n",
        "  # X_pca[:, 0] son los valores en el eje x\n",
        "  # X_pca[:, 1] son los valores en el eje y\n",
        "  # labels son las etiquetas de los grupos\n",
        "\n",
        "  # Crea el gráfico de dispersión con colores según las etiquetas\n",
        "  plt.scatter(X_pca[:, 0], X_pca[:, 1], c=labels)\n",
        "  # Crea una leyenda o mapa de colores\n",
        "  plt.colorbar()\n",
        "  # Etiqueta cada punto con el índice de la fila correspondiente\n",
        "  for i, label in enumerate(labels):\n",
        "      plt.annotate(i, (X_pca[i, 0], X_pca[i, 1]))\n",
        "  # Muestra el gráfico\n",
        "  plt.show()"
      ],
      "metadata": {
        "id": "qJzYIAlhvKUO"
      },
      "execution_count": 19,
      "outputs": []
    },
    {
      "cell_type": "markdown",
      "source": [
        "> **Listar atributos por cluster**\n"
      ],
      "metadata": {
        "id": "rNPPP3mTwKmc"
      }
    },
    {
      "cell_type": "code",
      "source": [
        "def list_atributos_porCluster (data_processed, n_clusters_, labels):\n",
        "  # Aplicar PCA al conjunto de datos\n",
        "  pca = PCA()\n",
        "  pca.fit(data_processed)\n",
        "\n",
        "  # Obtener las componentes principales y su varianza explicada\n",
        "  components = pca.components_\n",
        "  explained_variance = pca.explained_variance_ratio_\n",
        "\n",
        "  # Obtener los índices de los atributos más importantes para cada clúster\n",
        "  important_attributes = []\n",
        "  for cluster in range(n_clusters_):\n",
        "      cluster_indices = np.where(labels == cluster)[0]\n",
        "      cluster_data = data_processed.iloc[cluster_indices]\n",
        "      cluster_scores = np.mean(cluster_data.dot(components.T), axis=0)\n",
        "      important_attributes.append(np.argsort(-np.abs(cluster_scores)))\n",
        "\n",
        "  # Nombres de los campos\n",
        "  column_names = data_processed.columns.tolist()\n",
        "\n",
        "  # Imprimir los atributos más importantes por clúster\n",
        "  for cluster, attributes in enumerate(important_attributes):\n",
        "      print(f\"Cluster {cluster+1}:\")\n",
        "      for attribute in attributes[:5]:  # Mostrar los 5 atributos más importantes\n",
        "          attribute_name = column_names[attribute]\n",
        "          attribute_mean = np.mean(data_processed.iloc[np.where(labels == cluster)[0], attribute])\n",
        "          print(f\"- Atributo n. {attribute+1}: {attribute_name} (Media: {attribute_mean})\")"
      ],
      "metadata": {
        "id": "FPtAVpXPwcyi"
      },
      "execution_count": 20,
      "outputs": []
    },
    {
      "cell_type": "markdown",
      "source": [
        "> **Listar índice de silueta media por cluster**"
      ],
      "metadata": {
        "id": "9diA2o_Pyq5U"
      }
    },
    {
      "cell_type": "code",
      "source": [
        "def list_silhoutte_porCluster(data_processed, labels):\n",
        "  # Calcular el índice de silueta para cada muestra\n",
        "  silhouette_values = silhouette_samples(data_processed, labels)\n",
        "  # Calcular el índice de silueta individual promedio para cada clúster\n",
        "  cluster_indices = sorted(set(labels))\n",
        "  for cluster_idx in cluster_indices:\n",
        "      # Obtener las muestras pertenecientes al clúster actual\n",
        "      cluster_samples = silhouette_values[labels == cluster_idx]\n",
        "      cluster_avg_silhouette = cluster_samples.mean()\n",
        "      print(f\"Índice de Silueta del Clúster {cluster_idx}: {cluster_avg_silhouette}\")"
      ],
      "metadata": {
        "id": "IWLcilHbyYU0"
      },
      "execution_count": 21,
      "outputs": []
    },
    {
      "cell_type": "markdown",
      "source": [
        "# **Affinity Propagation: euclídea**\n",
        "\n",
        "\n",
        "\n"
      ],
      "metadata": {
        "id": "NMWHtkZKMOHq"
      }
    },
    {
      "cell_type": "markdown",
      "source": [
        "### **Evaluación del modelo según la preferencia**\n",
        "Para encontrar el valor del parámetro *preference* asociado al nº de clústeres estimados, lo calculamos a partir de la métrica **Coeficiente de Silhoutte** que mide la compactación y separación de los grupos. Cuanto más alto sea el coeficiente, más similares son entre sí los datos agrupados.\n",
        "\n",
        "Ejecutamos el algoritmo con un rango *preference* entre -20000 y -200 iternado de 200 en 200."
      ],
      "metadata": {
        "id": "cIwuMdrnAQ-J"
      }
    },
    {
      "cell_type": "code",
      "source": [
        "def eval_preferences(X):\n",
        "  preferences_range = range(-20000, -50, 50)\n",
        "  preferences = []\n",
        "  num_clusters = []\n",
        "  sil_score = []\n",
        "\n",
        "  for p in preferences_range:\n",
        "    ap = AffinityPropagation(preference = p, max_iter=200, damping=0.70).fit(X)\n",
        "    cluster_centers_indices = ap.cluster_centers_indices_\n",
        "    n_clusters_ = len(cluster_centers_indices)\n",
        "    if n_clusters_ > 1:\n",
        "      preferences.append(p)\n",
        "      num_clusters.append(n_clusters_)\n",
        "      sil_score.append(metrics.silhouette_score(X, ap.labels_))\n",
        "\n",
        "  ap_results = pd.DataFrame([preferences, num_clusters, sil_score], index=['preference', 'clusters', 'sil_score']).T\n",
        "  return ap_results"
      ],
      "metadata": {
        "id": "p3V4Etm4BnbG"
      },
      "execution_count": 75,
      "outputs": []
    },
    {
      "cell_type": "markdown",
      "source": [
        "### **1.1 Fichero completo**"
      ],
      "metadata": {
        "id": "SSnDI5MN_W-y"
      }
    },
    {
      "cell_type": "code",
      "source": [
        "#Transformar datos categóricos a númericos\n",
        "data_processed = transformData(df_total)\n",
        "#Crear una matriz de características (feature matrix) a partir de los datos y sus columnas\n",
        "X, y = data_processed.values, data_processed.columns"
      ],
      "metadata": {
        "id": "EZq9w7Zvv0Yf"
      },
      "execution_count": 76,
      "outputs": []
    },
    {
      "cell_type": "code",
      "source": [
        "#Obtener el valor apropiado para 'preferences' a partir del mejor coeficiente Silhoutte obtenido\n",
        "ap_results = eval_preferences(X)\n",
        "ap_results.sort_values(by='sil_score', ascending=False).head(5)"
      ],
      "metadata": {
        "colab": {
          "base_uri": "https://localhost:8080/",
          "height": 206
        },
        "id": "wwYSqm-uDIoO",
        "outputId": "16675634-4c4b-4830-823a-8e4af8d3b339"
      },
      "execution_count": 77,
      "outputs": [
        {
          "output_type": "execute_result",
          "data": {
            "text/plain": [
              "     preference  clusters  sil_score\n",
              "155     -7850.0       2.0   0.555385\n",
              "69     -12150.0       2.0   0.555385\n",
              "80     -11600.0       2.0   0.555385\n",
              "79     -11650.0       2.0   0.555385\n",
              "78     -11700.0       2.0   0.555385"
            ],
            "text/html": [
              "\n",
              "  <div id=\"df-b8e1f7bc-becc-4704-851e-3cc76974169e\">\n",
              "    <div class=\"colab-df-container\">\n",
              "      <div>\n",
              "<style scoped>\n",
              "    .dataframe tbody tr th:only-of-type {\n",
              "        vertical-align: middle;\n",
              "    }\n",
              "\n",
              "    .dataframe tbody tr th {\n",
              "        vertical-align: top;\n",
              "    }\n",
              "\n",
              "    .dataframe thead th {\n",
              "        text-align: right;\n",
              "    }\n",
              "</style>\n",
              "<table border=\"1\" class=\"dataframe\">\n",
              "  <thead>\n",
              "    <tr style=\"text-align: right;\">\n",
              "      <th></th>\n",
              "      <th>preference</th>\n",
              "      <th>clusters</th>\n",
              "      <th>sil_score</th>\n",
              "    </tr>\n",
              "  </thead>\n",
              "  <tbody>\n",
              "    <tr>\n",
              "      <th>155</th>\n",
              "      <td>-7850.0</td>\n",
              "      <td>2.0</td>\n",
              "      <td>0.555385</td>\n",
              "    </tr>\n",
              "    <tr>\n",
              "      <th>69</th>\n",
              "      <td>-12150.0</td>\n",
              "      <td>2.0</td>\n",
              "      <td>0.555385</td>\n",
              "    </tr>\n",
              "    <tr>\n",
              "      <th>80</th>\n",
              "      <td>-11600.0</td>\n",
              "      <td>2.0</td>\n",
              "      <td>0.555385</td>\n",
              "    </tr>\n",
              "    <tr>\n",
              "      <th>79</th>\n",
              "      <td>-11650.0</td>\n",
              "      <td>2.0</td>\n",
              "      <td>0.555385</td>\n",
              "    </tr>\n",
              "    <tr>\n",
              "      <th>78</th>\n",
              "      <td>-11700.0</td>\n",
              "      <td>2.0</td>\n",
              "      <td>0.555385</td>\n",
              "    </tr>\n",
              "  </tbody>\n",
              "</table>\n",
              "</div>\n",
              "      <button class=\"colab-df-convert\" onclick=\"convertToInteractive('df-b8e1f7bc-becc-4704-851e-3cc76974169e')\"\n",
              "              title=\"Convert this dataframe to an interactive table.\"\n",
              "              style=\"display:none;\">\n",
              "        \n",
              "  <svg xmlns=\"http://www.w3.org/2000/svg\" height=\"24px\"viewBox=\"0 0 24 24\"\n",
              "       width=\"24px\">\n",
              "    <path d=\"M0 0h24v24H0V0z\" fill=\"none\"/>\n",
              "    <path d=\"M18.56 5.44l.94 2.06.94-2.06 2.06-.94-2.06-.94-.94-2.06-.94 2.06-2.06.94zm-11 1L8.5 8.5l.94-2.06 2.06-.94-2.06-.94L8.5 2.5l-.94 2.06-2.06.94zm10 10l.94 2.06.94-2.06 2.06-.94-2.06-.94-.94-2.06-.94 2.06-2.06.94z\"/><path d=\"M17.41 7.96l-1.37-1.37c-.4-.4-.92-.59-1.43-.59-.52 0-1.04.2-1.43.59L10.3 9.45l-7.72 7.72c-.78.78-.78 2.05 0 2.83L4 21.41c.39.39.9.59 1.41.59.51 0 1.02-.2 1.41-.59l7.78-7.78 2.81-2.81c.8-.78.8-2.07 0-2.86zM5.41 20L4 18.59l7.72-7.72 1.47 1.35L5.41 20z\"/>\n",
              "  </svg>\n",
              "      </button>\n",
              "      \n",
              "  <style>\n",
              "    .colab-df-container {\n",
              "      display:flex;\n",
              "      flex-wrap:wrap;\n",
              "      gap: 12px;\n",
              "    }\n",
              "\n",
              "    .colab-df-convert {\n",
              "      background-color: #E8F0FE;\n",
              "      border: none;\n",
              "      border-radius: 50%;\n",
              "      cursor: pointer;\n",
              "      display: none;\n",
              "      fill: #1967D2;\n",
              "      height: 32px;\n",
              "      padding: 0 0 0 0;\n",
              "      width: 32px;\n",
              "    }\n",
              "\n",
              "    .colab-df-convert:hover {\n",
              "      background-color: #E2EBFA;\n",
              "      box-shadow: 0px 1px 2px rgba(60, 64, 67, 0.3), 0px 1px 3px 1px rgba(60, 64, 67, 0.15);\n",
              "      fill: #174EA6;\n",
              "    }\n",
              "\n",
              "    [theme=dark] .colab-df-convert {\n",
              "      background-color: #3B4455;\n",
              "      fill: #D2E3FC;\n",
              "    }\n",
              "\n",
              "    [theme=dark] .colab-df-convert:hover {\n",
              "      background-color: #434B5C;\n",
              "      box-shadow: 0px 1px 3px 1px rgba(0, 0, 0, 0.15);\n",
              "      filter: drop-shadow(0px 1px 2px rgba(0, 0, 0, 0.3));\n",
              "      fill: #FFFFFF;\n",
              "    }\n",
              "  </style>\n",
              "\n",
              "      <script>\n",
              "        const buttonEl =\n",
              "          document.querySelector('#df-b8e1f7bc-becc-4704-851e-3cc76974169e button.colab-df-convert');\n",
              "        buttonEl.style.display =\n",
              "          google.colab.kernel.accessAllowed ? 'block' : 'none';\n",
              "\n",
              "        async function convertToInteractive(key) {\n",
              "          const element = document.querySelector('#df-b8e1f7bc-becc-4704-851e-3cc76974169e');\n",
              "          const dataTable =\n",
              "            await google.colab.kernel.invokeFunction('convertToInteractive',\n",
              "                                                     [key], {});\n",
              "          if (!dataTable) return;\n",
              "\n",
              "          const docLinkHtml = 'Like what you see? Visit the ' +\n",
              "            '<a target=\"_blank\" href=https://colab.research.google.com/notebooks/data_table.ipynb>data table notebook</a>'\n",
              "            + ' to learn more about interactive tables.';\n",
              "          element.innerHTML = '';\n",
              "          dataTable['output_type'] = 'display_data';\n",
              "          await google.colab.output.renderOutput(dataTable, element);\n",
              "          const docLink = document.createElement('div');\n",
              "          docLink.innerHTML = docLinkHtml;\n",
              "          element.appendChild(docLink);\n",
              "        }\n",
              "      </script>\n",
              "    </div>\n",
              "  </div>\n",
              "  "
            ]
          },
          "metadata": {},
          "execution_count": 77
        }
      ]
    },
    {
      "cell_type": "code",
      "source": [
        "#Visualizar la evolución de los valores del coeficiente Silhoutte\n",
        "plot_sil_pref(ap_results, -12400)"
      ],
      "metadata": {
        "id": "yaW1HwN0XfTf"
      },
      "execution_count": null,
      "outputs": []
    },
    {
      "cell_type": "code",
      "source": [
        "#Ejecución del algoritmo con los parámetros que obtienen un mejor coeficiente Silhoutte\n",
        "ap = AffinityPropagation(damping=0.70, preference=-12400, max_iter=200)\n",
        "model = ap.fit(X)\n",
        "cluster_centers_indices = model.cluster_centers_indices_\n",
        "n_clusters_ = len(cluster_centers_indices)\n",
        "labels = model.predict(X)"
      ],
      "metadata": {
        "id": "4D9dRwb5qZ1X"
      },
      "execution_count": null,
      "outputs": []
    },
    {
      "cell_type": "code",
      "source": [
        "#Visualizar resultado relación de atributos según el nº de clústeres estimados\n",
        "plot_num_cluster (X, n_clusters_, labels, cluster_centers_indices)"
      ],
      "metadata": {
        "id": "VkVffPHRDSj1"
      },
      "execution_count": null,
      "outputs": []
    },
    {
      "cell_type": "code",
      "source": [
        "print('Estimated number of clusters: %d' % n_clusters_)\n",
        "print(\"Silhouette Coefficient: %0.3f\" % metrics.silhouette_score(X, labels, metric='sqeuclidean'))"
      ],
      "metadata": {
        "id": "W0atB6Lz5eWN"
      },
      "execution_count": null,
      "outputs": []
    },
    {
      "cell_type": "code",
      "source": [
        "#Visualizar mapa de calor por atributos\n",
        "heatMap (data_processed, labels, n_clusters_)"
      ],
      "metadata": {
        "id": "ppLEwO1uWGRJ"
      },
      "execution_count": null,
      "outputs": []
    },
    {
      "cell_type": "code",
      "source": [
        "#Visualizar gráfica de dispersión con la relación de atributos por clúster\n",
        "plot_dispersion_etiquetas (X, labels)"
      ],
      "metadata": {
        "id": "rm4QFpfzyoFq"
      },
      "execution_count": null,
      "outputs": []
    },
    {
      "cell_type": "code",
      "source": [
        "#Listar la relación de los atributos más implicados para ser asociados a ese clúster\n",
        "list_atributos_porCluster (data_processed, n_clusters_, labels)"
      ],
      "metadata": {
        "id": "PGMwS7AXy_N1"
      },
      "execution_count": null,
      "outputs": []
    },
    {
      "cell_type": "code",
      "source": [
        "#Listar el valor medio del coeficiente Silhoutte por cluster\n",
        "list_silhoutte_porCluster(data_processed, labels)"
      ],
      "metadata": {
        "id": "Vb5YwdDJHvNk"
      },
      "execution_count": null,
      "outputs": []
    },
    {
      "cell_type": "code",
      "source": [
        "# Agregar las etiquetas al DataFrame original\n",
        "data_processed['Cluster'] = labels\n",
        "data_processed.head()"
      ],
      "metadata": {
        "id": "72bxcAAJ2j3A"
      },
      "execution_count": null,
      "outputs": []
    },
    {
      "cell_type": "markdown",
      "source": [
        "### **1.2 Fichero solo medias**"
      ],
      "metadata": {
        "id": "H9bBhDNVWaQi"
      }
    },
    {
      "cell_type": "code",
      "source": [
        "#Transformar datos categóricos a númericos\n",
        "data_processed2 = transformData(df_only_avg)\n",
        "#Crear una matriz de características (feature matrix) a partir de los datos y sus columnas\n",
        "X2, y2 = data_processed2.values, data_processed2.columns"
      ],
      "metadata": {
        "id": "lxTLh7VdWow5"
      },
      "execution_count": null,
      "outputs": []
    },
    {
      "cell_type": "code",
      "source": [
        "#Obtener el valor apropiado para 'preferences' a partir del mejor coeficiente Silhoutte obtenido\n",
        "ap_results2 = eval_preferences(X2)\n",
        "ap_results2.sort_values(by='sil_score', ascending=False).head(5)"
      ],
      "metadata": {
        "id": "SOtqSptrXyof"
      },
      "execution_count": null,
      "outputs": []
    },
    {
      "cell_type": "code",
      "source": [
        "#Visualizar la evolución de los valores del coeficiente Silhoutte\n",
        "plot_sil_pref(ap_results2, -18400)"
      ],
      "metadata": {
        "id": "WKN8qZPWX0Fv"
      },
      "execution_count": null,
      "outputs": []
    },
    {
      "cell_type": "code",
      "source": [
        "#Ejecución del algoritmo con los parámetros que obtienen un mejor coeficiente Silhoutte\n",
        "ap2 = AffinityPropagation(damping=0.70, preference=-18500, max_iter=200)\n",
        "model2 = ap2.fit(X2)\n",
        "cluster_centers_indices2 = model2.cluster_centers_indices_\n",
        "n2_clusters_ = len(cluster_centers_indices2)\n",
        "labels2 = model2.predict(X2)"
      ],
      "metadata": {
        "id": "j76uw8oOX2qi"
      },
      "execution_count": null,
      "outputs": []
    },
    {
      "cell_type": "code",
      "source": [
        "#Visualizar resultado relación de atributos según el nº de clústeres estimados\n",
        "plot_num_cluster (X2, n2_clusters_, labels2, cluster_centers_indices2)"
      ],
      "metadata": {
        "id": "P-sV_ATGX_N9"
      },
      "execution_count": null,
      "outputs": []
    },
    {
      "cell_type": "code",
      "source": [
        "print('Estimated number of clusters: %d' % n2_clusters_)\n",
        "print(\"Silhouette Coefficient: %0.3f\" % metrics.silhouette_score(X2, labels2, metric='sqeuclidean'))"
      ],
      "metadata": {
        "id": "-Fx5yO3HKQcR"
      },
      "execution_count": null,
      "outputs": []
    },
    {
      "cell_type": "code",
      "source": [
        "#Visualizar gráfica de dispersión con la relación de atributos por clúster\n",
        "plot_dispersion_etiquetas (X2, labels2)"
      ],
      "metadata": {
        "id": "RFNJvIayYB6h"
      },
      "execution_count": null,
      "outputs": []
    },
    {
      "cell_type": "code",
      "source": [
        "#Listar la relación de lso atributos más implicados para ser asociados a ese clúster\n",
        "list_atributos_porCluster (data_processed2, n2_clusters_, labels2)"
      ],
      "metadata": {
        "id": "sVkHrJ7HLEWY"
      },
      "execution_count": null,
      "outputs": []
    },
    {
      "cell_type": "markdown",
      "source": [
        "### **1.3 Fichero sin medias**"
      ],
      "metadata": {
        "id": "dRDwgPVrKHRj"
      }
    },
    {
      "cell_type": "code",
      "source": [
        "#Transformar datos categóricos a númericos\n",
        "data_processed3 = transformData(df_without_avg)\n",
        "#Crear una matriz de características (feature matrix) a partir de los datos y sus columnas\n",
        "X3, y3 = data_processed3.values, data_processed3.columns"
      ],
      "metadata": {
        "id": "Vem6UyBtKmpX"
      },
      "execution_count": null,
      "outputs": []
    },
    {
      "cell_type": "code",
      "source": [
        "#Obtener el valor apropiado para 'preferences' a partir del mejor coeficiente Silhoutte obtenido\n",
        "ap_results3 = eval_preferences(X3)\n",
        "ap_results3.sort_values(by='sil_score', ascending=False).head(5)"
      ],
      "metadata": {
        "id": "cSPVFNSSLJtg"
      },
      "execution_count": null,
      "outputs": []
    },
    {
      "cell_type": "code",
      "source": [
        "#Visualizar la evolución de los valores del coeficiente Silhoutte\n",
        "plot_sil_pref(ap_results3, -16000)"
      ],
      "metadata": {
        "id": "twEUoPATLMwi"
      },
      "execution_count": null,
      "outputs": []
    },
    {
      "cell_type": "code",
      "source": [
        "#Ejecución del algoritmo con los parámetros que obtienen un mejor coeficiente Silhoutte\n",
        "ap3 = AffinityPropagation(damping=0.70, preference=-16000, max_iter=200)\n",
        "model3 = ap3.fit(X)\n",
        "cluster_centers_indices3 = model3.cluster_centers_indices_\n",
        "n3_clusters_ = len(cluster_centers_indices3)\n",
        "labels3 = model3.predict(X)"
      ],
      "metadata": {
        "id": "Ep1CduyGLQwQ"
      },
      "execution_count": null,
      "outputs": []
    },
    {
      "cell_type": "code",
      "source": [
        "#Visualizar resultado relación de atributos según el nº de clústeres estimados\n",
        "plot_num_cluster (X3, n3_clusters_, labels3, cluster_centers_indices3)"
      ],
      "metadata": {
        "id": "QHmrd2n-O-iX"
      },
      "execution_count": null,
      "outputs": []
    },
    {
      "cell_type": "code",
      "source": [
        "print('Estimated number of clusters: %d' % n3_clusters_)\n",
        "print(\"Silhouette Coefficient: %0.3f\" % metrics.silhouette_score(X3, labels3, metric='sqeuclidean'))"
      ],
      "metadata": {
        "colab": {
          "base_uri": "https://localhost:8080/"
        },
        "id": "jL0KkTn4PKHO",
        "outputId": "eaa93dec-b9a2-4788-b1fc-e2560bdd32e5"
      },
      "execution_count": null,
      "outputs": [
        {
          "output_type": "stream",
          "name": "stdout",
          "text": [
            "Estimated number of clusters: 2\n",
            "Silhouette Coefficient: 0.534\n"
          ]
        }
      ]
    },
    {
      "cell_type": "code",
      "source": [
        "#Visualizar gráfica de dispersión con la relación de atributos por clúster\n",
        "plot_dispersion_etiquetas (X3, labels3)"
      ],
      "metadata": {
        "id": "pgZxbf6_PRDS"
      },
      "execution_count": null,
      "outputs": []
    },
    {
      "cell_type": "code",
      "source": [
        "#Listar la relación de lso atributos más implicados para ser asociados a ese clúster\n",
        "list_atributos_porCluster (data_processed3, n3_clusters_, labels3)"
      ],
      "metadata": {
        "id": "QNW6WCaiPWV2"
      },
      "execution_count": null,
      "outputs": []
    },
    {
      "cell_type": "markdown",
      "source": [
        "# **2. Comparativa con algoritmos: Spectral Clustering y agrupación jerárquica**\n",
        "\n",
        "Aunque hasta ahora hemos obtenido el número de clústeres a partir del mejor índice de silhoutte, a continuación queremos ver el modo de agrupación con el mismo número de clústeres que mejor resultado han dado los otros dos algoritmos.\n"
      ],
      "metadata": {
        "id": "zroJfjrSzZry"
      }
    },
    {
      "cell_type": "markdown",
      "source": [
        "## **2.1 Fichero completo**"
      ],
      "metadata": {
        "id": "DjvID1OCzs9o"
      }
    },
    {
      "cell_type": "code",
      "source": [
        "#Transformar datos categóricos a númericos\n",
        "data_processed_21 = transformData(df_total)\n",
        "#Crear una matriz de características (feature matrix) a partir de los datos y sus columnas\n",
        "X_21, y_21 = data_processed_21.values, data_processed_21.columns"
      ],
      "metadata": {
        "id": "kkqN545_3Sxm"
      },
      "execution_count": 78,
      "outputs": []
    },
    {
      "cell_type": "code",
      "source": [
        "#Obtener el valor apropiado para 'preferences' a partir del mejor coeficiente Silhoutte\n",
        "ap_results_21 = eval_preferences(X_21)\n",
        "#Obtener el valor apropiado para 'preferences' según un nº contcreto de clústeres\n",
        "ap_results_21.loc[ap_results_21['clusters'].isin([6,7,8,9])]"
      ],
      "metadata": {
        "colab": {
          "base_uri": "https://localhost:8080/",
          "height": 614
        },
        "id": "jpRc8yPg5Sw-",
        "outputId": "25ced3c8-595e-4a25-e85e-2196b0a10321"
      },
      "execution_count": 79,
      "outputs": [
        {
          "output_type": "execute_result",
          "data": {
            "text/plain": [
              "     preference  clusters  sil_score\n",
              "282     -1500.0       6.0   0.177532\n",
              "283     -1450.0       6.0   0.177532\n",
              "284     -1400.0       6.0   0.177532\n",
              "285     -1350.0       6.0   0.177532\n",
              "286     -1300.0       6.0   0.177532\n",
              "287     -1250.0       6.0   0.177532\n",
              "288     -1200.0       6.0   0.177532\n",
              "289     -1150.0       6.0   0.177532\n",
              "290     -1100.0       6.0   0.177532\n",
              "291     -1050.0       6.0   0.177532\n",
              "292     -1000.0       6.0   0.177532\n",
              "293      -950.0       6.0   0.177532\n",
              "294      -900.0       8.0   0.179752\n",
              "295      -850.0       8.0   0.179752\n",
              "296      -800.0       8.0   0.179752\n",
              "297      -750.0       9.0   0.174808\n",
              "298      -700.0       9.0   0.174808\n",
              "299      -650.0       9.0   0.174808"
            ],
            "text/html": [
              "\n",
              "  <div id=\"df-687ab363-2854-4c23-b294-d9acbe94fb4b\">\n",
              "    <div class=\"colab-df-container\">\n",
              "      <div>\n",
              "<style scoped>\n",
              "    .dataframe tbody tr th:only-of-type {\n",
              "        vertical-align: middle;\n",
              "    }\n",
              "\n",
              "    .dataframe tbody tr th {\n",
              "        vertical-align: top;\n",
              "    }\n",
              "\n",
              "    .dataframe thead th {\n",
              "        text-align: right;\n",
              "    }\n",
              "</style>\n",
              "<table border=\"1\" class=\"dataframe\">\n",
              "  <thead>\n",
              "    <tr style=\"text-align: right;\">\n",
              "      <th></th>\n",
              "      <th>preference</th>\n",
              "      <th>clusters</th>\n",
              "      <th>sil_score</th>\n",
              "    </tr>\n",
              "  </thead>\n",
              "  <tbody>\n",
              "    <tr>\n",
              "      <th>282</th>\n",
              "      <td>-1500.0</td>\n",
              "      <td>6.0</td>\n",
              "      <td>0.177532</td>\n",
              "    </tr>\n",
              "    <tr>\n",
              "      <th>283</th>\n",
              "      <td>-1450.0</td>\n",
              "      <td>6.0</td>\n",
              "      <td>0.177532</td>\n",
              "    </tr>\n",
              "    <tr>\n",
              "      <th>284</th>\n",
              "      <td>-1400.0</td>\n",
              "      <td>6.0</td>\n",
              "      <td>0.177532</td>\n",
              "    </tr>\n",
              "    <tr>\n",
              "      <th>285</th>\n",
              "      <td>-1350.0</td>\n",
              "      <td>6.0</td>\n",
              "      <td>0.177532</td>\n",
              "    </tr>\n",
              "    <tr>\n",
              "      <th>286</th>\n",
              "      <td>-1300.0</td>\n",
              "      <td>6.0</td>\n",
              "      <td>0.177532</td>\n",
              "    </tr>\n",
              "    <tr>\n",
              "      <th>287</th>\n",
              "      <td>-1250.0</td>\n",
              "      <td>6.0</td>\n",
              "      <td>0.177532</td>\n",
              "    </tr>\n",
              "    <tr>\n",
              "      <th>288</th>\n",
              "      <td>-1200.0</td>\n",
              "      <td>6.0</td>\n",
              "      <td>0.177532</td>\n",
              "    </tr>\n",
              "    <tr>\n",
              "      <th>289</th>\n",
              "      <td>-1150.0</td>\n",
              "      <td>6.0</td>\n",
              "      <td>0.177532</td>\n",
              "    </tr>\n",
              "    <tr>\n",
              "      <th>290</th>\n",
              "      <td>-1100.0</td>\n",
              "      <td>6.0</td>\n",
              "      <td>0.177532</td>\n",
              "    </tr>\n",
              "    <tr>\n",
              "      <th>291</th>\n",
              "      <td>-1050.0</td>\n",
              "      <td>6.0</td>\n",
              "      <td>0.177532</td>\n",
              "    </tr>\n",
              "    <tr>\n",
              "      <th>292</th>\n",
              "      <td>-1000.0</td>\n",
              "      <td>6.0</td>\n",
              "      <td>0.177532</td>\n",
              "    </tr>\n",
              "    <tr>\n",
              "      <th>293</th>\n",
              "      <td>-950.0</td>\n",
              "      <td>6.0</td>\n",
              "      <td>0.177532</td>\n",
              "    </tr>\n",
              "    <tr>\n",
              "      <th>294</th>\n",
              "      <td>-900.0</td>\n",
              "      <td>8.0</td>\n",
              "      <td>0.179752</td>\n",
              "    </tr>\n",
              "    <tr>\n",
              "      <th>295</th>\n",
              "      <td>-850.0</td>\n",
              "      <td>8.0</td>\n",
              "      <td>0.179752</td>\n",
              "    </tr>\n",
              "    <tr>\n",
              "      <th>296</th>\n",
              "      <td>-800.0</td>\n",
              "      <td>8.0</td>\n",
              "      <td>0.179752</td>\n",
              "    </tr>\n",
              "    <tr>\n",
              "      <th>297</th>\n",
              "      <td>-750.0</td>\n",
              "      <td>9.0</td>\n",
              "      <td>0.174808</td>\n",
              "    </tr>\n",
              "    <tr>\n",
              "      <th>298</th>\n",
              "      <td>-700.0</td>\n",
              "      <td>9.0</td>\n",
              "      <td>0.174808</td>\n",
              "    </tr>\n",
              "    <tr>\n",
              "      <th>299</th>\n",
              "      <td>-650.0</td>\n",
              "      <td>9.0</td>\n",
              "      <td>0.174808</td>\n",
              "    </tr>\n",
              "  </tbody>\n",
              "</table>\n",
              "</div>\n",
              "      <button class=\"colab-df-convert\" onclick=\"convertToInteractive('df-687ab363-2854-4c23-b294-d9acbe94fb4b')\"\n",
              "              title=\"Convert this dataframe to an interactive table.\"\n",
              "              style=\"display:none;\">\n",
              "        \n",
              "  <svg xmlns=\"http://www.w3.org/2000/svg\" height=\"24px\"viewBox=\"0 0 24 24\"\n",
              "       width=\"24px\">\n",
              "    <path d=\"M0 0h24v24H0V0z\" fill=\"none\"/>\n",
              "    <path d=\"M18.56 5.44l.94 2.06.94-2.06 2.06-.94-2.06-.94-.94-2.06-.94 2.06-2.06.94zm-11 1L8.5 8.5l.94-2.06 2.06-.94-2.06-.94L8.5 2.5l-.94 2.06-2.06.94zm10 10l.94 2.06.94-2.06 2.06-.94-2.06-.94-.94-2.06-.94 2.06-2.06.94z\"/><path d=\"M17.41 7.96l-1.37-1.37c-.4-.4-.92-.59-1.43-.59-.52 0-1.04.2-1.43.59L10.3 9.45l-7.72 7.72c-.78.78-.78 2.05 0 2.83L4 21.41c.39.39.9.59 1.41.59.51 0 1.02-.2 1.41-.59l7.78-7.78 2.81-2.81c.8-.78.8-2.07 0-2.86zM5.41 20L4 18.59l7.72-7.72 1.47 1.35L5.41 20z\"/>\n",
              "  </svg>\n",
              "      </button>\n",
              "      \n",
              "  <style>\n",
              "    .colab-df-container {\n",
              "      display:flex;\n",
              "      flex-wrap:wrap;\n",
              "      gap: 12px;\n",
              "    }\n",
              "\n",
              "    .colab-df-convert {\n",
              "      background-color: #E8F0FE;\n",
              "      border: none;\n",
              "      border-radius: 50%;\n",
              "      cursor: pointer;\n",
              "      display: none;\n",
              "      fill: #1967D2;\n",
              "      height: 32px;\n",
              "      padding: 0 0 0 0;\n",
              "      width: 32px;\n",
              "    }\n",
              "\n",
              "    .colab-df-convert:hover {\n",
              "      background-color: #E2EBFA;\n",
              "      box-shadow: 0px 1px 2px rgba(60, 64, 67, 0.3), 0px 1px 3px 1px rgba(60, 64, 67, 0.15);\n",
              "      fill: #174EA6;\n",
              "    }\n",
              "\n",
              "    [theme=dark] .colab-df-convert {\n",
              "      background-color: #3B4455;\n",
              "      fill: #D2E3FC;\n",
              "    }\n",
              "\n",
              "    [theme=dark] .colab-df-convert:hover {\n",
              "      background-color: #434B5C;\n",
              "      box-shadow: 0px 1px 3px 1px rgba(0, 0, 0, 0.15);\n",
              "      filter: drop-shadow(0px 1px 2px rgba(0, 0, 0, 0.3));\n",
              "      fill: #FFFFFF;\n",
              "    }\n",
              "  </style>\n",
              "\n",
              "      <script>\n",
              "        const buttonEl =\n",
              "          document.querySelector('#df-687ab363-2854-4c23-b294-d9acbe94fb4b button.colab-df-convert');\n",
              "        buttonEl.style.display =\n",
              "          google.colab.kernel.accessAllowed ? 'block' : 'none';\n",
              "\n",
              "        async function convertToInteractive(key) {\n",
              "          const element = document.querySelector('#df-687ab363-2854-4c23-b294-d9acbe94fb4b');\n",
              "          const dataTable =\n",
              "            await google.colab.kernel.invokeFunction('convertToInteractive',\n",
              "                                                     [key], {});\n",
              "          if (!dataTable) return;\n",
              "\n",
              "          const docLinkHtml = 'Like what you see? Visit the ' +\n",
              "            '<a target=\"_blank\" href=https://colab.research.google.com/notebooks/data_table.ipynb>data table notebook</a>'\n",
              "            + ' to learn more about interactive tables.';\n",
              "          element.innerHTML = '';\n",
              "          dataTable['output_type'] = 'display_data';\n",
              "          await google.colab.output.renderOutput(dataTable, element);\n",
              "          const docLink = document.createElement('div');\n",
              "          docLink.innerHTML = docLinkHtml;\n",
              "          element.appendChild(docLink);\n",
              "        }\n",
              "      </script>\n",
              "    </div>\n",
              "  </div>\n",
              "  "
            ]
          },
          "metadata": {},
          "execution_count": 79
        }
      ]
    },
    {
      "cell_type": "markdown",
      "source": [
        "**Sin embargo, AffinityPropagation no agrupa con 7 clústeres con este dataset**"
      ],
      "metadata": {
        "id": "GBmZPsxJEAnG"
      }
    },
    {
      "cell_type": "markdown",
      "source": [
        "> ### **6 clusters**"
      ],
      "metadata": {
        "id": "Ah1py0Am2PMq"
      }
    },
    {
      "cell_type": "code",
      "source": [
        "#Ejecución del algoritmo con los parámetros que obtienen un mejor coeficiente Silhoutte\n",
        "ap_21_6 = AffinityPropagation(damping=0.70, preference=-1000, max_iter=200)\n",
        "model_21_6 = ap_21_6.fit(X_21)\n",
        "cluster_centers_indices_21_6 = model_21_6.cluster_centers_indices_\n",
        "n_21_6_clusters_ = len(cluster_centers_indices_21_6)\n",
        "labels_21_6 = model_21_6.predict(X_21)"
      ],
      "metadata": {
        "id": "_ovtqcU276Ky"
      },
      "execution_count": 80,
      "outputs": []
    },
    {
      "cell_type": "code",
      "source": [
        "#Visualizar gráfica de dispersión con la relación de atributos por clúster\n",
        "plot_dispersion_etiquetas (X_21, labels_21_6)"
      ],
      "metadata": {
        "id": "rlTSZ9Yz8SKf"
      },
      "execution_count": null,
      "outputs": []
    },
    {
      "cell_type": "code",
      "source": [
        "#Visualizar gráfica de dispersión por clúster\n",
        "plot_dispersion(X_21, labels_21_6)"
      ],
      "metadata": {
        "colab": {
          "base_uri": "https://localhost:8080/",
          "height": 435
        },
        "id": "_LAiHgrE86CR",
        "outputId": "f4f3cb57-b21b-4b0a-83ee-0e1706b08d7a"
      },
      "execution_count": 81,
      "outputs": [
        {
          "output_type": "display_data",
          "data": {
            "text/plain": [
              "<Figure size 640x480 with 2 Axes>"
            ],
            "image/png": "[encoded data removed]"
          },
          "metadata": {}
        }
      ]
    },
    {
      "cell_type": "code",
      "source": [
        "#Listar la relación de los atributos más implicados para ser asociados a ese clúster\n",
        "list_atributos_porCluster (data_processed_21, n_21_6_clusters_, labels_21_6)"
      ],
      "metadata": {
        "colab": {
          "base_uri": "https://localhost:8080/"
        },
        "id": "ljuoqPb38gFQ",
        "outputId": "72d46a84-14f3-4eb6-eb69-b6b5b71539d3"
      },
      "execution_count": 82,
      "outputs": [
        {
          "output_type": "stream",
          "name": "stdout",
          "text": [
            "Cluster 1:\n",
            "- Atributo n. 4: SA1 (Media: 3.2)\n",
            "- Atributo n. 2: V2 (Media: 3.4)\n",
            "- Atributo n. 5: SA2 (Media: 3.0)\n",
            "- Atributo n. 13: SF1 (Media: 2.4)\n",
            "- Atributo n. 10: SP1 (Media: 3.0)\n",
            "Cluster 2:\n",
            "- Atributo n. 1: V1 (Media: 3.8)\n",
            "- Atributo n. 2: V2 (Media: 3.8)\n",
            "- Atributo n. 4: SA1 (Media: -1.0)\n",
            "- Atributo n. 3: V3 (Media: 3.4)\n",
            "- Atributo n. 14: SF2 (Media: -1.0)\n",
            "Cluster 3:\n",
            "- Atributo n. 1: V1 (Media: 4.803030303030303)\n",
            "- Atributo n. 4: SA1 (Media: 5.181818181818182)\n",
            "- Atributo n. 3: V3 (Media: 4.151515151515151)\n",
            "- Atributo n. 2: V2 (Media: 4.7272727272727275)\n",
            "- Atributo n. 13: SF1 (Media: 4.424242424242424)\n",
            "Cluster 4:\n",
            "- Atributo n. 2: V2 (Media: 4.5)\n",
            "- Atributo n. 3: V3 (Media: 4.5)\n",
            "- Atributo n. 1: V1 (Media: 4.5)\n",
            "- Atributo n. 13: SF1 (Media: 4.0)\n",
            "- Atributo n. 14: SF2 (Media: 4.0)\n",
            "Cluster 5:\n",
            "- Atributo n. 1: V1 (Media: 3.2777777777777777)\n",
            "- Atributo n. 3: V3 (Media: 2.1666666666666665)\n",
            "- Atributo n. 4: SA1 (Media: 2.6666666666666665)\n",
            "- Atributo n. 2: V2 (Media: 2.9444444444444446)\n",
            "- Atributo n. 13: SF1 (Media: 1.2777777777777777)\n",
            "Cluster 6:\n",
            "- Atributo n. 1: V1 (Media: 3.914285714285714)\n",
            "- Atributo n. 4: SA1 (Media: 4.228571428571429)\n",
            "- Atributo n. 3: V3 (Media: 3.2857142857142856)\n",
            "- Atributo n. 13: SF1 (Media: 2.942857142857143)\n",
            "- Atributo n. 9: SI2 (Media: 4.3428571428571425)\n"
          ]
        }
      ]
    },
    {
      "cell_type": "code",
      "source": [
        "#Listar el valor medio del coeficiente Silhoutte por cluster\n",
        "list_silhoutte_porCluster(data_processed_21, labels_21_6)"
      ],
      "metadata": {
        "colab": {
          "base_uri": "https://localhost:8080/"
        },
        "id": "xb9jqit08yBo",
        "outputId": "4d36c01d-da47-42f3-f900-9a2a27349f8c"
      },
      "execution_count": 83,
      "outputs": [
        {
          "output_type": "stream",
          "name": "stdout",
          "text": [
            "Índice de Silueta del Clúster 0: 0.14024057195196502\n",
            "Índice de Silueta del Clúster 1: 0.18575374108678336\n",
            "Índice de Silueta del Clúster 2: 0.24963605104374884\n",
            "Índice de Silueta del Clúster 3: 0.7501336545965835\n",
            "Índice de Silueta del Clúster 4: 0.07211751991280052\n",
            "Índice de Silueta del Clúster 5: 0.034491789275160736\n"
          ]
        }
      ]
    },
    {
      "cell_type": "markdown",
      "source": [
        "> ### **8 clusters**"
      ],
      "metadata": {
        "id": "eQqgGVyoDjsI"
      }
    },
    {
      "cell_type": "code",
      "source": [
        "#Ejecución del algoritmo con los parámetros que obtienen un mejor coeficiente Silhoutte\n",
        "ap_21_8 = AffinityPropagation(damping=0.70, preference=-850, max_iter=200)\n",
        "model_21_8 = ap_21_8.fit(X_21)\n",
        "cluster_centers_indices_21_8 = model_21_8.cluster_centers_indices_\n",
        "n_21_8_clusters_ = len(cluster_centers_indices_21_8)\n",
        "labels_21_8 = model_21_8.predict(X_21)"
      ],
      "metadata": {
        "id": "AfVDUIjmDjsI"
      },
      "execution_count": 84,
      "outputs": []
    },
    {
      "cell_type": "code",
      "source": [
        "#Visualizar gráfica de dispersión con la relación de atributos por clúster\n",
        "plot_dispersion_etiquetas (X_21, labels_21_8)"
      ],
      "metadata": {
        "id": "F8x0iXPuDjsI"
      },
      "execution_count": null,
      "outputs": []
    },
    {
      "cell_type": "code",
      "source": [
        "#Visualizar gráfica de dispersión por clúster\n",
        "plot_dispersion(X_21, labels_21_8)"
      ],
      "metadata": {
        "colab": {
          "base_uri": "https://localhost:8080/",
          "height": 435
        },
        "id": "wuGECfCPDjsJ",
        "outputId": "3187e3f4-740e-4453-e8c4-477630b681f6"
      },
      "execution_count": 86,
      "outputs": [
        {
          "output_type": "display_data",
          "data": {
            "text/plain": [
              "<Figure size 640x480 with 2 Axes>"
            ],
            "image/png": "[encoded data removed]"
          },
          "metadata": {}
        }
      ]
    },
    {
      "cell_type": "code",
      "source": [
        "#Listar la relación de los atributos más implicados para ser asociados a ese clúster\n",
        "list_atributos_porCluster (data_processed_21, n_21_8_clusters_, labels_21_8)"
      ],
      "metadata": {
        "colab": {
          "base_uri": "https://localhost:8080/"
        },
        "id": "3RLf01PYDjsJ",
        "outputId": "735aff96-8a20-499e-f847-87c89e2d4e2e"
      },
      "execution_count": 87,
      "outputs": [
        {
          "output_type": "stream",
          "name": "stdout",
          "text": [
            "Cluster 1:\n",
            "- Atributo n. 4: SA1 (Media: 4.25)\n",
            "- Atributo n. 2: V2 (Media: 4.5)\n",
            "- Atributo n. 3: V3 (Media: 3.5)\n",
            "- Atributo n. 13: SF1 (Media: 3.25)\n",
            "- Atributo n. 5: SA2 (Media: 4.0)\n",
            "Cluster 2:\n",
            "- Atributo n. 1: V1 (Media: 5.0)\n",
            "- Atributo n. 2: V2 (Media: 5.0)\n",
            "- Atributo n. 4: SA1 (Media: -1.0)\n",
            "- Atributo n. 3: V3 (Media: 4.5)\n",
            "- Atributo n. 14: SF2 (Media: -1.0)\n",
            "Cluster 3:\n",
            "- Atributo n. 1: V1 (Media: 4.803030303030303)\n",
            "- Atributo n. 4: SA1 (Media: 5.181818181818182)\n",
            "- Atributo n. 3: V3 (Media: 4.151515151515151)\n",
            "- Atributo n. 2: V2 (Media: 4.7272727272727275)\n",
            "- Atributo n. 13: SF1 (Media: 4.424242424242424)\n",
            "Cluster 4:\n",
            "- Atributo n. 2: V2 (Media: 4.5)\n",
            "- Atributo n. 3: V3 (Media: 4.5)\n",
            "- Atributo n. 1: V1 (Media: 4.5)\n",
            "- Atributo n. 13: SF1 (Media: 4.0)\n",
            "- Atributo n. 14: SF2 (Media: 4.0)\n",
            "Cluster 5:\n",
            "- Atributo n. 1: V1 (Media: -1.0)\n",
            "- Atributo n. 2: V2 (Media: -1.0)\n",
            "- Atributo n. 4: SA1 (Media: -1.0)\n",
            "- Atributo n. 3: V3 (Media: -1.0)\n",
            "- Atributo n. 6: SA3 (Media: -1.0)\n",
            "Cluster 6:\n",
            "- Atributo n. 1: V1 (Media: 3.2777777777777777)\n",
            "- Atributo n. 3: V3 (Media: 2.1666666666666665)\n",
            "- Atributo n. 4: SA1 (Media: 2.6666666666666665)\n",
            "- Atributo n. 2: V2 (Media: 2.9444444444444446)\n",
            "- Atributo n. 13: SF1 (Media: 1.2777777777777777)\n",
            "Cluster 7:\n",
            "- Atributo n. 1: V1 (Media: 3.914285714285714)\n",
            "- Atributo n. 4: SA1 (Media: 4.228571428571429)\n",
            "- Atributo n. 3: V3 (Media: 3.2857142857142856)\n",
            "- Atributo n. 13: SF1 (Media: 2.942857142857143)\n",
            "- Atributo n. 9: SI2 (Media: 4.3428571428571425)\n",
            "Cluster 8:\n",
            "- Atributo n. 4: SA1 (Media: -1.0)\n",
            "- Atributo n. 3: V3 (Media: -1.0)\n",
            "- Atributo n. 6: SA3 (Media: -1.0)\n",
            "- Atributo n. 5: SA2 (Media: -1.0)\n",
            "- Atributo n. 9: SI2 (Media: -1.0)\n"
          ]
        }
      ]
    },
    {
      "cell_type": "code",
      "source": [
        "#Listar el valor medio del coeficiente Silhoutte por cluster\n",
        "list_silhoutte_porCluster(data_processed_21, labels_21_8)"
      ],
      "metadata": {
        "colab": {
          "base_uri": "https://localhost:8080/"
        },
        "id": "Pq9wMY29DjsJ",
        "outputId": "535d7124-bdb4-4a41-d763-a754ceee1f7c"
      },
      "execution_count": 88,
      "outputs": [
        {
          "output_type": "stream",
          "name": "stdout",
          "text": [
            "Índice de Silueta del Clúster 0: 0.22110453367279703\n",
            "Índice de Silueta del Clúster 1: 0.30221786658534955\n",
            "Índice de Silueta del Clúster 2: 0.24963605104374884\n",
            "Índice de Silueta del Clúster 3: 0.7333127005335314\n",
            "Índice de Silueta del Clúster 4: 0.0\n",
            "Índice de Silueta del Clúster 5: 0.06942364142162336\n",
            "Índice de Silueta del Clúster 6: 0.032995133885525614\n",
            "Índice de Silueta del Clúster 7: 0.0\n"
          ]
        }
      ]
    },
    {
      "cell_type": "markdown",
      "source": [
        "> ### **9 clusters**"
      ],
      "metadata": {
        "id": "VfHxCQXd-MCu"
      }
    },
    {
      "cell_type": "code",
      "source": [
        "#Ejecución del algoritmo con los parámetros que obtienen un mejor coeficiente Silhoutte\n",
        "ap_21_9 = AffinityPropagation(damping=0.70, preference=-700, max_iter=200)\n",
        "model_21_9 = ap_21_9.fit(X_21)\n",
        "cluster_centers_indices_21_9 = model_21_9.cluster_centers_indices_\n",
        "n_21_9_clusters_ = len(cluster_centers_indices_21_9)\n",
        "labels_21_9 = model_21_9.predict(X_21)"
      ],
      "metadata": {
        "id": "qCGnbuyZ-Avo"
      },
      "execution_count": 89,
      "outputs": []
    },
    {
      "cell_type": "code",
      "source": [
        "#Visualizar gráfica de dispersión con la relación de atributos por clúster\n",
        "plot_dispersion_etiquetas (X_21, labels_21_9)"
      ],
      "metadata": {
        "id": "sS-sOc2p-Avo"
      },
      "execution_count": null,
      "outputs": []
    },
    {
      "cell_type": "code",
      "source": [
        "#Visualizar gráfica de dispersión por clúster\n",
        "plot_dispersion(X_21, labels_21_9)"
      ],
      "metadata": {
        "colab": {
          "base_uri": "https://localhost:8080/",
          "height": 435
        },
        "id": "2pR5ExzY-Avo",
        "outputId": "44737887-cb13-4597-d591-a2db7a53ac5e"
      },
      "execution_count": 90,
      "outputs": [
        {
          "output_type": "display_data",
          "data": {
            "text/plain": [
              "<Figure size 640x480 with 2 Axes>"
            ],
            "image/png": "[encoded data removed]"
          },
          "metadata": {}
        }
      ]
    },
    {
      "cell_type": "code",
      "source": [
        "#Listar la relación de los atributos más implicados para ser asociados a ese clúster\n",
        "list_atributos_porCluster (data_processed_21, n_21_9_clusters_, labels_21_9)"
      ],
      "metadata": {
        "id": "_cJmmTKb-Avo"
      },
      "execution_count": null,
      "outputs": []
    },
    {
      "cell_type": "code",
      "source": [
        "#Listar el valor medio del coeficiente Silhoutte por cluster\n",
        "list_silhoutte_porCluster(data_processed_21, labels_21_9)"
      ],
      "metadata": {
        "colab": {
          "base_uri": "https://localhost:8080/"
        },
        "id": "oM8zPI1U-Avo",
        "outputId": "ba4d508a-0ca7-48aa-a063-56f6778ebe8f"
      },
      "execution_count": 91,
      "outputs": [
        {
          "output_type": "stream",
          "name": "stdout",
          "text": [
            "Índice de Silueta del Clúster 0: 0.22110453367279703\n",
            "Índice de Silueta del Clúster 1: 0.2968274159759808\n",
            "Índice de Silueta del Clúster 2: 0.0\n",
            "Índice de Silueta del Clúster 3: 0.2291468538719996\n",
            "Índice de Silueta del Clúster 4: 0.7333127005335314\n",
            "Índice de Silueta del Clúster 5: 0.0\n",
            "Índice de Silueta del Clúster 6: 0.05950970517903355\n",
            "Índice de Silueta del Clúster 7: 0.060284669020365424\n",
            "Índice de Silueta del Clúster 8: 0.0\n"
          ]
        }
      ]
    },
    {
      "cell_type": "markdown",
      "source": [
        "## **2.2 Fichero solo medias**"
      ],
      "metadata": {
        "id": "h_hc8SwXEL0g"
      }
    },
    {
      "cell_type": "code",
      "source": [
        "#Transformar datos categóricos a númericos\n",
        "data_processed_22 = transformData(df_only_avg)\n",
        "#Crear una matriz de características (feature matrix) a partir de los datos y sus columnas\n",
        "X_22, y_22 = data_processed_22.values, data_processed_22.columns"
      ],
      "metadata": {
        "id": "nl2kLVAnEL0h"
      },
      "execution_count": 92,
      "outputs": []
    },
    {
      "cell_type": "code",
      "source": [
        "#Obtener el valor apropiado para 'preferences' a partir del mejor coeficiente Silhoutte\n",
        "ap_results_22 = eval_preferences(X_22)\n",
        "#Obtener el valor apropiado para 'preferences' según un nº contcreto de clústeres\n",
        "ap_results_22.loc[ap_results_22['clusters'].isin([5,6,7,8,9,10])]"
      ],
      "metadata": {
        "colab": {
          "base_uri": "https://localhost:8080/",
          "height": 206
        },
        "id": "Jy-veqmdEL0h",
        "outputId": "f7a8cb22-fe11-43a4-fecf-809619b90122"
      },
      "execution_count": 93,
      "outputs": [
        {
          "output_type": "execute_result",
          "data": {
            "text/plain": [
              "    preference  clusters  sil_score\n",
              "61      -350.0       5.0   0.347130\n",
              "62      -300.0       6.0   0.136166\n",
              "63      -250.0       6.0   0.136166\n",
              "64      -200.0       8.0   0.115495\n",
              "65      -150.0      10.0   0.123250"
            ],
            "text/html": [
              "\n",
              "  <div id=\"df-57ae5e9d-06f3-4067-b96b-93420ee0254b\">\n",
              "    <div class=\"colab-df-container\">\n",
              "      <div>\n",
              "<style scoped>\n",
              "    .dataframe tbody tr th:only-of-type {\n",
              "        vertical-align: middle;\n",
              "    }\n",
              "\n",
              "    .dataframe tbody tr th {\n",
              "        vertical-align: top;\n",
              "    }\n",
              "\n",
              "    .dataframe thead th {\n",
              "        text-align: right;\n",
              "    }\n",
              "</style>\n",
              "<table border=\"1\" class=\"dataframe\">\n",
              "  <thead>\n",
              "    <tr style=\"text-align: right;\">\n",
              "      <th></th>\n",
              "      <th>preference</th>\n",
              "      <th>clusters</th>\n",
              "      <th>sil_score</th>\n",
              "    </tr>\n",
              "  </thead>\n",
              "  <tbody>\n",
              "    <tr>\n",
              "      <th>61</th>\n",
              "      <td>-350.0</td>\n",
              "      <td>5.0</td>\n",
              "      <td>0.347130</td>\n",
              "    </tr>\n",
              "    <tr>\n",
              "      <th>62</th>\n",
              "      <td>-300.0</td>\n",
              "      <td>6.0</td>\n",
              "      <td>0.136166</td>\n",
              "    </tr>\n",
              "    <tr>\n",
              "      <th>63</th>\n",
              "      <td>-250.0</td>\n",
              "      <td>6.0</td>\n",
              "      <td>0.136166</td>\n",
              "    </tr>\n",
              "    <tr>\n",
              "      <th>64</th>\n",
              "      <td>-200.0</td>\n",
              "      <td>8.0</td>\n",
              "      <td>0.115495</td>\n",
              "    </tr>\n",
              "    <tr>\n",
              "      <th>65</th>\n",
              "      <td>-150.0</td>\n",
              "      <td>10.0</td>\n",
              "      <td>0.123250</td>\n",
              "    </tr>\n",
              "  </tbody>\n",
              "</table>\n",
              "</div>\n",
              "      <button class=\"colab-df-convert\" onclick=\"convertToInteractive('df-57ae5e9d-06f3-4067-b96b-93420ee0254b')\"\n",
              "              title=\"Convert this dataframe to an interactive table.\"\n",
              "              style=\"display:none;\">\n",
              "        \n",
              "  <svg xmlns=\"http://www.w3.org/2000/svg\" height=\"24px\"viewBox=\"0 0 24 24\"\n",
              "       width=\"24px\">\n",
              "    <path d=\"M0 0h24v24H0V0z\" fill=\"none\"/>\n",
              "    <path d=\"M18.56 5.44l.94 2.06.94-2.06 2.06-.94-2.06-.94-.94-2.06-.94 2.06-2.06.94zm-11 1L8.5 8.5l.94-2.06 2.06-.94-2.06-.94L8.5 2.5l-.94 2.06-2.06.94zm10 10l.94 2.06.94-2.06 2.06-.94-2.06-.94-.94-2.06-.94 2.06-2.06.94z\"/><path d=\"M17.41 7.96l-1.37-1.37c-.4-.4-.92-.59-1.43-.59-.52 0-1.04.2-1.43.59L10.3 9.45l-7.72 7.72c-.78.78-.78 2.05 0 2.83L4 21.41c.39.39.9.59 1.41.59.51 0 1.02-.2 1.41-.59l7.78-7.78 2.81-2.81c.8-.78.8-2.07 0-2.86zM5.41 20L4 18.59l7.72-7.72 1.47 1.35L5.41 20z\"/>\n",
              "  </svg>\n",
              "      </button>\n",
              "      \n",
              "  <style>\n",
              "    .colab-df-container {\n",
              "      display:flex;\n",
              "      flex-wrap:wrap;\n",
              "      gap: 12px;\n",
              "    }\n",
              "\n",
              "    .colab-df-convert {\n",
              "      background-color: #E8F0FE;\n",
              "      border: none;\n",
              "      border-radius: 50%;\n",
              "      cursor: pointer;\n",
              "      display: none;\n",
              "      fill: #1967D2;\n",
              "      height: 32px;\n",
              "      padding: 0 0 0 0;\n",
              "      width: 32px;\n",
              "    }\n",
              "\n",
              "    .colab-df-convert:hover {\n",
              "      background-color: #E2EBFA;\n",
              "      box-shadow: 0px 1px 2px rgba(60, 64, 67, 0.3), 0px 1px 3px 1px rgba(60, 64, 67, 0.15);\n",
              "      fill: #174EA6;\n",
              "    }\n",
              "\n",
              "    [theme=dark] .colab-df-convert {\n",
              "      background-color: #3B4455;\n",
              "      fill: #D2E3FC;\n",
              "    }\n",
              "\n",
              "    [theme=dark] .colab-df-convert:hover {\n",
              "      background-color: #434B5C;\n",
              "      box-shadow: 0px 1px 3px 1px rgba(0, 0, 0, 0.15);\n",
              "      filter: drop-shadow(0px 1px 2px rgba(0, 0, 0, 0.3));\n",
              "      fill: #FFFFFF;\n",
              "    }\n",
              "  </style>\n",
              "\n",
              "      <script>\n",
              "        const buttonEl =\n",
              "          document.querySelector('#df-57ae5e9d-06f3-4067-b96b-93420ee0254b button.colab-df-convert');\n",
              "        buttonEl.style.display =\n",
              "          google.colab.kernel.accessAllowed ? 'block' : 'none';\n",
              "\n",
              "        async function convertToInteractive(key) {\n",
              "          const element = document.querySelector('#df-57ae5e9d-06f3-4067-b96b-93420ee0254b');\n",
              "          const dataTable =\n",
              "            await google.colab.kernel.invokeFunction('convertToInteractive',\n",
              "                                                     [key], {});\n",
              "          if (!dataTable) return;\n",
              "\n",
              "          const docLinkHtml = 'Like what you see? Visit the ' +\n",
              "            '<a target=\"_blank\" href=https://colab.research.google.com/notebooks/data_table.ipynb>data table notebook</a>'\n",
              "            + ' to learn more about interactive tables.';\n",
              "          element.innerHTML = '';\n",
              "          dataTable['output_type'] = 'display_data';\n",
              "          await google.colab.output.renderOutput(dataTable, element);\n",
              "          const docLink = document.createElement('div');\n",
              "          docLink.innerHTML = docLinkHtml;\n",
              "          element.appendChild(docLink);\n",
              "        }\n",
              "      </script>\n",
              "    </div>\n",
              "  </div>\n",
              "  "
            ]
          },
          "metadata": {},
          "execution_count": 93
        }
      ]
    },
    {
      "cell_type": "markdown",
      "source": [
        "> ### **6 clusters**"
      ],
      "metadata": {
        "id": "mhC8rrX2ICDW"
      }
    },
    {
      "cell_type": "code",
      "source": [
        "#Ejecución del algoritmo con los parámetros que obtienen un mejor coeficiente Silhoutte\n",
        "ap_22_6 = AffinityPropagation(damping=0.70, preference=-300, max_iter=200)\n",
        "model_22_6 = ap_22_6.fit(X_22)\n",
        "cluster_centers_indices_22_6 = model_22_6.cluster_centers_indices_\n",
        "n_22_6_clusters_ = len(cluster_centers_indices_22_6)\n",
        "labels_22_6 = model_22_6.predict(X_22)"
      ],
      "metadata": {
        "id": "E_KeBambICDX"
      },
      "execution_count": 94,
      "outputs": []
    },
    {
      "cell_type": "code",
      "source": [
        "#Visualizar gráfica de dispersión con la relación de atributos por clúster\n",
        "plot_dispersion_etiquetas (X_22, labels_22_6)"
      ],
      "metadata": {
        "id": "iUuLmmFUICDX"
      },
      "execution_count": null,
      "outputs": []
    },
    {
      "cell_type": "code",
      "source": [
        "#Visualizar gráfica de dispersión por clúster\n",
        "plot_dispersion(X_22, labels_22_6)"
      ],
      "metadata": {
        "colab": {
          "base_uri": "https://localhost:8080/",
          "height": 435
        },
        "id": "WW87GGTHICDY",
        "outputId": "79d198d3-769b-44ac-a877-ff7812c84567"
      },
      "execution_count": 95,
      "outputs": [
        {
          "output_type": "display_data",
          "data": {
            "text/plain": [
              "<Figure size 640x480 with 2 Axes>"
            ],
            "image/png": "[encoded data removed]"
          },
          "metadata": {}
        }
      ]
    },
    {
      "cell_type": "code",
      "source": [
        "#Listar la relación de los atributos más implicados para ser asociados a ese clúster\n",
        "list_atributos_porCluster (data_processed_22, n_22_6_clusters_, labels_22_6)"
      ],
      "metadata": {
        "id": "PF7DG24TICDY"
      },
      "execution_count": null,
      "outputs": []
    },
    {
      "cell_type": "code",
      "source": [
        "#Listar el valor medio del coeficiente Silhoutte por cluster\n",
        "list_silhoutte_porCluster(data_processed_22, labels_22_6)"
      ],
      "metadata": {
        "colab": {
          "base_uri": "https://localhost:8080/"
        },
        "id": "a5CzgHgkICDY",
        "outputId": "1b7af23f-8e6d-4dc7-eea9-9ed9c3d0e4f0"
      },
      "execution_count": 96,
      "outputs": [
        {
          "output_type": "stream",
          "name": "stdout",
          "text": [
            "Índice de Silueta del Clúster 0: 0.13769891122173228\n",
            "Índice de Silueta del Clúster 1: 0.13158620610444763\n",
            "Índice de Silueta del Clúster 2: 0.1633081191856601\n",
            "Índice de Silueta del Clúster 3: 0.7707502944373661\n",
            "Índice de Silueta del Clúster 4: 0.15647050718788605\n",
            "Índice de Silueta del Clúster 5: 0.05474482366362679\n"
          ]
        }
      ]
    },
    {
      "cell_type": "markdown",
      "source": [
        "> ### **8 clusters**"
      ],
      "metadata": {
        "id": "scdRDtXxICDY"
      }
    },
    {
      "cell_type": "code",
      "source": [
        "#Ejecución del algoritmo con los parámetros que obtienen un mejor coeficiente Silhoutte\n",
        "ap_22_8 = AffinityPropagation(damping=0.70, preference=-200, max_iter=200)\n",
        "model_22_8 = ap_22_8.fit(X_22)\n",
        "cluster_centers_indices_22_8 = model_22_8.cluster_centers_indices_\n",
        "n_22_8_clusters_ = len(cluster_centers_indices_22_8)\n",
        "labels_22_8 = model_22_8.predict(X_22)"
      ],
      "metadata": {
        "id": "_s4kTjUVICDZ"
      },
      "execution_count": 99,
      "outputs": []
    },
    {
      "cell_type": "code",
      "source": [
        "#Visualizar gráfica de dispersión con la relación de atributos por clúster\n",
        "plot_dispersion_etiquetas (X_22, labels_22_8)"
      ],
      "metadata": {
        "id": "GnzKca4XICDZ"
      },
      "execution_count": null,
      "outputs": []
    },
    {
      "cell_type": "code",
      "source": [
        "#Visualizar gráfica de dispersión por clúster\n",
        "plot_dispersion(X_22, labels_22_8)"
      ],
      "metadata": {
        "colab": {
          "base_uri": "https://localhost:8080/",
          "height": 435
        },
        "id": "AYpmPmk1ICDZ",
        "outputId": "337e4d56-247b-4fe3-ee96-1767c1ead9ec"
      },
      "execution_count": 100,
      "outputs": [
        {
          "output_type": "display_data",
          "data": {
            "text/plain": [
              "<Figure size 640x480 with 2 Axes>"
            ],
            "image/png": "[encoded data removed]"
          },
          "metadata": {}
        }
      ]
    },
    {
      "cell_type": "code",
      "source": [
        "#Listar la relación de los atributos más implicados para ser asociados a ese clúster\n",
        "list_atributos_porCluster (data_processed_22, n_22_8_clusters_, labels_22_8)"
      ],
      "metadata": {
        "id": "pCHEErlSICDZ"
      },
      "execution_count": null,
      "outputs": []
    },
    {
      "cell_type": "code",
      "source": [
        "#Listar el valor medio del coeficiente Silhoutte por cluster\n",
        "list_silhoutte_porCluster(data_processed_22, labels_22_8)"
      ],
      "metadata": {
        "colab": {
          "base_uri": "https://localhost:8080/"
        },
        "id": "vvmL5851ICDZ",
        "outputId": "af832e83-9ae8-4295-ad9f-9fc69e19c036"
      },
      "execution_count": 101,
      "outputs": [
        {
          "output_type": "stream",
          "name": "stdout",
          "text": [
            "Índice de Silueta del Clúster 0: 0.13492030779583586\n",
            "Índice de Silueta del Clúster 1: 0.22805634832233426\n",
            "Índice de Silueta del Clúster 2: 0.1522925392851702\n",
            "Índice de Silueta del Clúster 3: 0.7707502944373661\n",
            "Índice de Silueta del Clúster 4: 0.0\n",
            "Índice de Silueta del Clúster 5: 0.13655182551529063\n",
            "Índice de Silueta del Clúster 6: 0.024237303702591126\n",
            "Índice de Silueta del Clúster 7: 0.04013378719987782\n"
          ]
        }
      ]
    },
    {
      "cell_type": "markdown",
      "source": [
        "> ### **10 clusters**"
      ],
      "metadata": {
        "id": "q_rSUL3-ICDZ"
      }
    },
    {
      "cell_type": "code",
      "source": [
        "#Ejecución del algoritmo con los parámetros que obtienen un mejor coeficiente Silhoutte\n",
        "ap_22_10 = AffinityPropagation(damping=0.70, preference=-150, max_iter=200)\n",
        "model_22_10 = ap_22_10.fit(X_22)\n",
        "cluster_centers_indices_22_10 = model_22_10.cluster_centers_indices_\n",
        "n_22_10_clusters_ = len(cluster_centers_indices_22_10)\n",
        "labels_22_10 = model_22_10.predict(X_22)"
      ],
      "metadata": {
        "id": "_RLtllRZICDZ"
      },
      "execution_count": 102,
      "outputs": []
    },
    {
      "cell_type": "code",
      "source": [
        "#Visualizar gráfica de dispersión con la relación de atributos por clúster\n",
        "plot_dispersion_etiquetas (X_22, labels_22_10)"
      ],
      "metadata": {
        "id": "Mo2Q3kbXICDa"
      },
      "execution_count": null,
      "outputs": []
    },
    {
      "cell_type": "code",
      "source": [
        "#Visualizar gráfica de dispersión por clúster\n",
        "plot_dispersion(X_22, labels_22_10)"
      ],
      "metadata": {
        "colab": {
          "base_uri": "https://localhost:8080/",
          "height": 435
        },
        "id": "ifhOO-T-ICDa",
        "outputId": "86184747-3d1a-41f0-b3e0-70fd3e1b0b46"
      },
      "execution_count": 103,
      "outputs": [
        {
          "output_type": "display_data",
          "data": {
            "text/plain": [
              "<Figure size 640x480 with 2 Axes>"
            ],
            "image/png": "[encoded data removed]"
          },
          "metadata": {}
        }
      ]
    },
    {
      "cell_type": "code",
      "source": [
        "#Listar la relación de los atributos más implicados para ser asociados a ese clúster\n",
        "list_atributos_porCluster (data_processed_22, n_22_10_clusters_, labels_22_10)"
      ],
      "metadata": {
        "id": "BVJfsAJDICDa"
      },
      "execution_count": null,
      "outputs": []
    },
    {
      "cell_type": "code",
      "source": [
        "#Listar el valor medio del coeficiente Silhoutte por cluster\n",
        "list_silhoutte_porCluster(data_processed_22, labels_22_10)"
      ],
      "metadata": {
        "colab": {
          "base_uri": "https://localhost:8080/"
        },
        "id": "5E19KRjJICDa",
        "outputId": "de958c3c-df1b-4caa-ab84-f47682fc952f"
      },
      "execution_count": 104,
      "outputs": [
        {
          "output_type": "stream",
          "name": "stdout",
          "text": [
            "Índice de Silueta del Clúster 0: 0.5070470307144469\n",
            "Índice de Silueta del Clúster 1: 0.34327855658806655\n",
            "Índice de Silueta del Clúster 2: 0.0\n",
            "Índice de Silueta del Clúster 3: 0.1522925392851702\n",
            "Índice de Silueta del Clúster 4: 0.7188601257873226\n",
            "Índice de Silueta del Clúster 5: 0.0\n",
            "Índice de Silueta del Clúster 6: 0.10471881079484023\n",
            "Índice de Silueta del Clúster 7: 0.13362414727159933\n",
            "Índice de Silueta del Clúster 8: 0.024237303702591126\n",
            "Índice de Silueta del Clúster 9: 0.04013378719987782\n"
          ]
        }
      ]
    },
    {
      "cell_type": "markdown",
      "source": [
        "## **2.3 Fichero sin medias**"
      ],
      "metadata": {
        "id": "KnB8qqpfFnpv"
      }
    },
    {
      "cell_type": "code",
      "source": [
        "#Transformar datos categóricos a númericos\n",
        "data_processed_23 = transformData(df_without_avg)\n",
        "#Crear una matriz de características (feature matrix) a partir de los datos y sus columnas\n",
        "X_23, y_23 = data_processed_22.values, data_processed_23.columns"
      ],
      "metadata": {
        "id": "DofDF6qDFnpw"
      },
      "execution_count": 105,
      "outputs": []
    },
    {
      "cell_type": "code",
      "source": [
        "#Obtener el valor apropiado para 'preferences' a partir del mejor coeficiente Silhoutte\n",
        "ap_results_23 = eval_preferences(X_23)\n",
        "#Obtener el valor apropiado para 'preferences' según un nº contcreto de clústeres\n",
        "ap_results_23.loc[ap_results_23['clusters'].isin([5,6,7,8,9,10])]"
      ],
      "metadata": {
        "colab": {
          "base_uri": "https://localhost:8080/",
          "height": 206
        },
        "outputId": "56ba4b2d-2224-4cb4-90b3-df8db517dc00",
        "id": "rG5vNet2Fnpw"
      },
      "execution_count": 106,
      "outputs": [
        {
          "output_type": "execute_result",
          "data": {
            "text/plain": [
              "    preference  clusters  sil_score\n",
              "61      -350.0       5.0   0.347130\n",
              "62      -300.0       6.0   0.136166\n",
              "63      -250.0       6.0   0.136166\n",
              "64      -200.0       8.0   0.115495\n",
              "65      -150.0      10.0   0.123250"
            ],
            "text/html": [
              "\n",
              "  <div id=\"df-9bf17bdf-6fbe-4bf0-ad5b-e4f2c3604482\">\n",
              "    <div class=\"colab-df-container\">\n",
              "      <div>\n",
              "<style scoped>\n",
              "    .dataframe tbody tr th:only-of-type {\n",
              "        vertical-align: middle;\n",
              "    }\n",
              "\n",
              "    .dataframe tbody tr th {\n",
              "        vertical-align: top;\n",
              "    }\n",
              "\n",
              "    .dataframe thead th {\n",
              "        text-align: right;\n",
              "    }\n",
              "</style>\n",
              "<table border=\"1\" class=\"dataframe\">\n",
              "  <thead>\n",
              "    <tr style=\"text-align: right;\">\n",
              "      <th></th>\n",
              "      <th>preference</th>\n",
              "      <th>clusters</th>\n",
              "      <th>sil_score</th>\n",
              "    </tr>\n",
              "  </thead>\n",
              "  <tbody>\n",
              "    <tr>\n",
              "      <th>61</th>\n",
              "      <td>-350.0</td>\n",
              "      <td>5.0</td>\n",
              "      <td>0.347130</td>\n",
              "    </tr>\n",
              "    <tr>\n",
              "      <th>62</th>\n",
              "      <td>-300.0</td>\n",
              "      <td>6.0</td>\n",
              "      <td>0.136166</td>\n",
              "    </tr>\n",
              "    <tr>\n",
              "      <th>63</th>\n",
              "      <td>-250.0</td>\n",
              "      <td>6.0</td>\n",
              "      <td>0.136166</td>\n",
              "    </tr>\n",
              "    <tr>\n",
              "      <th>64</th>\n",
              "      <td>-200.0</td>\n",
              "      <td>8.0</td>\n",
              "      <td>0.115495</td>\n",
              "    </tr>\n",
              "    <tr>\n",
              "      <th>65</th>\n",
              "      <td>-150.0</td>\n",
              "      <td>10.0</td>\n",
              "      <td>0.123250</td>\n",
              "    </tr>\n",
              "  </tbody>\n",
              "</table>\n",
              "</div>\n",
              "      <button class=\"colab-df-convert\" onclick=\"convertToInteractive('df-9bf17bdf-6fbe-4bf0-ad5b-e4f2c3604482')\"\n",
              "              title=\"Convert this dataframe to an interactive table.\"\n",
              "              style=\"display:none;\">\n",
              "        \n",
              "  <svg xmlns=\"http://www.w3.org/2000/svg\" height=\"24px\"viewBox=\"0 0 24 24\"\n",
              "       width=\"24px\">\n",
              "    <path d=\"M0 0h24v24H0V0z\" fill=\"none\"/>\n",
              "    <path d=\"M18.56 5.44l.94 2.06.94-2.06 2.06-.94-2.06-.94-.94-2.06-.94 2.06-2.06.94zm-11 1L8.5 8.5l.94-2.06 2.06-.94-2.06-.94L8.5 2.5l-.94 2.06-2.06.94zm10 10l.94 2.06.94-2.06 2.06-.94-2.06-.94-.94-2.06-.94 2.06-2.06.94z\"/><path d=\"M17.41 7.96l-1.37-1.37c-.4-.4-.92-.59-1.43-.59-.52 0-1.04.2-1.43.59L10.3 9.45l-7.72 7.72c-.78.78-.78 2.05 0 2.83L4 21.41c.39.39.9.59 1.41.59.51 0 1.02-.2 1.41-.59l7.78-7.78 2.81-2.81c.8-.78.8-2.07 0-2.86zM5.41 20L4 18.59l7.72-7.72 1.47 1.35L5.41 20z\"/>\n",
              "  </svg>\n",
              "      </button>\n",
              "      \n",
              "  <style>\n",
              "    .colab-df-container {\n",
              "      display:flex;\n",
              "      flex-wrap:wrap;\n",
              "      gap: 12px;\n",
              "    }\n",
              "\n",
              "    .colab-df-convert {\n",
              "      background-color: #E8F0FE;\n",
              "      border: none;\n",
              "      border-radius: 50%;\n",
              "      cursor: pointer;\n",
              "      display: none;\n",
              "      fill: #1967D2;\n",
              "      height: 32px;\n",
              "      padding: 0 0 0 0;\n",
              "      width: 32px;\n",
              "    }\n",
              "\n",
              "    .colab-df-convert:hover {\n",
              "      background-color: #E2EBFA;\n",
              "      box-shadow: 0px 1px 2px rgba(60, 64, 67, 0.3), 0px 1px 3px 1px rgba(60, 64, 67, 0.15);\n",
              "      fill: #174EA6;\n",
              "    }\n",
              "\n",
              "    [theme=dark] .colab-df-convert {\n",
              "      background-color: #3B4455;\n",
              "      fill: #D2E3FC;\n",
              "    }\n",
              "\n",
              "    [theme=dark] .colab-df-convert:hover {\n",
              "      background-color: #434B5C;\n",
              "      box-shadow: 0px 1px 3px 1px rgba(0, 0, 0, 0.15);\n",
              "      filter: drop-shadow(0px 1px 2px rgba(0, 0, 0, 0.3));\n",
              "      fill: #FFFFFF;\n",
              "    }\n",
              "  </style>\n",
              "\n",
              "      <script>\n",
              "        const buttonEl =\n",
              "          document.querySelector('#df-9bf17bdf-6fbe-4bf0-ad5b-e4f2c3604482 button.colab-df-convert');\n",
              "        buttonEl.style.display =\n",
              "          google.colab.kernel.accessAllowed ? 'block' : 'none';\n",
              "\n",
              "        async function convertToInteractive(key) {\n",
              "          const element = document.querySelector('#df-9bf17bdf-6fbe-4bf0-ad5b-e4f2c3604482');\n",
              "          const dataTable =\n",
              "            await google.colab.kernel.invokeFunction('convertToInteractive',\n",
              "                                                     [key], {});\n",
              "          if (!dataTable) return;\n",
              "\n",
              "          const docLinkHtml = 'Like what you see? Visit the ' +\n",
              "            '<a target=\"_blank\" href=https://colab.research.google.com/notebooks/data_table.ipynb>data table notebook</a>'\n",
              "            + ' to learn more about interactive tables.';\n",
              "          element.innerHTML = '';\n",
              "          dataTable['output_type'] = 'display_data';\n",
              "          await google.colab.output.renderOutput(dataTable, element);\n",
              "          const docLink = document.createElement('div');\n",
              "          docLink.innerHTML = docLinkHtml;\n",
              "          element.appendChild(docLink);\n",
              "        }\n",
              "      </script>\n",
              "    </div>\n",
              "  </div>\n",
              "  "
            ]
          },
          "metadata": {},
          "execution_count": 106
        }
      ]
    },
    {
      "cell_type": "markdown",
      "source": [
        "> ### **6 clusters**"
      ],
      "metadata": {
        "id": "tK2afwrcJFAI"
      }
    },
    {
      "cell_type": "code",
      "source": [
        "#Ejecución del algoritmo con los parámetros que obtienen un mejor coeficiente Silhoutte\n",
        "ap_23_6 = AffinityPropagation(damping=0.70, preference=-300, max_iter=200)\n",
        "model_23_6 = ap_23_6.fit(X_23)\n",
        "cluster_centers_indices_23_6 = model_23_6.cluster_centers_indices_\n",
        "n_23_6_clusters_ = len(cluster_centers_indices_23_6)\n",
        "labels_23_6 = model_23_6.predict(X_23)"
      ],
      "metadata": {
        "id": "jCds8bU8JFAJ"
      },
      "execution_count": 107,
      "outputs": []
    },
    {
      "cell_type": "code",
      "source": [
        "#Visualizar gráfica de dispersión con la relación de atributos por clúster\n",
        "plot_dispersion_etiquetas (X_23, labels_23_6)"
      ],
      "metadata": {
        "id": "XkPs3-bGJFAK"
      },
      "execution_count": null,
      "outputs": []
    },
    {
      "cell_type": "code",
      "source": [
        "#Visualizar gráfica de dispersión por clúster\n",
        "plot_dispersion(X_23, labels_23_6)"
      ],
      "metadata": {
        "colab": {
          "base_uri": "https://localhost:8080/",
          "height": 435
        },
        "id": "loyKGz1-JFAK",
        "outputId": "d81160df-8a4c-42e1-c33b-ddd80d5ff9d1"
      },
      "execution_count": 108,
      "outputs": [
        {
          "output_type": "display_data",
          "data": {
            "text/plain": [
              "<Figure size 640x480 with 2 Axes>"
            ],
            "image/png": "[encoded data removed]"
          },
          "metadata": {}
        }
      ]
    },
    {
      "cell_type": "code",
      "source": [
        "#Listar la relación de los atributos más implicados para ser asociados a ese clúster\n",
        "list_atributos_porCluster (data_processed_23, n_23_6_clusters_, labels_23_6)"
      ],
      "metadata": {
        "id": "Vjf2J-2zJFAL"
      },
      "execution_count": null,
      "outputs": []
    },
    {
      "cell_type": "code",
      "source": [
        "#Listar el valor medio del coeficiente Silhoutte por cluster\n",
        "list_silhoutte_porCluster(data_processed_23, labels_23_6)"
      ],
      "metadata": {
        "colab": {
          "base_uri": "https://localhost:8080/"
        },
        "id": "-_K5kfkvJFAL",
        "outputId": "80434406-774d-4b77-ce4a-7880af7a5317"
      },
      "execution_count": 109,
      "outputs": [
        {
          "output_type": "stream",
          "name": "stdout",
          "text": [
            "Índice de Silueta del Clúster 0: 0.13401015985697776\n",
            "Índice de Silueta del Clúster 1: 0.09652642872522604\n",
            "Índice de Silueta del Clúster 2: 0.1506029264268672\n",
            "Índice de Silueta del Clúster 3: 0.7282433642242887\n",
            "Índice de Silueta del Clúster 4: 0.0920328111618919\n",
            "Índice de Silueta del Clúster 5: 0.030581958093239145\n"
          ]
        }
      ]
    },
    {
      "cell_type": "markdown",
      "source": [
        "> ### **8 clusters**"
      ],
      "metadata": {
        "id": "W-uEOuO9JFAL"
      }
    },
    {
      "cell_type": "code",
      "source": [
        "#Ejecución del algoritmo con los parámetros que obtienen un mejor coeficiente Silhoutte\n",
        "ap_23_8 = AffinityPropagation(damping=0.70, preference=-200, max_iter=200)\n",
        "model_23_8 = ap_23_8.fit(X_23)\n",
        "cluster_centers_indices_23_8 = model_23_8.cluster_centers_indices_\n",
        "n_23_8_clusters_ = len(cluster_centers_indices_23_8)\n",
        "labels_23_8 = model_23_8.predict(X_23)"
      ],
      "metadata": {
        "id": "f0KZZ-XmJFAL"
      },
      "execution_count": 110,
      "outputs": []
    },
    {
      "cell_type": "code",
      "source": [
        "#Visualizar gráfica de dispersión con la relación de atributos por clúster\n",
        "plot_dispersion_etiquetas (X_23, labels_23_8)"
      ],
      "metadata": {
        "id": "czYjBjzuJFAL"
      },
      "execution_count": null,
      "outputs": []
    },
    {
      "cell_type": "code",
      "source": [
        "#Visualizar gráfica de dispersión por clúster\n",
        "plot_dispersion(X_23, labels_23_8)"
      ],
      "metadata": {
        "colab": {
          "base_uri": "https://localhost:8080/",
          "height": 435
        },
        "id": "geLccEp1JFAL",
        "outputId": "4da22e9e-0e23-40b7-e2ed-9f9d63c5067a"
      },
      "execution_count": 111,
      "outputs": [
        {
          "output_type": "display_data",
          "data": {
            "text/plain": [
              "<Figure size 640x480 with 2 Axes>"
            ],
            "image/png": "[encoded data removed]"
          },
          "metadata": {}
        }
      ]
    },
    {
      "cell_type": "code",
      "source": [
        "#Listar la relación de los atributos más implicados para ser asociados a ese clúster\n",
        "list_atributos_porCluster (data_processed_23, n_23_8_clusters_, labels_23_8)"
      ],
      "metadata": {
        "id": "WhO_LpTDJFAL"
      },
      "execution_count": null,
      "outputs": []
    },
    {
      "cell_type": "code",
      "source": [
        "#Listar el valor medio del coeficiente Silhoutte por cluster\n",
        "list_silhoutte_porCluster(data_processed_23, labels_23_8)"
      ],
      "metadata": {
        "colab": {
          "base_uri": "https://localhost:8080/"
        },
        "id": "bETabjcNJFAL",
        "outputId": "d2e74f98-d6b4-4a4f-b290-ef261fbcdda9"
      },
      "execution_count": 112,
      "outputs": [
        {
          "output_type": "stream",
          "name": "stdout",
          "text": [
            "Índice de Silueta del Clúster 0: 0.13401015985697776\n",
            "Índice de Silueta del Clúster 1: 0.14540521719005745\n",
            "Índice de Silueta del Clúster 2: 0.1398766408291891\n",
            "Índice de Silueta del Clúster 3: 0.7282433642242887\n",
            "Índice de Silueta del Clúster 4: 0.0\n",
            "Índice de Silueta del Clúster 5: 0.06447977379049473\n",
            "Índice de Silueta del Clúster 6: 0.013767780453739241\n",
            "Índice de Silueta del Clúster 7: 0.014966708253017264\n"
          ]
        }
      ]
    },
    {
      "cell_type": "markdown",
      "source": [
        "> ### **10 clusters**"
      ],
      "metadata": {
        "id": "kRLReC-PJFAM"
      }
    },
    {
      "cell_type": "code",
      "source": [
        "#Ejecución del algoritmo con los parámetros que obtienen un mejor coeficiente Silhoutte\n",
        "ap_23_10 = AffinityPropagation(damping=0.70, preference=-150, max_iter=200)\n",
        "model_23_10 = ap_23_10.fit(X_23)\n",
        "cluster_centers_indices_23_10 = model_23_10.cluster_centers_indices_\n",
        "n_23_10_clusters_ = len(cluster_centers_indices_23_10)\n",
        "labels_23_10 = model_22_10.predict(X_22)"
      ],
      "metadata": {
        "id": "2P0slW91JFAM"
      },
      "execution_count": 113,
      "outputs": []
    },
    {
      "cell_type": "code",
      "source": [
        "#Visualizar gráfica de dispersión con la relación de atributos por clúster\n",
        "plot_dispersion_etiquetas (X_23, labels_23_10)"
      ],
      "metadata": {
        "id": "M-mA0OcZJFAM"
      },
      "execution_count": null,
      "outputs": []
    },
    {
      "cell_type": "code",
      "source": [
        "#Visualizar gráfica de dispersión por clúster\n",
        "plot_dispersion(X_23, labels_23_10)"
      ],
      "metadata": {
        "colab": {
          "base_uri": "https://localhost:8080/",
          "height": 435
        },
        "id": "-M7y3dAFJFAM",
        "outputId": "1ee20008-c9e8-4bf9-f18b-5c71b703b866"
      },
      "execution_count": 114,
      "outputs": [
        {
          "output_type": "display_data",
          "data": {
            "text/plain": [
              "<Figure size 640x480 with 2 Axes>"
            ],
            "image/png": "[encoded data removed]"
          },
          "metadata": {}
        }
      ]
    },
    {
      "cell_type": "code",
      "source": [
        "#Listar la relación de los atributos más implicados para ser asociados a ese clúster\n",
        "list_atributos_porCluster (data_processed_23, n_23_10_clusters_, labels_23_10)"
      ],
      "metadata": {
        "id": "YcGYcwl7JFAM"
      },
      "execution_count": null,
      "outputs": []
    },
    {
      "cell_type": "code",
      "source": [
        "#Listar el valor medio del coeficiente Silhoutte por cluster\n",
        "list_silhoutte_porCluster(data_processed_23, labels_23_10)"
      ],
      "metadata": {
        "colab": {
          "base_uri": "https://localhost:8080/"
        },
        "id": "-HTvyJ15JFAM",
        "outputId": "29305e7d-8a5c-4f07-a38d-abca9ef2542c"
      },
      "execution_count": 115,
      "outputs": [
        {
          "output_type": "stream",
          "name": "stdout",
          "text": [
            "Índice de Silueta del Clúster 0: 0.490986269469501\n",
            "Índice de Silueta del Clúster 1: 0.27112886750551546\n",
            "Índice de Silueta del Clúster 2: 0.0\n",
            "Índice de Silueta del Clúster 3: 0.1398766408291891\n",
            "Índice de Silueta del Clúster 4: 0.6744176037708214\n",
            "Índice de Silueta del Clúster 5: 0.0\n",
            "Índice de Silueta del Clúster 6: -0.006349608797308219\n",
            "Índice de Silueta del Clúster 7: 0.06377114455344632\n",
            "Índice de Silueta del Clúster 8: 0.013767780453739241\n",
            "Índice de Silueta del Clúster 9: 0.014966708253017264\n"
          ]
        }
      ]
    }
  ]
}