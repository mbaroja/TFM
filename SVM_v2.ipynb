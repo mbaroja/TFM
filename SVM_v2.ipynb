{
  "cells": [
    {
      "cell_type": "markdown",
      "metadata": {
        "id": "view-in-github",
        "colab_type": "text"
      },
      "source": [
        "<a href=\"https://colab.research.google.com/github/mbaroja/TFM/blob/code/SVM_v2.ipynb\" target=\"_parent\"><img src=\"https://colab.research.google.com/assets/colab-badge.svg\" alt=\"Open In Colab\"/></a>"
      ]
    },
    {
      "cell_type": "markdown",
      "source": [
        "#Librerías"
      ],
      "metadata": {
        "id": "HrpCSs87HSPf"
      },
      "id": "HrpCSs87HSPf"
    },
    {
      "cell_type": "code",
      "source": [
        "import pandas as pd\n",
        "import numpy as np\n",
        "from sklearn.model_selection import train_test_split\n",
        "from sklearn.svm import SVC\n",
        "from sklearn.metrics import accuracy_score\n",
        "\n",
        "import matplotlib.pyplot as plt\n",
        "\n",
        "from sklearn.metrics import roc_curve, roc_auc_score\n",
        "from sklearn.metrics import confusion_matrix            # matriz de confusión\n",
        "from sklearn.metrics import classification_report       # evaluación  Accuracy/Precision/Recall/F1 Score\n",
        "from sklearn.metrics import ConfusionMatrixDisplay      # matriz de confusión para mapa de calor"
      ],
      "metadata": {
        "id": "Gm1Sk5PuHTjO"
      },
      "id": "Gm1Sk5PuHTjO",
      "execution_count": null,
      "outputs": []
    },
    {
      "cell_type": "markdown",
      "source": [
        "# Descarga de Datos"
      ],
      "metadata": {
        "id": "GtDjBWmHIYlD"
      },
      "id": "GtDjBWmHIYlD"
    },
    {
      "cell_type": "code",
      "execution_count": null,
      "id": "de37c14c-d8fb-4ff5-94a9-28b96c00c20c",
      "metadata": {
        "id": "de37c14c-d8fb-4ff5-94a9-28b96c00c20c"
      },
      "outputs": [],
      "source": [
        "# Cargar los datos desde el archivo CSV\n",
        "# data = pd.read_csv('datos.csv')\n",
        "data = pd.read_csv('https://raw.githubusercontent.com/mbaroja/TFM/data/data_cleaned.csv', delimiter=';')"
      ]
    },
    {
      "cell_type": "markdown",
      "source": [
        "# Preprocesado de Datos"
      ],
      "metadata": {
        "id": "Y8UbOOqBIc3Z"
      },
      "id": "Y8UbOOqBIc3Z"
    },
    {
      "cell_type": "code",
      "source": [
        "#Preprocesado de datos ya que SVC requiere datos numéricos\n",
        "\n",
        "#identificar las columnas que contienen valores de texto en el conjunto de datos\n",
        "data_text = data.select_dtypes(include='object')\n",
        "# aplicar la codificación one-hot utilizando el método get_dummies de Pandas para convertir esas columnas en columnas numéricas\n",
        "data_encoded = pd.get_dummies(data_text)"
      ],
      "metadata": {
        "id": "jI-i8opoCD9s"
      },
      "id": "jI-i8opoCD9s",
      "execution_count": null,
      "outputs": []
    },
    {
      "cell_type": "code",
      "source": [
        "#una vez que preprocesados los datos, combinar las columnas numéricas procesadas con el resto del conjunto de datos.\n",
        "data_numeric = data.select_dtypes(exclude='object')\n",
        "data_processed = pd.concat([data_numeric, data_encoded], axis=1)"
      ],
      "metadata": {
        "id": "ax2k6IybCMQ_"
      },
      "id": "ax2k6IybCMQ_",
      "execution_count": null,
      "outputs": []
    },
    {
      "cell_type": "code",
      "source": [
        "data_processed"
      ],
      "metadata": {
        "colab": {
          "base_uri": "https://localhost:8080/",
          "height": 505
        },
        "id": "l8oMKlVoC2Gi",
        "outputId": "6888df4d-1ee3-4347-82ff-9745746612bd"
      },
      "id": "l8oMKlVoC2Gi",
      "execution_count": null,
      "outputs": [
        {
          "output_type": "execute_result",
          "data": {
            "text/plain": [
              "      V1   V2   V3  SA1  SA2  SA3  SI0  SI1  SI2  SP1  ...  EQUIPO_qmsudmubli  \\\n",
              "0    5.0  4.0  4.0  5.0  5.0  5.0  4.0  5.0  5.0  4.0  ...                  0   \n",
              "1    4.0  5.0  3.0  5.0  5.0  5.0  4.0  5.0  6.0  2.0  ...                  0   \n",
              "2    5.0  4.0  5.0  4.0  4.0  4.0  4.0  5.0  5.0  3.0  ...                  0   \n",
              "3    5.0  5.0  5.0  5.0  5.0  5.0  5.0  5.0  5.0  4.0  ...                  0   \n",
              "4    2.0  2.0  2.0  1.0  1.0  1.0  4.0  5.0  5.0  1.0  ...                  0   \n",
              "..   ...  ...  ...  ...  ...  ...  ...  ...  ...  ...  ...                ...   \n",
              "128  4.0  4.0  4.0  5.0  4.0  5.0  2.0  4.0  4.0  2.0  ...                  1   \n",
              "129  2.0  3.0  4.0  5.0  4.0  4.0  3.0  6.0  4.0  1.0  ...                  1   \n",
              "130 -1.0 -1.0 -1.0 -1.0 -1.0 -1.0 -1.0 -1.0 -1.0 -1.0  ...                  1   \n",
              "131  5.0  5.0  5.0  5.0  5.0  5.0  5.0  5.0  5.0  5.0  ...                  1   \n",
              "132  6.0  5.0  5.0  5.0  5.0  5.0  5.0  6.0  5.0  6.0  ...                  1   \n",
              "\n",
              "     EQUIPO_rflidbinih  EDAD_ijawrgtfuz  EDAD_omygfsbzgq  EDAD_pqgwhrmfdu  \\\n",
              "0                    0                0                0                1   \n",
              "1                    0                0                0                1   \n",
              "2                    0                0                1                0   \n",
              "3                    0                0                0                1   \n",
              "4                    0                0                0                1   \n",
              "..                 ...              ...              ...              ...   \n",
              "128                  0                0                0                0   \n",
              "129                  0                0                0                0   \n",
              "130                  0                0                0                0   \n",
              "131                  0                0                0                0   \n",
              "132                  0                0                0                0   \n",
              "\n",
              "     EDAD_qmsudmubli  EDAD_vjekcogdhn  GENERO_Femenino  GENERO_Masculino  \\\n",
              "0                  0                0                0                 1   \n",
              "1                  0                0                0                 1   \n",
              "2                  0                0                1                 0   \n",
              "3                  0                0                0                 1   \n",
              "4                  0                0                0                 1   \n",
              "..               ...              ...              ...               ...   \n",
              "128                1                0                0                 0   \n",
              "129                1                0                0                 0   \n",
              "130                1                0                0                 0   \n",
              "131                1                0                0                 0   \n",
              "132                1                0                0                 0   \n",
              "\n",
              "     GENERO_No binario  \n",
              "0                    0  \n",
              "1                    0  \n",
              "2                    0  \n",
              "3                    0  \n",
              "4                    0  \n",
              "..                 ...  \n",
              "128                  0  \n",
              "129                  0  \n",
              "130                  0  \n",
              "131                  0  \n",
              "132                  0  \n",
              "\n",
              "[133 rows x 126 columns]"
            ],
            "text/html": [
              "\n",
              "  <div id=\"df-173f3892-baef-4681-822d-3587c96426ee\">\n",
              "    <div class=\"colab-df-container\">\n",
              "      <div>\n",
              "<style scoped>\n",
              "    .dataframe tbody tr th:only-of-type {\n",
              "        vertical-align: middle;\n",
              "    }\n",
              "\n",
              "    .dataframe tbody tr th {\n",
              "        vertical-align: top;\n",
              "    }\n",
              "\n",
              "    .dataframe thead th {\n",
              "        text-align: right;\n",
              "    }\n",
              "</style>\n",
              "<table border=\"1\" class=\"dataframe\">\n",
              "  <thead>\n",
              "    <tr style=\"text-align: right;\">\n",
              "      <th></th>\n",
              "      <th>V1</th>\n",
              "      <th>V2</th>\n",
              "      <th>V3</th>\n",
              "      <th>SA1</th>\n",
              "      <th>SA2</th>\n",
              "      <th>SA3</th>\n",
              "      <th>SI0</th>\n",
              "      <th>SI1</th>\n",
              "      <th>SI2</th>\n",
              "      <th>SP1</th>\n",
              "      <th>...</th>\n",
              "      <th>EQUIPO_qmsudmubli</th>\n",
              "      <th>EQUIPO_rflidbinih</th>\n",
              "      <th>EDAD_ijawrgtfuz</th>\n",
              "      <th>EDAD_omygfsbzgq</th>\n",
              "      <th>EDAD_pqgwhrmfdu</th>\n",
              "      <th>EDAD_qmsudmubli</th>\n",
              "      <th>EDAD_vjekcogdhn</th>\n",
              "      <th>GENERO_Femenino</th>\n",
              "      <th>GENERO_Masculino</th>\n",
              "      <th>GENERO_No binario</th>\n",
              "    </tr>\n",
              "  </thead>\n",
              "  <tbody>\n",
              "    <tr>\n",
              "      <th>0</th>\n",
              "      <td>5.0</td>\n",
              "      <td>4.0</td>\n",
              "      <td>4.0</td>\n",
              "      <td>5.0</td>\n",
              "      <td>5.0</td>\n",
              "      <td>5.0</td>\n",
              "      <td>4.0</td>\n",
              "      <td>5.0</td>\n",
              "      <td>5.0</td>\n",
              "      <td>4.0</td>\n",
              "      <td>...</td>\n",
              "      <td>0</td>\n",
              "      <td>0</td>\n",
              "      <td>0</td>\n",
              "      <td>0</td>\n",
              "      <td>1</td>\n",
              "      <td>0</td>\n",
              "      <td>0</td>\n",
              "      <td>0</td>\n",
              "      <td>1</td>\n",
              "      <td>0</td>\n",
              "    </tr>\n",
              "    <tr>\n",
              "      <th>1</th>\n",
              "      <td>4.0</td>\n",
              "      <td>5.0</td>\n",
              "      <td>3.0</td>\n",
              "      <td>5.0</td>\n",
              "      <td>5.0</td>\n",
              "      <td>5.0</td>\n",
              "      <td>4.0</td>\n",
              "      <td>5.0</td>\n",
              "      <td>6.0</td>\n",
              "      <td>2.0</td>\n",
              "      <td>...</td>\n",
              "      <td>0</td>\n",
              "      <td>0</td>\n",
              "      <td>0</td>\n",
              "      <td>0</td>\n",
              "      <td>1</td>\n",
              "      <td>0</td>\n",
              "      <td>0</td>\n",
              "      <td>0</td>\n",
              "      <td>1</td>\n",
              "      <td>0</td>\n",
              "    </tr>\n",
              "    <tr>\n",
              "      <th>2</th>\n",
              "      <td>5.0</td>\n",
              "      <td>4.0</td>\n",
              "      <td>5.0</td>\n",
              "      <td>4.0</td>\n",
              "      <td>4.0</td>\n",
              "      <td>4.0</td>\n",
              "      <td>4.0</td>\n",
              "      <td>5.0</td>\n",
              "      <td>5.0</td>\n",
              "      <td>3.0</td>\n",
              "      <td>...</td>\n",
              "      <td>0</td>\n",
              "      <td>0</td>\n",
              "      <td>0</td>\n",
              "      <td>1</td>\n",
              "      <td>0</td>\n",
              "      <td>0</td>\n",
              "      <td>0</td>\n",
              "      <td>1</td>\n",
              "      <td>0</td>\n",
              "      <td>0</td>\n",
              "    </tr>\n",
              "    <tr>\n",
              "      <th>3</th>\n",
              "      <td>5.0</td>\n",
              "      <td>5.0</td>\n",
              "      <td>5.0</td>\n",
              "      <td>5.0</td>\n",
              "      <td>5.0</td>\n",
              "      <td>5.0</td>\n",
              "      <td>5.0</td>\n",
              "      <td>5.0</td>\n",
              "      <td>5.0</td>\n",
              "      <td>4.0</td>\n",
              "      <td>...</td>\n",
              "      <td>0</td>\n",
              "      <td>0</td>\n",
              "      <td>0</td>\n",
              "      <td>0</td>\n",
              "      <td>1</td>\n",
              "      <td>0</td>\n",
              "      <td>0</td>\n",
              "      <td>0</td>\n",
              "      <td>1</td>\n",
              "      <td>0</td>\n",
              "    </tr>\n",
              "    <tr>\n",
              "      <th>4</th>\n",
              "      <td>2.0</td>\n",
              "      <td>2.0</td>\n",
              "      <td>2.0</td>\n",
              "      <td>1.0</td>\n",
              "      <td>1.0</td>\n",
              "      <td>1.0</td>\n",
              "      <td>4.0</td>\n",
              "      <td>5.0</td>\n",
              "      <td>5.0</td>\n",
              "      <td>1.0</td>\n",
              "      <td>...</td>\n",
              "      <td>0</td>\n",
              "      <td>0</td>\n",
              "      <td>0</td>\n",
              "      <td>0</td>\n",
              "      <td>1</td>\n",
              "      <td>0</td>\n",
              "      <td>0</td>\n",
              "      <td>0</td>\n",
              "      <td>1</td>\n",
              "      <td>0</td>\n",
              "    </tr>\n",
              "    <tr>\n",
              "      <th>...</th>\n",
              "      <td>...</td>\n",
              "      <td>...</td>\n",
              "      <td>...</td>\n",
              "      <td>...</td>\n",
              "      <td>...</td>\n",
              "      <td>...</td>\n",
              "      <td>...</td>\n",
              "      <td>...</td>\n",
              "      <td>...</td>\n",
              "      <td>...</td>\n",
              "      <td>...</td>\n",
              "      <td>...</td>\n",
              "      <td>...</td>\n",
              "      <td>...</td>\n",
              "      <td>...</td>\n",
              "      <td>...</td>\n",
              "      <td>...</td>\n",
              "      <td>...</td>\n",
              "      <td>...</td>\n",
              "      <td>...</td>\n",
              "      <td>...</td>\n",
              "    </tr>\n",
              "    <tr>\n",
              "      <th>128</th>\n",
              "      <td>4.0</td>\n",
              "      <td>4.0</td>\n",
              "      <td>4.0</td>\n",
              "      <td>5.0</td>\n",
              "      <td>4.0</td>\n",
              "      <td>5.0</td>\n",
              "      <td>2.0</td>\n",
              "      <td>4.0</td>\n",
              "      <td>4.0</td>\n",
              "      <td>2.0</td>\n",
              "      <td>...</td>\n",
              "      <td>1</td>\n",
              "      <td>0</td>\n",
              "      <td>0</td>\n",
              "      <td>0</td>\n",
              "      <td>0</td>\n",
              "      <td>1</td>\n",
              "      <td>0</td>\n",
              "      <td>0</td>\n",
              "      <td>0</td>\n",
              "      <td>0</td>\n",
              "    </tr>\n",
              "    <tr>\n",
              "      <th>129</th>\n",
              "      <td>2.0</td>\n",
              "      <td>3.0</td>\n",
              "      <td>4.0</td>\n",
              "      <td>5.0</td>\n",
              "      <td>4.0</td>\n",
              "      <td>4.0</td>\n",
              "      <td>3.0</td>\n",
              "      <td>6.0</td>\n",
              "      <td>4.0</td>\n",
              "      <td>1.0</td>\n",
              "      <td>...</td>\n",
              "      <td>1</td>\n",
              "      <td>0</td>\n",
              "      <td>0</td>\n",
              "      <td>0</td>\n",
              "      <td>0</td>\n",
              "      <td>1</td>\n",
              "      <td>0</td>\n",
              "      <td>0</td>\n",
              "      <td>0</td>\n",
              "      <td>0</td>\n",
              "    </tr>\n",
              "    <tr>\n",
              "      <th>130</th>\n",
              "      <td>-1.0</td>\n",
              "      <td>-1.0</td>\n",
              "      <td>-1.0</td>\n",
              "      <td>-1.0</td>\n",
              "      <td>-1.0</td>\n",
              "      <td>-1.0</td>\n",
              "      <td>-1.0</td>\n",
              "      <td>-1.0</td>\n",
              "      <td>-1.0</td>\n",
              "      <td>-1.0</td>\n",
              "      <td>...</td>\n",
              "      <td>1</td>\n",
              "      <td>0</td>\n",
              "      <td>0</td>\n",
              "      <td>0</td>\n",
              "      <td>0</td>\n",
              "      <td>1</td>\n",
              "      <td>0</td>\n",
              "      <td>0</td>\n",
              "      <td>0</td>\n",
              "      <td>0</td>\n",
              "    </tr>\n",
              "    <tr>\n",
              "      <th>131</th>\n",
              "      <td>5.0</td>\n",
              "      <td>5.0</td>\n",
              "      <td>5.0</td>\n",
              "      <td>5.0</td>\n",
              "      <td>5.0</td>\n",
              "      <td>5.0</td>\n",
              "      <td>5.0</td>\n",
              "      <td>5.0</td>\n",
              "      <td>5.0</td>\n",
              "      <td>5.0</td>\n",
              "      <td>...</td>\n",
              "      <td>1</td>\n",
              "      <td>0</td>\n",
              "      <td>0</td>\n",
              "      <td>0</td>\n",
              "      <td>0</td>\n",
              "      <td>1</td>\n",
              "      <td>0</td>\n",
              "      <td>0</td>\n",
              "      <td>0</td>\n",
              "      <td>0</td>\n",
              "    </tr>\n",
              "    <tr>\n",
              "      <th>132</th>\n",
              "      <td>6.0</td>\n",
              "      <td>5.0</td>\n",
              "      <td>5.0</td>\n",
              "      <td>5.0</td>\n",
              "      <td>5.0</td>\n",
              "      <td>5.0</td>\n",
              "      <td>5.0</td>\n",
              "      <td>6.0</td>\n",
              "      <td>5.0</td>\n",
              "      <td>6.0</td>\n",
              "      <td>...</td>\n",
              "      <td>1</td>\n",
              "      <td>0</td>\n",
              "      <td>0</td>\n",
              "      <td>0</td>\n",
              "      <td>0</td>\n",
              "      <td>1</td>\n",
              "      <td>0</td>\n",
              "      <td>0</td>\n",
              "      <td>0</td>\n",
              "      <td>0</td>\n",
              "    </tr>\n",
              "  </tbody>\n",
              "</table>\n",
              "<p>133 rows × 126 columns</p>\n",
              "</div>\n",
              "      <button class=\"colab-df-convert\" onclick=\"convertToInteractive('df-173f3892-baef-4681-822d-3587c96426ee')\"\n",
              "              title=\"Convert this dataframe to an interactive table.\"\n",
              "              style=\"display:none;\">\n",
              "        \n",
              "  <svg xmlns=\"http://www.w3.org/2000/svg\" height=\"24px\"viewBox=\"0 0 24 24\"\n",
              "       width=\"24px\">\n",
              "    <path d=\"M0 0h24v24H0V0z\" fill=\"none\"/>\n",
              "    <path d=\"M18.56 5.44l.94 2.06.94-2.06 2.06-.94-2.06-.94-.94-2.06-.94 2.06-2.06.94zm-11 1L8.5 8.5l.94-2.06 2.06-.94-2.06-.94L8.5 2.5l-.94 2.06-2.06.94zm10 10l.94 2.06.94-2.06 2.06-.94-2.06-.94-.94-2.06-.94 2.06-2.06.94z\"/><path d=\"M17.41 7.96l-1.37-1.37c-.4-.4-.92-.59-1.43-.59-.52 0-1.04.2-1.43.59L10.3 9.45l-7.72 7.72c-.78.78-.78 2.05 0 2.83L4 21.41c.39.39.9.59 1.41.59.51 0 1.02-.2 1.41-.59l7.78-7.78 2.81-2.81c.8-.78.8-2.07 0-2.86zM5.41 20L4 18.59l7.72-7.72 1.47 1.35L5.41 20z\"/>\n",
              "  </svg>\n",
              "      </button>\n",
              "      \n",
              "  <style>\n",
              "    .colab-df-container {\n",
              "      display:flex;\n",
              "      flex-wrap:wrap;\n",
              "      gap: 12px;\n",
              "    }\n",
              "\n",
              "    .colab-df-convert {\n",
              "      background-color: #E8F0FE;\n",
              "      border: none;\n",
              "      border-radius: 50%;\n",
              "      cursor: pointer;\n",
              "      display: none;\n",
              "      fill: #1967D2;\n",
              "      height: 32px;\n",
              "      padding: 0 0 0 0;\n",
              "      width: 32px;\n",
              "    }\n",
              "\n",
              "    .colab-df-convert:hover {\n",
              "      background-color: #E2EBFA;\n",
              "      box-shadow: 0px 1px 2px rgba(60, 64, 67, 0.3), 0px 1px 3px 1px rgba(60, 64, 67, 0.15);\n",
              "      fill: #174EA6;\n",
              "    }\n",
              "\n",
              "    [theme=dark] .colab-df-convert {\n",
              "      background-color: #3B4455;\n",
              "      fill: #D2E3FC;\n",
              "    }\n",
              "\n",
              "    [theme=dark] .colab-df-convert:hover {\n",
              "      background-color: #434B5C;\n",
              "      box-shadow: 0px 1px 3px 1px rgba(0, 0, 0, 0.15);\n",
              "      filter: drop-shadow(0px 1px 2px rgba(0, 0, 0, 0.3));\n",
              "      fill: #FFFFFF;\n",
              "    }\n",
              "  </style>\n",
              "\n",
              "      <script>\n",
              "        const buttonEl =\n",
              "          document.querySelector('#df-173f3892-baef-4681-822d-3587c96426ee button.colab-df-convert');\n",
              "        buttonEl.style.display =\n",
              "          google.colab.kernel.accessAllowed ? 'block' : 'none';\n",
              "\n",
              "        async function convertToInteractive(key) {\n",
              "          const element = document.querySelector('#df-173f3892-baef-4681-822d-3587c96426ee');\n",
              "          const dataTable =\n",
              "            await google.colab.kernel.invokeFunction('convertToInteractive',\n",
              "                                                     [key], {});\n",
              "          if (!dataTable) return;\n",
              "\n",
              "          const docLinkHtml = 'Like what you see? Visit the ' +\n",
              "            '<a target=\"_blank\" href=https://colab.research.google.com/notebooks/data_table.ipynb>data table notebook</a>'\n",
              "            + ' to learn more about interactive tables.';\n",
              "          element.innerHTML = '';\n",
              "          dataTable['output_type'] = 'display_data';\n",
              "          await google.colab.output.renderOutput(dataTable, element);\n",
              "          const docLink = document.createElement('div');\n",
              "          docLink.innerHTML = docLinkHtml;\n",
              "          element.appendChild(docLink);\n",
              "        }\n",
              "      </script>\n",
              "    </div>\n",
              "  </div>\n",
              "  "
            ]
          },
          "metadata": {},
          "execution_count": 9
        }
      ]
    },
    {
      "cell_type": "code",
      "execution_count": null,
      "id": "1155781a-5ef4-4e7c-9f60-2e722f00314d",
      "metadata": {
        "id": "1155781a-5ef4-4e7c-9f60-2e722f00314d"
      },
      "outputs": [],
      "source": [
        "# Dividir los datos en características (X) y etiquetas (y)\n",
        "X = data_processed.drop('EQUIPO_qmsudmubli', axis=1)  # nombre de la columna objetivo, en este caso AREA\n",
        "y = data_processed['EQUIPO_qmsudmubli']\n",
        "\n",
        "# Dividir los datos en conjuntos de entrenamiento y prueba\n",
        "X_train, X_test, y_train, y_test = train_test_split(X, y, test_size=0.2, random_state=42)"
      ]
    },
    {
      "cell_type": "markdown",
      "source": [
        "## Creación del Modelo\n",
        "\n",
        "> Bloque con sangría\n",
        "\n"
      ],
      "metadata": {
        "id": "KJXYiyexJMxI"
      },
      "id": "KJXYiyexJMxI"
    },
    {
      "cell_type": "code",
      "execution_count": null,
      "id": "11f8a296-ef57-4556-9448-e64237d5b997",
      "metadata": {
        "id": "11f8a296-ef57-4556-9448-e64237d5b997"
      },
      "outputs": [],
      "source": [
        "# Crear el modelo SVM\n",
        "modelSVC = SVC(probability=True)\n",
        "\n",
        "# Entrenar el modelo\n",
        "history = modelSVC.fit(X_train, y_train)"
      ]
    },
    {
      "cell_type": "markdown",
      "source": [
        "## Predicciones y resultados"
      ],
      "metadata": {
        "id": "1j_qvOfYLqWH"
      },
      "id": "1j_qvOfYLqWH"
    },
    {
      "cell_type": "code",
      "execution_count": null,
      "id": "99f9ea5c-1bc6-46f7-8a9a-e525dd2f1542",
      "metadata": {
        "colab": {
          "base_uri": "https://localhost:8080/"
        },
        "id": "99f9ea5c-1bc6-46f7-8a9a-e525dd2f1542",
        "outputId": "fc55e9e2-8f82-4b03-b373-15cd2256f080"
      },
      "outputs": [
        {
          "output_type": "stream",
          "name": "stdout",
          "text": [
            "Precisión: 0.9629629629629629\n"
          ]
        }
      ],
      "source": [
        "# Realizar predicciones en el conjunto de prueba\n",
        "y_pred = modelSVC.predict(X_test)\n",
        "\n",
        "# Calcular la precisión del modelo\n",
        "accuracy = accuracy_score(y_test, y_pred)\n",
        "print(\"Precisión:\", accuracy)"
      ]
    },
    {
      "cell_type": "code",
      "source": [
        "# Resultados\n",
        "resultados = modelSVC.predict(X_test)\n",
        "resultados_maximos = []\n",
        "for i in resultados:\n",
        "  resultados_maximos.append(np.where(i==i.max()))\n",
        "resultados_maximos= [int(tupla[0]) for tupla in resultados_maximos]\n",
        "\n",
        "# Generación del informe de clasificación\n",
        "print(\"\\n\", classification_report(y_test, resultados_maximos, zero_division=True))"
      ],
      "metadata": {
        "colab": {
          "base_uri": "https://localhost:8080/"
        },
        "id": "EFZFExArKplS",
        "outputId": "e0830632-f121-4569-9838-446f91e52b44"
      },
      "id": "EFZFExArKplS",
      "execution_count": null,
      "outputs": [
        {
          "output_type": "stream",
          "name": "stdout",
          "text": [
            "\n",
            "               precision    recall  f1-score   support\n",
            "\n",
            "           0       0.96      1.00      0.98        26\n",
            "           1       1.00      0.00      0.00         1\n",
            "\n",
            "    accuracy                           0.96        27\n",
            "   macro avg       0.98      0.50      0.49        27\n",
            "weighted avg       0.96      0.96      0.94        27\n",
            "\n"
          ]
        }
      ]
    },
    {
      "cell_type": "code",
      "source": [
        "# Matriz de confusión\n",
        "cm = confusion_matrix(y_test, y_pred)\n",
        "\n",
        "# Visualizar matriz de confusión\n",
        "plt.figure(figsize=(8, 6))\n",
        "plt.imshow(cm, interpolation='nearest', cmap=plt.cm.Blues)\n",
        "plt.title('Matriz de Confusión')\n",
        "plt.colorbar()\n",
        "classes = ['V1', 'V2']  # Ajustar las etiquetas de clase según los datos\n",
        "tick_marks = np.arange(len(classes))\n",
        "plt.xticks(tick_marks, classes)\n",
        "plt.yticks(tick_marks, classes)\n",
        "plt.xlabel('Etiqueta Predicha')\n",
        "plt.ylabel('Etiqueta Real')\n",
        "plt.show()\n"
      ],
      "metadata": {
        "colab": {
          "base_uri": "https://localhost:8080/",
          "height": 564
        },
        "id": "VGvPhzjcEUUu",
        "outputId": "9fb493bc-5724-44d6-c528-167045e3b454"
      },
      "id": "VGvPhzjcEUUu",
      "execution_count": null,
      "outputs": [
        {
          "output_type": "display_data",
          "data": {
            "text/plain": [
              "<Figure size 800x600 with 2 Axes>"
            ],
            "image/png": "[encoded data removed]"
          },
          "metadata": {}
        }
      ]
    },
    {
      "cell_type": "code",
      "source": [
        "# Obtener las puntuaciones de la función de decisión\n",
        "y_scores = modelSVC.decision_function(X_test)\n",
        "fpr, tpr, _ = roc_curve(y_test, y_scores)\n",
        "roc_auc = roc_auc_score(y_test, y_scores)\n",
        "\n",
        "# Visualizar curva ROC\n",
        "plt.figure(figsize=(8, 6))\n",
        "plt.plot(fpr, tpr, label='Curva ROC (área = %0.2f)' % roc_auc)\n",
        "plt.plot([0, 1], [0, 1], 'k--')\n",
        "plt.xlim([0.0, 1.0])\n",
        "plt.ylim([0.0, 1.05])\n",
        "plt.xlabel('Tasa de Falsos Positivos')\n",
        "plt.ylabel('Tasa de Verdaderos Positivos')\n",
        "plt.title('Curva ROC')\n",
        "plt.legend(loc='lower right')\n",
        "plt.show()"
      ],
      "metadata": {
        "colab": {
          "base_uri": "https://localhost:8080/",
          "height": 564
        },
        "id": "-tl16xK9G7YJ",
        "outputId": "b2311b39-7aea-4d19-a224-314a4976d1fe"
      },
      "id": "-tl16xK9G7YJ",
      "execution_count": null,
      "outputs": [
        {
          "output_type": "display_data",
          "data": {
            "text/plain": [
              "<Figure size 800x600 with 1 Axes>"
            ],
            "image/png": "[encoded data removed]"
          },
          "metadata": {}
        }
      ]
    }
  ],
  "metadata": {
    "kernelspec": {
      "display_name": "Python 3 (ipykernel)",
      "language": "python",
      "name": "python3"
    },
    "language_info": {
      "codemirror_mode": {
        "name": "ipython",
        "version": 3
      },
      "file_extension": ".py",
      "mimetype": "text/x-python",
      "name": "python",
      "nbconvert_exporter": "python",
      "pygments_lexer": "ipython3",
      "version": "3.9.12"
    },
    "colab": {
      "provenance": [],
      "include_colab_link": true
    }
  },
  "nbformat": 4,
  "nbformat_minor": 5
}