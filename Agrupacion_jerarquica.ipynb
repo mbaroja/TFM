{
  "nbformat": 4,
  "nbformat_minor": 0,
  "metadata": {
    "colab": {
      "provenance": [],
      "authorship_tag": "ABX9TyPRxAQk7NTMCfOB8tjBRmu6",
      "include_colab_link": true
    },
    "kernelspec": {
      "name": "python3",
      "display_name": "Python 3"
    },
    "language_info": {
      "name": "python"
    }
  },
  "cells": [
    {
      "cell_type": "markdown",
      "metadata": {
        "id": "view-in-github",
        "colab_type": "text"
      },
      "source": [
        "<a href=\"https://colab.research.google.com/github/mbaroja/TFM/blob/code/Agrupacion_jerarquica.ipynb\" target=\"_parent\"><img src=\"https://colab.research.google.com/assets/colab-badge.svg\" alt=\"Open In Colab\"/></a>"
      ]
    },
    {
      "cell_type": "code",
      "execution_count": 39,
      "metadata": {
        "id": "rLmqqMR2Qar-"
      },
      "outputs": [],
      "source": [
        "import pandas as pd\n",
        "import numpy as np\n",
        "import matplotlib.pyplot as plt\n",
        "from sklearn.cluster import AgglomerativeClustering, FeatureAgglomeration\n",
        "from scipy.cluster.hierarchy import dendrogram, linkage\n",
        "from sklearn.decomposition import PCA\n",
        "from sklearn.metrics import silhouette_score, silhouette_samples\n"
      ]
    },
    {
      "cell_type": "code",
      "source": [
        "# Carga de los datos a un dataframe y comprobar dimensionalidad\n",
        "\n",
        "#df=pd.read_csv(\"https://raw.githubusercontent.com/mbaroja/TFM/data/data_cleaned.csv\",delimiter=\";\")\n",
        "#df=pd.read_csv(\"https://raw.githubusercontent.com/mbaroja/TFM/data/data_cleaned_without_avgcolumns.csv\",delimiter=\";\")\n",
        "df=pd.read_csv(\"https://raw.githubusercontent.com/mbaroja/TFM/data/data_cleaned_only_avgcolumns.csv\",delimiter=\";\")\n",
        "\n",
        "df.shape\n"
      ],
      "metadata": {
        "colab": {
          "base_uri": "https://localhost:8080/"
        },
        "id": "CeNz4eWOQujq",
        "outputId": "7174062a-5788-450e-bcbf-8b66c63a32a4"
      },
      "execution_count": 40,
      "outputs": [
        {
          "output_type": "execute_result",
          "data": {
            "text/plain": [
              "(133, 29)"
            ]
          },
          "metadata": {},
          "execution_count": 40
        }
      ]
    },
    {
      "cell_type": "code",
      "source": [
        "df.info()"
      ],
      "metadata": {
        "colab": {
          "base_uri": "https://localhost:8080/"
        },
        "id": "Wo_jF4tsKmml",
        "outputId": "58d2ff4d-2177-4d77-a7cf-5f31e07a76c4"
      },
      "execution_count": 41,
      "outputs": [
        {
          "output_type": "stream",
          "name": "stdout",
          "text": [
            "<class 'pandas.core.frame.DataFrame'>\n",
            "RangeIndex: 133 entries, 0 to 132\n",
            "Data columns (total 29 columns):\n",
            " #   Column      Non-Null Count  Dtype  \n",
            "---  ------      --------------  -----  \n",
            " 0   AREA        133 non-null    object \n",
            " 1   EQUIPO      133 non-null    object \n",
            " 2   EDAD        133 non-null    object \n",
            " 3   GENERO      119 non-null    object \n",
            " 4   V_media     133 non-null    float64\n",
            " 5   SA_media    133 non-null    float64\n",
            " 6   SI_media    133 non-null    float64\n",
            " 7   SP_media    133 non-null    float64\n",
            " 8   SF_media    133 non-null    float64\n",
            " 9   CL_media    133 non-null    float64\n",
            " 10  CH_media    133 non-null    float64\n",
            " 11  CE_media    133 non-null    float64\n",
            " 12  CB_media    133 non-null    float64\n",
            " 13  CD_media    133 non-null    float64\n",
            " 14  CJ_media    133 non-null    float64\n",
            " 15  CC_media    133 non-null    float64\n",
            " 16  CI_media    133 non-null    float64\n",
            " 17  LS_media    133 non-null    float64\n",
            " 18  LA_media    133 non-null    float64\n",
            " 19  LV_media    133 non-null    float64\n",
            " 20  LG_media    133 non-null    float64\n",
            " 21  RET_media   133 non-null    float64\n",
            " 22  PS_media    133 non-null    float64\n",
            " 23  RS_media    133 non-null    float64\n",
            " 24  RC_media    133 non-null    float64\n",
            " 25  E_media     133 non-null    float64\n",
            " 26  CSSC_media  133 non-null    float64\n",
            " 27  TLKS_media  133 non-null    float64\n",
            " 28  Obs_01      133 non-null    int64  \n",
            "dtypes: float64(24), int64(1), object(4)\n",
            "memory usage: 30.3+ KB\n"
          ]
        }
      ]
    },
    {
      "cell_type": "markdown",
      "source": [
        "**Preprocesado de los datos de entrada**"
      ],
      "metadata": {
        "id": "8pvaaxbGkEFq"
      }
    },
    {
      "cell_type": "code",
      "execution_count": 42,
      "metadata": {
        "id": "9fe2f35a-fee5-4a24-983b-13f63ed08fc2"
      },
      "outputs": [],
      "source": [
        "#Preprocesado de datos ya que los algoritmos requieren datos numéricos para calcular la matriz de afinidad y realizar el clustering\n",
        "\n",
        "#identificar las columnas que contienen valores de texto en el conjunto de datos\n",
        "data_text = df.select_dtypes(include='object')\n",
        "# aplicar la codificación one-hot utilizando el método get_dummies de Pandas para convertir esas columnas en columnas numéricas\n",
        "data_encoded = pd.get_dummies(data_text)"
      ]
    },
    {
      "cell_type": "code",
      "execution_count": 43,
      "metadata": {
        "id": "5f144750-0142-492e-971b-1ebe34da0dee"
      },
      "outputs": [],
      "source": [
        "#una vez que preprocesados los datos, combinar las columnas numéricas procesadas con el resto del conjunto de datos.\n",
        "data_numeric = df.select_dtypes(exclude='object')\n",
        "data_processed = pd.concat([data_numeric, data_encoded], axis=1)"
      ]
    },
    {
      "cell_type": "code",
      "source": [
        "data_processed"
      ],
      "metadata": {
        "colab": {
          "base_uri": "https://localhost:8080/",
          "height": 505
        },
        "id": "bMSACmWcGyh5",
        "outputId": "e0c50a4a-9dad-4cfa-d85b-5d77ed33c9c1"
      },
      "execution_count": 44,
      "outputs": [
        {
          "output_type": "execute_result",
          "data": {
            "text/plain": [
              "      V_media  SA_media  SI_media  SP_media  SF_media  CL_media  CH_media  \\\n",
              "0    4.333333  5.000000  4.666667  3.000000  4.000000  5.000000  4.000000   \n",
              "1    4.000000  5.000000  5.000000  2.000000  4.666667  5.000000  5.333333   \n",
              "2    4.666667  4.000000  4.666667  3.000000  4.333333  5.000000  5.000000   \n",
              "3    5.000000  5.000000  5.000000  4.000000  4.000000  4.666667  4.666667   \n",
              "4    2.000000  1.000000  4.666667  1.000000  1.000000  1.000000  1.333333   \n",
              "..        ...       ...       ...       ...       ...       ...       ...   \n",
              "128  4.000000  4.666667  3.333333  2.000000  2.000000  5.000000  4.000000   \n",
              "129  3.000000  4.333333  4.333333  1.333333  2.000000  4.666667  2.000000   \n",
              "130 -1.000000 -1.000000 -1.000000 -1.000000 -1.000000  4.666667  3.000000   \n",
              "131  5.000000  5.000000  5.000000  5.000000  5.000000  5.000000  5.000000   \n",
              "132  5.333333  5.000000  5.333333  5.333333  5.000000  4.333333  4.666667   \n",
              "\n",
              "     CE_media  CB_media  CD_media  ...  EQUIPO_qmsudmubli  EQUIPO_rflidbinih  \\\n",
              "0    4.333333  3.666667  5.000000  ...                  0                  0   \n",
              "1    6.000000  4.333333  4.000000  ...                  0                  0   \n",
              "2    5.000000  3.333333  2.333333  ...                  0                  0   \n",
              "3    4.666667  4.666667  3.666667  ...                  0                  0   \n",
              "4    2.000000  4.000000  5.000000  ...                  0                  0   \n",
              "..        ...       ...       ...  ...                ...                ...   \n",
              "128  4.333333  3.000000  2.333333  ...                  1                  0   \n",
              "129  3.333333  3.333333  4.333333  ...                  1                  0   \n",
              "130  3.666667  3.000000  3.000000  ...                  1                  0   \n",
              "131  5.000000  5.000000  5.000000  ...                  1                  0   \n",
              "132  5.000000  3.000000  3.333333  ...                  1                  0   \n",
              "\n",
              "     EDAD_ijawrgtfuz  EDAD_omygfsbzgq  EDAD_pqgwhrmfdu  EDAD_qmsudmubli  \\\n",
              "0                  0                0                1                0   \n",
              "1                  0                0                1                0   \n",
              "2                  0                1                0                0   \n",
              "3                  0                0                1                0   \n",
              "4                  0                0                1                0   \n",
              "..               ...              ...              ...              ...   \n",
              "128                0                0                0                1   \n",
              "129                0                0                0                1   \n",
              "130                0                0                0                1   \n",
              "131                0                0                0                1   \n",
              "132                0                0                0                1   \n",
              "\n",
              "     EDAD_vjekcogdhn  GENERO_Femenino  GENERO_Masculino  GENERO_No binario  \n",
              "0                  0                0                 1                  0  \n",
              "1                  0                0                 1                  0  \n",
              "2                  0                1                 0                  0  \n",
              "3                  0                0                 1                  0  \n",
              "4                  0                0                 1                  0  \n",
              "..               ...              ...               ...                ...  \n",
              "128                0                0                 0                  0  \n",
              "129                0                0                 0                  0  \n",
              "130                0                0                 0                  0  \n",
              "131                0                0                 0                  0  \n",
              "132                0                0                 0                  0  \n",
              "\n",
              "[133 rows x 45 columns]"
            ],
            "text/html": [
              "\n",
              "  <div id=\"df-1fc068d6-e24c-4920-a7d0-fecf11d6af02\">\n",
              "    <div class=\"colab-df-container\">\n",
              "      <div>\n",
              "<style scoped>\n",
              "    .dataframe tbody tr th:only-of-type {\n",
              "        vertical-align: middle;\n",
              "    }\n",
              "\n",
              "    .dataframe tbody tr th {\n",
              "        vertical-align: top;\n",
              "    }\n",
              "\n",
              "    .dataframe thead th {\n",
              "        text-align: right;\n",
              "    }\n",
              "</style>\n",
              "<table border=\"1\" class=\"dataframe\">\n",
              "  <thead>\n",
              "    <tr style=\"text-align: right;\">\n",
              "      <th></th>\n",
              "      <th>V_media</th>\n",
              "      <th>SA_media</th>\n",
              "      <th>SI_media</th>\n",
              "      <th>SP_media</th>\n",
              "      <th>SF_media</th>\n",
              "      <th>CL_media</th>\n",
              "      <th>CH_media</th>\n",
              "      <th>CE_media</th>\n",
              "      <th>CB_media</th>\n",
              "      <th>CD_media</th>\n",
              "      <th>...</th>\n",
              "      <th>EQUIPO_qmsudmubli</th>\n",
              "      <th>EQUIPO_rflidbinih</th>\n",
              "      <th>EDAD_ijawrgtfuz</th>\n",
              "      <th>EDAD_omygfsbzgq</th>\n",
              "      <th>EDAD_pqgwhrmfdu</th>\n",
              "      <th>EDAD_qmsudmubli</th>\n",
              "      <th>EDAD_vjekcogdhn</th>\n",
              "      <th>GENERO_Femenino</th>\n",
              "      <th>GENERO_Masculino</th>\n",
              "      <th>GENERO_No binario</th>\n",
              "    </tr>\n",
              "  </thead>\n",
              "  <tbody>\n",
              "    <tr>\n",
              "      <th>0</th>\n",
              "      <td>4.333333</td>\n",
              "      <td>5.000000</td>\n",
              "      <td>4.666667</td>\n",
              "      <td>3.000000</td>\n",
              "      <td>4.000000</td>\n",
              "      <td>5.000000</td>\n",
              "      <td>4.000000</td>\n",
              "      <td>4.333333</td>\n",
              "      <td>3.666667</td>\n",
              "      <td>5.000000</td>\n",
              "      <td>...</td>\n",
              "      <td>0</td>\n",
              "      <td>0</td>\n",
              "      <td>0</td>\n",
              "      <td>0</td>\n",
              "      <td>1</td>\n",
              "      <td>0</td>\n",
              "      <td>0</td>\n",
              "      <td>0</td>\n",
              "      <td>1</td>\n",
              "      <td>0</td>\n",
              "    </tr>\n",
              "    <tr>\n",
              "      <th>1</th>\n",
              "      <td>4.000000</td>\n",
              "      <td>5.000000</td>\n",
              "      <td>5.000000</td>\n",
              "      <td>2.000000</td>\n",
              "      <td>4.666667</td>\n",
              "      <td>5.000000</td>\n",
              "      <td>5.333333</td>\n",
              "      <td>6.000000</td>\n",
              "      <td>4.333333</td>\n",
              "      <td>4.000000</td>\n",
              "      <td>...</td>\n",
              "      <td>0</td>\n",
              "      <td>0</td>\n",
              "      <td>0</td>\n",
              "      <td>0</td>\n",
              "      <td>1</td>\n",
              "      <td>0</td>\n",
              "      <td>0</td>\n",
              "      <td>0</td>\n",
              "      <td>1</td>\n",
              "      <td>0</td>\n",
              "    </tr>\n",
              "    <tr>\n",
              "      <th>2</th>\n",
              "      <td>4.666667</td>\n",
              "      <td>4.000000</td>\n",
              "      <td>4.666667</td>\n",
              "      <td>3.000000</td>\n",
              "      <td>4.333333</td>\n",
              "      <td>5.000000</td>\n",
              "      <td>5.000000</td>\n",
              "      <td>5.000000</td>\n",
              "      <td>3.333333</td>\n",
              "      <td>2.333333</td>\n",
              "      <td>...</td>\n",
              "      <td>0</td>\n",
              "      <td>0</td>\n",
              "      <td>0</td>\n",
              "      <td>1</td>\n",
              "      <td>0</td>\n",
              "      <td>0</td>\n",
              "      <td>0</td>\n",
              "      <td>1</td>\n",
              "      <td>0</td>\n",
              "      <td>0</td>\n",
              "    </tr>\n",
              "    <tr>\n",
              "      <th>3</th>\n",
              "      <td>5.000000</td>\n",
              "      <td>5.000000</td>\n",
              "      <td>5.000000</td>\n",
              "      <td>4.000000</td>\n",
              "      <td>4.000000</td>\n",
              "      <td>4.666667</td>\n",
              "      <td>4.666667</td>\n",
              "      <td>4.666667</td>\n",
              "      <td>4.666667</td>\n",
              "      <td>3.666667</td>\n",
              "      <td>...</td>\n",
              "      <td>0</td>\n",
              "      <td>0</td>\n",
              "      <td>0</td>\n",
              "      <td>0</td>\n",
              "      <td>1</td>\n",
              "      <td>0</td>\n",
              "      <td>0</td>\n",
              "      <td>0</td>\n",
              "      <td>1</td>\n",
              "      <td>0</td>\n",
              "    </tr>\n",
              "    <tr>\n",
              "      <th>4</th>\n",
              "      <td>2.000000</td>\n",
              "      <td>1.000000</td>\n",
              "      <td>4.666667</td>\n",
              "      <td>1.000000</td>\n",
              "      <td>1.000000</td>\n",
              "      <td>1.000000</td>\n",
              "      <td>1.333333</td>\n",
              "      <td>2.000000</td>\n",
              "      <td>4.000000</td>\n",
              "      <td>5.000000</td>\n",
              "      <td>...</td>\n",
              "      <td>0</td>\n",
              "      <td>0</td>\n",
              "      <td>0</td>\n",
              "      <td>0</td>\n",
              "      <td>1</td>\n",
              "      <td>0</td>\n",
              "      <td>0</td>\n",
              "      <td>0</td>\n",
              "      <td>1</td>\n",
              "      <td>0</td>\n",
              "    </tr>\n",
              "    <tr>\n",
              "      <th>...</th>\n",
              "      <td>...</td>\n",
              "      <td>...</td>\n",
              "      <td>...</td>\n",
              "      <td>...</td>\n",
              "      <td>...</td>\n",
              "      <td>...</td>\n",
              "      <td>...</td>\n",
              "      <td>...</td>\n",
              "      <td>...</td>\n",
              "      <td>...</td>\n",
              "      <td>...</td>\n",
              "      <td>...</td>\n",
              "      <td>...</td>\n",
              "      <td>...</td>\n",
              "      <td>...</td>\n",
              "      <td>...</td>\n",
              "      <td>...</td>\n",
              "      <td>...</td>\n",
              "      <td>...</td>\n",
              "      <td>...</td>\n",
              "      <td>...</td>\n",
              "    </tr>\n",
              "    <tr>\n",
              "      <th>128</th>\n",
              "      <td>4.000000</td>\n",
              "      <td>4.666667</td>\n",
              "      <td>3.333333</td>\n",
              "      <td>2.000000</td>\n",
              "      <td>2.000000</td>\n",
              "      <td>5.000000</td>\n",
              "      <td>4.000000</td>\n",
              "      <td>4.333333</td>\n",
              "      <td>3.000000</td>\n",
              "      <td>2.333333</td>\n",
              "      <td>...</td>\n",
              "      <td>1</td>\n",
              "      <td>0</td>\n",
              "      <td>0</td>\n",
              "      <td>0</td>\n",
              "      <td>0</td>\n",
              "      <td>1</td>\n",
              "      <td>0</td>\n",
              "      <td>0</td>\n",
              "      <td>0</td>\n",
              "      <td>0</td>\n",
              "    </tr>\n",
              "    <tr>\n",
              "      <th>129</th>\n",
              "      <td>3.000000</td>\n",
              "      <td>4.333333</td>\n",
              "      <td>4.333333</td>\n",
              "      <td>1.333333</td>\n",
              "      <td>2.000000</td>\n",
              "      <td>4.666667</td>\n",
              "      <td>2.000000</td>\n",
              "      <td>3.333333</td>\n",
              "      <td>3.333333</td>\n",
              "      <td>4.333333</td>\n",
              "      <td>...</td>\n",
              "      <td>1</td>\n",
              "      <td>0</td>\n",
              "      <td>0</td>\n",
              "      <td>0</td>\n",
              "      <td>0</td>\n",
              "      <td>1</td>\n",
              "      <td>0</td>\n",
              "      <td>0</td>\n",
              "      <td>0</td>\n",
              "      <td>0</td>\n",
              "    </tr>\n",
              "    <tr>\n",
              "      <th>130</th>\n",
              "      <td>-1.000000</td>\n",
              "      <td>-1.000000</td>\n",
              "      <td>-1.000000</td>\n",
              "      <td>-1.000000</td>\n",
              "      <td>-1.000000</td>\n",
              "      <td>4.666667</td>\n",
              "      <td>3.000000</td>\n",
              "      <td>3.666667</td>\n",
              "      <td>3.000000</td>\n",
              "      <td>3.000000</td>\n",
              "      <td>...</td>\n",
              "      <td>1</td>\n",
              "      <td>0</td>\n",
              "      <td>0</td>\n",
              "      <td>0</td>\n",
              "      <td>0</td>\n",
              "      <td>1</td>\n",
              "      <td>0</td>\n",
              "      <td>0</td>\n",
              "      <td>0</td>\n",
              "      <td>0</td>\n",
              "    </tr>\n",
              "    <tr>\n",
              "      <th>131</th>\n",
              "      <td>5.000000</td>\n",
              "      <td>5.000000</td>\n",
              "      <td>5.000000</td>\n",
              "      <td>5.000000</td>\n",
              "      <td>5.000000</td>\n",
              "      <td>5.000000</td>\n",
              "      <td>5.000000</td>\n",
              "      <td>5.000000</td>\n",
              "      <td>5.000000</td>\n",
              "      <td>5.000000</td>\n",
              "      <td>...</td>\n",
              "      <td>1</td>\n",
              "      <td>0</td>\n",
              "      <td>0</td>\n",
              "      <td>0</td>\n",
              "      <td>0</td>\n",
              "      <td>1</td>\n",
              "      <td>0</td>\n",
              "      <td>0</td>\n",
              "      <td>0</td>\n",
              "      <td>0</td>\n",
              "    </tr>\n",
              "    <tr>\n",
              "      <th>132</th>\n",
              "      <td>5.333333</td>\n",
              "      <td>5.000000</td>\n",
              "      <td>5.333333</td>\n",
              "      <td>5.333333</td>\n",
              "      <td>5.000000</td>\n",
              "      <td>4.333333</td>\n",
              "      <td>4.666667</td>\n",
              "      <td>5.000000</td>\n",
              "      <td>3.000000</td>\n",
              "      <td>3.333333</td>\n",
              "      <td>...</td>\n",
              "      <td>1</td>\n",
              "      <td>0</td>\n",
              "      <td>0</td>\n",
              "      <td>0</td>\n",
              "      <td>0</td>\n",
              "      <td>1</td>\n",
              "      <td>0</td>\n",
              "      <td>0</td>\n",
              "      <td>0</td>\n",
              "      <td>0</td>\n",
              "    </tr>\n",
              "  </tbody>\n",
              "</table>\n",
              "<p>133 rows × 45 columns</p>\n",
              "</div>\n",
              "      <button class=\"colab-df-convert\" onclick=\"convertToInteractive('df-1fc068d6-e24c-4920-a7d0-fecf11d6af02')\"\n",
              "              title=\"Convert this dataframe to an interactive table.\"\n",
              "              style=\"display:none;\">\n",
              "        \n",
              "  <svg xmlns=\"http://www.w3.org/2000/svg\" height=\"24px\"viewBox=\"0 0 24 24\"\n",
              "       width=\"24px\">\n",
              "    <path d=\"M0 0h24v24H0V0z\" fill=\"none\"/>\n",
              "    <path d=\"M18.56 5.44l.94 2.06.94-2.06 2.06-.94-2.06-.94-.94-2.06-.94 2.06-2.06.94zm-11 1L8.5 8.5l.94-2.06 2.06-.94-2.06-.94L8.5 2.5l-.94 2.06-2.06.94zm10 10l.94 2.06.94-2.06 2.06-.94-2.06-.94-.94-2.06-.94 2.06-2.06.94z\"/><path d=\"M17.41 7.96l-1.37-1.37c-.4-.4-.92-.59-1.43-.59-.52 0-1.04.2-1.43.59L10.3 9.45l-7.72 7.72c-.78.78-.78 2.05 0 2.83L4 21.41c.39.39.9.59 1.41.59.51 0 1.02-.2 1.41-.59l7.78-7.78 2.81-2.81c.8-.78.8-2.07 0-2.86zM5.41 20L4 18.59l7.72-7.72 1.47 1.35L5.41 20z\"/>\n",
              "  </svg>\n",
              "      </button>\n",
              "      \n",
              "  <style>\n",
              "    .colab-df-container {\n",
              "      display:flex;\n",
              "      flex-wrap:wrap;\n",
              "      gap: 12px;\n",
              "    }\n",
              "\n",
              "    .colab-df-convert {\n",
              "      background-color: #E8F0FE;\n",
              "      border: none;\n",
              "      border-radius: 50%;\n",
              "      cursor: pointer;\n",
              "      display: none;\n",
              "      fill: #1967D2;\n",
              "      height: 32px;\n",
              "      padding: 0 0 0 0;\n",
              "      width: 32px;\n",
              "    }\n",
              "\n",
              "    .colab-df-convert:hover {\n",
              "      background-color: #E2EBFA;\n",
              "      box-shadow: 0px 1px 2px rgba(60, 64, 67, 0.3), 0px 1px 3px 1px rgba(60, 64, 67, 0.15);\n",
              "      fill: #174EA6;\n",
              "    }\n",
              "\n",
              "    [theme=dark] .colab-df-convert {\n",
              "      background-color: #3B4455;\n",
              "      fill: #D2E3FC;\n",
              "    }\n",
              "\n",
              "    [theme=dark] .colab-df-convert:hover {\n",
              "      background-color: #434B5C;\n",
              "      box-shadow: 0px 1px 3px 1px rgba(0, 0, 0, 0.15);\n",
              "      filter: drop-shadow(0px 1px 2px rgba(0, 0, 0, 0.3));\n",
              "      fill: #FFFFFF;\n",
              "    }\n",
              "  </style>\n",
              "\n",
              "      <script>\n",
              "        const buttonEl =\n",
              "          document.querySelector('#df-1fc068d6-e24c-4920-a7d0-fecf11d6af02 button.colab-df-convert');\n",
              "        buttonEl.style.display =\n",
              "          google.colab.kernel.accessAllowed ? 'block' : 'none';\n",
              "\n",
              "        async function convertToInteractive(key) {\n",
              "          const element = document.querySelector('#df-1fc068d6-e24c-4920-a7d0-fecf11d6af02');\n",
              "          const dataTable =\n",
              "            await google.colab.kernel.invokeFunction('convertToInteractive',\n",
              "                                                     [key], {});\n",
              "          if (!dataTable) return;\n",
              "\n",
              "          const docLinkHtml = 'Like what you see? Visit the ' +\n",
              "            '<a target=\"_blank\" href=https://colab.research.google.com/notebooks/data_table.ipynb>data table notebook</a>'\n",
              "            + ' to learn more about interactive tables.';\n",
              "          element.innerHTML = '';\n",
              "          dataTable['output_type'] = 'display_data';\n",
              "          await google.colab.output.renderOutput(dataTable, element);\n",
              "          const docLink = document.createElement('div');\n",
              "          docLink.innerHTML = docLinkHtml;\n",
              "          element.appendChild(docLink);\n",
              "        }\n",
              "      </script>\n",
              "    </div>\n",
              "  </div>\n",
              "  "
            ]
          },
          "metadata": {},
          "execution_count": 44
        }
      ]
    },
    {
      "cell_type": "code",
      "execution_count": 45,
      "metadata": {
        "id": "798c6597-c0eb-407d-98df-8913d0762a6e"
      },
      "outputs": [],
      "source": [
        "#Crear una matriz de características (feature matrix) a partir de los datos:\n",
        "X = data_processed.values"
      ]
    },
    {
      "cell_type": "code",
      "source": [
        "# Crea una instancia del algoritmo de agrupación jerárquica AgglomerativeClustering\n",
        "modelAC = AgglomerativeClustering(n_clusters=9, metric='euclidean', linkage='ward')\n",
        "clustersAC=modelAC.fit_predict(X)"
      ],
      "metadata": {
        "id": "0nGQGaXYQ1Xl"
      },
      "execution_count": 46,
      "outputs": []
    },
    {
      "cell_type": "code",
      "source": [
        "clustersAC"
      ],
      "metadata": {
        "colab": {
          "base_uri": "https://localhost:8080/"
        },
        "id": "w6buB3LIldA6",
        "outputId": "00b73040-fb85-4faf-ad1f-6f323290f606"
      },
      "execution_count": 47,
      "outputs": [
        {
          "output_type": "execute_result",
          "data": {
            "text/plain": [
              "array([1, 1, 1, 4, 0, 4, 1, 4, 1, 1, 1, 7, 7, 8, 4, 1, 1, 7, 1, 1, 3, 0,\n",
              "       0, 1, 4, 0, 1, 0, 4, 1, 8, 4, 1, 2, 2, 0, 1, 2, 1, 0, 1, 1, 1, 1,\n",
              "       1, 1, 1, 1, 4, 3, 1, 1, 4, 1, 0, 2, 1, 1, 1, 1, 8, 2, 1, 4, 1, 1,\n",
              "       1, 0, 7, 1, 4, 1, 6, 5, 1, 1, 1, 0, 1, 1, 1, 0, 4, 0, 4, 0, 1, 0,\n",
              "       1, 1, 4, 4, 0, 1, 1, 1, 4, 0, 0, 1, 0, 0, 1, 0, 1, 4, 0, 4, 0, 1,\n",
              "       1, 4, 1, 4, 0, 1, 4, 4, 0, 4, 1, 4, 1, 4, 0, 1, 1, 4, 4, 0, 5, 1,\n",
              "       1])"
            ]
          },
          "metadata": {},
          "execution_count": 47
        }
      ]
    },
    {
      "cell_type": "code",
      "source": [
        "\n",
        "# Obtén las etiquetas de los clusteres asignados a cada fila\n",
        "etiquetas = modelAC.labels_\n",
        "\n",
        "# Agrega las etiquetas al DataFrame original\n",
        "data_processed['Cluster'] = etiquetas\n",
        "\n",
        "df['Cluster']= etiquetas\n",
        "\n",
        "data_processed.to_csv(\"AgglomerativeClustering_withclusters.csv\",sep=\";\",index=False)\n",
        "\n",
        "# Muestra los resultados\n",
        "print(df.head(10))"
      ],
      "metadata": {
        "id": "-lfcIrXnQ4K1",
        "colab": {
          "base_uri": "https://localhost:8080/"
        },
        "outputId": "e9dfc7c7-c560-4948-b959-332e26ed3d21"
      },
      "execution_count": 48,
      "outputs": [
        {
          "output_type": "stream",
          "name": "stdout",
          "text": [
            "         AREA      EQUIPO        EDAD     GENERO   V_media  SA_media  \\\n",
            "0  vwbmgqjqnq  nnojgjufpu  pqgwhrmfdu  Masculino  4.333333  5.000000   \n",
            "1  vwbmgqjqnq  nnojgjufpu  pqgwhrmfdu  Masculino  4.000000  5.000000   \n",
            "2  vwbmgqjqnq  nnojgjufpu  omygfsbzgq   Femenino  4.666667  4.000000   \n",
            "3  vwbmgqjqnq  nnojgjufpu  pqgwhrmfdu  Masculino  5.000000  5.000000   \n",
            "4  vwbmgqjqnq  nnojgjufpu  pqgwhrmfdu  Masculino  2.000000  1.000000   \n",
            "5  vwbmgqjqnq  nnojgjufpu  pqgwhrmfdu   Femenino  4.666667  4.666667   \n",
            "6  vwbmgqjqnq  nnojgjufpu  omygfsbzgq  Masculino  4.666667  4.333333   \n",
            "7  vwbmgqjqnq  nnojgjufpu  omygfsbzgq  Masculino -1.000000  4.666667   \n",
            "8  vwbmgqjqnq  nnojgjufpu  omygfsbzgq  Masculino  4.000000  4.666667   \n",
            "9  vwbmgqjqnq  nnojgjufpu  omygfsbzgq  Masculino  5.000000  5.000000   \n",
            "\n",
            "   SI_media  SP_media  SF_media  CL_media  ...  LG_media  RET_media  PS_media  \\\n",
            "0  4.666667  3.000000  4.000000  5.000000  ...  5.000000   3.666667  4.333333   \n",
            "1  5.000000  2.000000  4.666667  5.000000  ...  5.000000   4.000000  4.666667   \n",
            "2  4.666667  3.000000  4.333333  5.000000  ...  4.333333   4.666667  5.000000   \n",
            "3  5.000000  4.000000  4.000000  4.666667  ...  5.000000   4.000000  4.666667   \n",
            "4  4.666667  1.000000  1.000000  1.000000  ...  1.666667   5.000000  5.000000   \n",
            "5  4.666667  1.000000  3.666667  3.666667  ...  4.000000   3.333333  4.000000   \n",
            "6  5.666667  1.333333  5.000000  4.666667  ...  4.333333   6.000000  5.000000   \n",
            "7  3.666667  1.000000  4.333333  4.333333  ...  5.000000   5.000000  5.000000   \n",
            "8  5.000000  1.666667  5.000000  4.000000  ...  4.000000   6.000000  5.333333   \n",
            "9  5.000000  3.000000  4.000000  4.333333  ...  4.000000   5.000000  6.000000   \n",
            "\n",
            "   RS_media  RC_media   E_media  CSSC_media  TLKS_media  Obs_01  Cluster  \n",
            "0  5.000000      5.00  3.692308         5.0    4.000000       0        1  \n",
            "1  5.000000      6.00  3.384615         5.0    3.333333       0        1  \n",
            "2  4.333333      4.75  3.461538         6.0    3.333333       0        1  \n",
            "3  4.666667      5.00  3.307692         4.5    4.000000       0        4  \n",
            "4  1.666667      1.75  1.846154         6.0    1.333333       0        0  \n",
            "5  3.333333      3.25  2.846154         4.0    3.333333       0        4  \n",
            "6  5.000000      4.75  3.307692         6.0    3.333333       1        1  \n",
            "7 -1.000000      2.25  3.000000         5.0    2.333333       0        4  \n",
            "8  5.000000      4.00  3.538462         5.0    4.666667       1        1  \n",
            "9  6.000000      5.50  3.307692         5.5    4.666667       1        1  \n",
            "\n",
            "[10 rows x 30 columns]\n"
          ]
        }
      ]
    },
    {
      "cell_type": "code",
      "source": [
        "num_features=data_processed.shape[1]\n",
        "num_features"
      ],
      "metadata": {
        "colab": {
          "base_uri": "https://localhost:8080/"
        },
        "id": "TGWQjANovqUI",
        "outputId": "5ff4454b-8a7f-4f57-8259-79c3f8046928"
      },
      "execution_count": 49,
      "outputs": [
        {
          "output_type": "execute_result",
          "data": {
            "text/plain": [
              "46"
            ]
          },
          "metadata": {},
          "execution_count": 49
        }
      ]
    },
    {
      "cell_type": "code",
      "source": [
        "# Calcular la matriz de enlace\n",
        "linkage_matrix = linkage(data_processed, method='single')\n",
        "\n",
        "# Mostrar el dendrograma\n",
        "plt.figure(figsize=(20, 10))\n",
        "dendrogram(linkage_matrix)\n",
        "\n",
        "plt.title('Dendrograma')\n",
        "plt.xlabel('ID de la muestra')\n",
        "plt.ylabel('Distancia')\n",
        "\n",
        "plt.show()\n"
      ],
      "metadata": {
        "colab": {
          "base_uri": "https://localhost:8080/",
          "height": 765
        },
        "id": "b8LiOEStR6nW",
        "outputId": "11c9753f-57db-4fa9-d090-5588c38b9f36"
      },
      "execution_count": 50,
      "outputs": [
        {
          "output_type": "display_data",
          "data": {
            "text/plain": [
              "<Figure size 2000x1000 with 1 Axes>"
            ],
            "image/png": "[encoded data removed]"
          },
          "metadata": {}
        }
      ]
    },
    {
      "cell_type": "code",
      "source": [
        "    # Aplicar PCA para reducir a 2 dimensiones\n",
        "    pca = PCA(n_components=2)\n",
        "    X_pca = pca.fit_transform(data_processed)\n",
        "\n",
        "    plt.scatter(X_pca[:, 0], X_pca[:, 1], c=etiquetas)\n",
        "    plt.xlabel('Principal Component 1')\n",
        "    plt.ylabel('Principal Component 2')\n",
        "    plt.title('Agglomerative Clustering')\n",
        "    plt.show()\n",
        "\n",
        "\n"
      ],
      "metadata": {
        "colab": {
          "base_uri": "https://localhost:8080/",
          "height": 472
        },
        "id": "Yj5SpuazmEYq",
        "outputId": "83c9c669-8c0d-4b70-dbb4-4e7dac9315d1"
      },
      "execution_count": 51,
      "outputs": [
        {
          "output_type": "display_data",
          "data": {
            "text/plain": [
              "<Figure size 640x480 with 1 Axes>"
            ],
            "image/png": "[encoded data removed]"
          },
          "metadata": {}
        }
      ]
    },
    {
      "cell_type": "code",
      "source": [
        "# X_pca[:, 0] son los valores en el eje x\n",
        "\n",
        "# X_pca[:, 1] son los valores en el eje y\n",
        "\n",
        "# labels1 son las etiquetas de los grupos\n",
        "\n",
        "# Crea el gráfico de dispersión con colores según las etiquetas\n",
        "plt.scatter(X_pca[:, 0], X_pca[:, 1], c=etiquetas)\n",
        "\n",
        "\n",
        "# Crea una leyenda o mapa de colores\n",
        "plt.colorbar()\n",
        "\n",
        "# Etiqueta cada punto con el índice de la fila correspondiente\n",
        "for i, label in enumerate(etiquetas):\n",
        "    plt.annotate(i, (X_pca[i, 0], X_pca[i, 1]),size=6)\n",
        "\n",
        "\n",
        "# Muestra el gráfico\n",
        "plt.show()"
      ],
      "metadata": {
        "colab": {
          "base_uri": "https://localhost:8080/",
          "height": 435
        },
        "id": "VEqqeEUVdrTh",
        "outputId": "f8c1217f-ba5f-43ea-a0a6-40252e9f6997"
      },
      "execution_count": 52,
      "outputs": [
        {
          "output_type": "display_data",
          "data": {
            "text/plain": [
              "<Figure size 640x480 with 2 Axes>"
            ],
            "image/png": "[encoded data removed]"
          },
          "metadata": {}
        }
      ]
    },
    {
      "cell_type": "code",
      "source": [
        "# Aplicar PCA al conjunto de datos\n",
        "pca = PCA()\n",
        "pca.fit(data_processed)\n",
        "\n",
        "# Obtener las componentes principales y su varianza explicada\n",
        "components = pca.components_\n",
        "explained_variance = pca.explained_variance_ratio_\n",
        "\n",
        "# Obtener los índices de los atributos más importantes para cada clúster\n",
        "important_attributes = []\n",
        "for cluster in range(modelAC.n_clusters):\n",
        "    cluster_indices = np.where(etiquetas == cluster)[0]\n",
        "    cluster_data = data_processed.iloc[cluster_indices]\n",
        "    cluster_scores = np.mean(cluster_data.dot(components.T), axis=0)\n",
        "    important_attributes.append(np.argsort(-np.abs(cluster_scores)))\n",
        "\n",
        "# Nombres de los campos\n",
        "column_names = data_processed.columns.tolist()\n",
        "\n",
        "# Imprimir los atributos más importantes por clúster\n",
        "for cluster, attributes in enumerate(important_attributes):\n",
        "    print(f\"Cluster {cluster}:\" )\n",
        "    for attribute in attributes[:7]:  # Mostrar los 7 atributos más importantes\n",
        "        attribute_name = column_names[attribute]\n",
        "        attribute_mean = np.mean(data_processed.iloc[np.where(etiquetas == cluster)[0], attribute])\n",
        "        print(f\"- Atributo n. {attribute+1}: {attribute_name} (Media: {attribute_mean})\")\n",
        "\n"
      ],
      "metadata": {
        "colab": {
          "base_uri": "https://localhost:8080/"
        },
        "id": "fDvb88Q2yqlf",
        "outputId": "b98b3369-b4b0-459b-f42e-df9c3b7bf6de"
      },
      "execution_count": 53,
      "outputs": [
        {
          "output_type": "stream",
          "name": "stdout",
          "text": [
            "Cluster 0:\n",
            "- Atributo n. 1: V_media (Media: 2.8974358974358974)\n",
            "- Atributo n. 3: SI_media (Media: 3.2179487179487176)\n",
            "- Atributo n. 6: CL_media (Media: 2.1538461538461537)\n",
            "- Atributo n. 5: SF_media (Media: 1.6538461538461537)\n",
            "- Atributo n. 15: LA_media (Media: 1.8538461538461537)\n",
            "- Atributo n. 8: CE_media (Media: 2.3076923076923075)\n",
            "- Atributo n. 7: CH_media (Media: 1.7692307692307692)\n",
            "Cluster 1:\n",
            "- Atributo n. 1: V_media (Media: 4.603174603174602)\n",
            "- Atributo n. 2: SA_media (Media: 4.9153439153439145)\n",
            "- Atributo n. 6: CL_media (Media: 4.65079365079365)\n",
            "- Atributo n. 5: SF_media (Media: 4.494708994708994)\n",
            "- Atributo n. 3: SI_media (Media: 4.804232804232805)\n",
            "- Atributo n. 8: CE_media (Media: 4.6878306878306875)\n",
            "- Atributo n. 15: LA_media (Media: 4.955555555555557)\n",
            "Cluster 2:\n",
            "- Atributo n. 1: V_media (Media: 4.666666666666667)\n",
            "- Atributo n. 6: CL_media (Media: 4.799999999999999)\n",
            "- Atributo n. 4: SP_media (Media: -1.0)\n",
            "- Atributo n. 2: SA_media (Media: -1.0)\n",
            "- Atributo n. 3: SI_media (Media: -1.0)\n",
            "- Atributo n. 15: LA_media (Media: 5.12)\n",
            "- Atributo n. 7: CH_media (Media: 4.666666666666666)\n",
            "Cluster 3:\n",
            "- Atributo n. 1: V_media (Media: 4.833333333333334)\n",
            "- Atributo n. 8: CE_media (Media: 4.666666666666666)\n",
            "- Atributo n. 6: CL_media (Media: 5.0)\n",
            "- Atributo n. 3: SI_media (Media: 5.166666666666666)\n",
            "- Atributo n. 2: SA_media (Media: 4.833333333333334)\n",
            "- Atributo n. 4: SP_media (Media: 4.166666666666666)\n",
            "- Atributo n. 15: LA_media (Media: 2.0)\n",
            "Cluster 4:\n",
            "- Atributo n. 1: V_media (Media: 3.7530864197530867)\n",
            "- Atributo n. 6: CL_media (Media: 3.2345679012345676)\n",
            "- Atributo n. 5: SF_media (Media: 3.7654320987654324)\n",
            "- Atributo n. 2: SA_media (Media: 4.506172839506172)\n",
            "- Atributo n. 8: CE_media (Media: 3.271604938271605)\n",
            "- Atributo n. 15: LA_media (Media: 3.940740740740741)\n",
            "- Atributo n. 7: CH_media (Media: 3.0493827160493825)\n",
            "Cluster 5:\n",
            "- Atributo n. 5: SF_media (Media: 0.5)\n",
            "- Atributo n. 4: SP_media (Media: 0.0)\n",
            "- Atributo n. 6: CL_media (Media: 4.166666666666667)\n",
            "- Atributo n. 8: CE_media (Media: 4.166666666666667)\n",
            "- Atributo n. 11: CJ_media (Media: 3.1666666666666665)\n",
            "- Atributo n. 12: CC_media (Media: 4.5)\n",
            "- Atributo n. 2: SA_media (Media: 1.1666666666666665)\n",
            "Cluster 6:\n",
            "- Atributo n. 1: V_media (Media: -1.0)\n",
            "- Atributo n. 4: SP_media (Media: -1.0)\n",
            "- Atributo n. 2: SA_media (Media: -1.0)\n",
            "- Atributo n. 6: CL_media (Media: -1.0)\n",
            "- Atributo n. 8: CE_media (Media: -1.0)\n",
            "- Atributo n. 5: SF_media (Media: -1.0)\n",
            "- Atributo n. 3: SI_media (Media: -1.0)\n",
            "Cluster 7:\n",
            "- Atributo n. 2: SA_media (Media: 4.083333333333333)\n",
            "- Atributo n. 6: CL_media (Media: -1.0)\n",
            "- Atributo n. 1: V_media (Media: 4.5)\n",
            "- Atributo n. 4: SP_media (Media: 3.333333333333333)\n",
            "- Atributo n. 15: LA_media (Media: -1.0)\n",
            "- Atributo n. 8: CE_media (Media: -1.0)\n",
            "- Atributo n. 12: CC_media (Media: -1.0)\n",
            "Cluster 8:\n",
            "- Atributo n. 2: SA_media (Media: 4.222222222222222)\n",
            "- Atributo n. 4: SP_media (Media: 4.0)\n",
            "- Atributo n. 5: SF_media (Media: 4.333333333333333)\n",
            "- Atributo n. 6: CL_media (Media: 3.6666666666666665)\n",
            "- Atributo n. 7: CH_media (Media: 3.7777777777777772)\n",
            "- Atributo n. 15: LA_media (Media: -1.0)\n",
            "- Atributo n. 8: CE_media (Media: 3.444444444444444)\n"
          ]
        }
      ]
    },
    {
      "cell_type": "code",
      "source": [
        "# Calcular el índice de silueta\n",
        "silhouette_avg = silhouette_score(data_processed, etiquetas)\n",
        "print(f\"Índice de Silueta Promedio: {silhouette_avg}\")"
      ],
      "metadata": {
        "colab": {
          "base_uri": "https://localhost:8080/"
        },
        "id": "vTL2QyM5DiFD",
        "outputId": "fef0ce89-26ba-4ea4-bc73-7e322de642fc"
      },
      "execution_count": 54,
      "outputs": [
        {
          "output_type": "stream",
          "name": "stdout",
          "text": [
            "Índice de Silueta Promedio: 0.24619080484619188\n"
          ]
        }
      ]
    },
    {
      "cell_type": "code",
      "source": [
        "# Calcular el índice de silueta para cada muestra\n",
        "silhouette_values = silhouette_samples(data_processed, etiquetas)\n",
        "\n",
        "# Calcular el índice de silueta individual promedio para cada clúster\n",
        "cluster_indices = sorted(set(etiquetas))\n",
        "for cluster_idx in cluster_indices:\n",
        "    # Obtener las muestras pertenecientes al clúster actual\n",
        "    cluster_samples = silhouette_values[etiquetas == cluster_idx]\n",
        "    cluster_avg_silhouette = cluster_samples.mean()\n",
        "    print(f\"Índice de Silueta del Clúster {cluster_idx}: {cluster_avg_silhouette}\")"
      ],
      "metadata": {
        "colab": {
          "base_uri": "https://localhost:8080/"
        },
        "id": "bBzRtZraDh0o",
        "outputId": "5328f0ea-35df-4433-a7b0-a9e7c770d121"
      },
      "execution_count": 55,
      "outputs": [
        {
          "output_type": "stream",
          "name": "stdout",
          "text": [
            "Índice de Silueta del Clúster 0: 0.19748238534799092\n",
            "Índice de Silueta del Clúster 1: 0.2784714876143071\n",
            "Índice de Silueta del Clúster 2: 0.23959287644499877\n",
            "Índice de Silueta del Clúster 3: 0.1581043730084164\n",
            "Índice de Silueta del Clúster 4: 0.144032408190735\n",
            "Índice de Silueta del Clúster 5: 0.12673251935959132\n",
            "Índice de Silueta del Clúster 6: 0.0\n",
            "Índice de Silueta del Clúster 7: 0.7201518854367588\n",
            "Índice de Silueta del Clúster 8: 0.5093368586455053\n"
          ]
        }
      ]
    },
    {
      "cell_type": "code",
      "source": [
        "#modelFA=FeatureAgglomeration(n_clusters=5)\n",
        "#modelFA"
      ],
      "metadata": {
        "id": "DmsZThR8WDQT"
      },
      "execution_count": 56,
      "outputs": []
    },
    {
      "cell_type": "code",
      "source": [],
      "metadata": {
        "id": "iQXRYE6gjEOI"
      },
      "execution_count": 56,
      "outputs": []
    }
  ]
}