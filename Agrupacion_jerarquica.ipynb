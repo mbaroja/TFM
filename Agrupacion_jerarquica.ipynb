{
  "nbformat": 4,
  "nbformat_minor": 0,
  "metadata": {
    "colab": {
      "provenance": [],
      "authorship_tag": "ABX9TyO1aYAxqPzE9+zsMnH7DeWA",
      "include_colab_link": true
    },
    "kernelspec": {
      "name": "python3",
      "display_name": "Python 3"
    },
    "language_info": {
      "name": "python"
    }
  },
  "cells": [
    {
      "cell_type": "markdown",
      "metadata": {
        "id": "view-in-github",
        "colab_type": "text"
      },
      "source": [
        "<a href=\"https://colab.research.google.com/github/mbaroja/TFM/blob/code/Agrupacion_jerarquica.ipynb\" target=\"_parent\"><img src=\"https://colab.research.google.com/assets/colab-badge.svg\" alt=\"Open In Colab\"/></a>"
      ]
    },
    {
      "cell_type": "code",
      "execution_count": 1,
      "metadata": {
        "id": "rLmqqMR2Qar-"
      },
      "outputs": [],
      "source": [
        "import pandas as pd\n",
        "import numpy as np\n",
        "import matplotlib.pyplot as plt\n",
        "from sklearn.cluster import AgglomerativeClustering, FeatureAgglomeration\n",
        "from scipy.cluster.hierarchy import dendrogram, linkage\n",
        "from sklearn.decomposition import PCA\n",
        "from sklearn.metrics import silhouette_score, silhouette_samples\n"
      ]
    },
    {
      "cell_type": "code",
      "source": [
        "# Carga de los datos a un dataframe y comprobar dimensionalidad\n",
        "\n",
        "df=pd.read_csv(\"https://raw.githubusercontent.com/mbaroja/TFM/data/data_cleaned.csv\",delimiter=\";\")\n",
        "#df=pd.read_csv(\"https://raw.githubusercontent.com/mbaroja/TFM/data/data_cleaned_without_avgcolumns.csv\",delimiter=\";\")\n",
        "#df=pd.read_csv(\"https://raw.githubusercontent.com/mbaroja/TFM/data/data_cleaned_only_avgcolumns.csv\",delimiter=\";\")\n",
        "df.shape\n"
      ],
      "metadata": {
        "colab": {
          "base_uri": "https://localhost:8080/"
        },
        "id": "CeNz4eWOQujq",
        "outputId": "8976b9c3-ee54-4822-ff44-265ba7e93dc6"
      },
      "execution_count": 47,
      "outputs": [
        {
          "output_type": "execute_result",
          "data": {
            "text/plain": [
              "(133, 110)"
            ]
          },
          "metadata": {},
          "execution_count": 47
        }
      ]
    },
    {
      "cell_type": "code",
      "source": [
        "df.info()"
      ],
      "metadata": {
        "colab": {
          "base_uri": "https://localhost:8080/"
        },
        "id": "Wo_jF4tsKmml",
        "outputId": "a49e7288-1c6e-4246-eaf5-f8f32625987c"
      },
      "execution_count": 48,
      "outputs": [
        {
          "output_type": "stream",
          "name": "stdout",
          "text": [
            "<class 'pandas.core.frame.DataFrame'>\n",
            "RangeIndex: 133 entries, 0 to 132\n",
            "Columns: 110 entries, AREA to Obs_01\n",
            "dtypes: float64(105), int64(1), object(4)\n",
            "memory usage: 114.4+ KB\n"
          ]
        }
      ]
    },
    {
      "cell_type": "markdown",
      "source": [
        "**Preprocesado de los datos de entrada**"
      ],
      "metadata": {
        "id": "8pvaaxbGkEFq"
      }
    },
    {
      "cell_type": "code",
      "execution_count": 49,
      "metadata": {
        "id": "9fe2f35a-fee5-4a24-983b-13f63ed08fc2"
      },
      "outputs": [],
      "source": [
        "#Preprocesado de datos ya que los algoritmos requieren datos numéricos para calcular la matriz de afinidad y realizar el clustering\n",
        "\n",
        "#identificar las columnas que contienen valores de texto en el conjunto de datos\n",
        "data_text = df.select_dtypes(include='object')\n",
        "# aplicar la codificación one-hot utilizando el método get_dummies de Pandas para convertir esas columnas en columnas numéricas\n",
        "data_encoded = pd.get_dummies(data_text)"
      ]
    },
    {
      "cell_type": "code",
      "execution_count": 50,
      "metadata": {
        "id": "5f144750-0142-492e-971b-1ebe34da0dee"
      },
      "outputs": [],
      "source": [
        "#una vez que preprocesados los datos, combinar las columnas numéricas procesadas con el resto del conjunto de datos.\n",
        "data_numeric = df.select_dtypes(exclude='object')\n",
        "data_processed = pd.concat([data_numeric, data_encoded], axis=1)"
      ]
    },
    {
      "cell_type": "code",
      "source": [
        "data_processed"
      ],
      "metadata": {
        "colab": {
          "base_uri": "https://localhost:8080/",
          "height": 505
        },
        "id": "bMSACmWcGyh5",
        "outputId": "00a8f4c2-9fba-4ee5-b2ac-407b71757666"
      },
      "execution_count": 51,
      "outputs": [
        {
          "output_type": "execute_result",
          "data": {
            "text/plain": [
              "      V1   V2   V3  SA1  SA2  SA3  SI0  SI1  SI2  SP1  ...  EQUIPO_qmsudmubli  \\\n",
              "0    5.0  4.0  4.0  5.0  5.0  5.0  4.0  5.0  5.0  4.0  ...                  0   \n",
              "1    4.0  5.0  3.0  5.0  5.0  5.0  4.0  5.0  6.0  2.0  ...                  0   \n",
              "2    5.0  4.0  5.0  4.0  4.0  4.0  4.0  5.0  5.0  3.0  ...                  0   \n",
              "3    5.0  5.0  5.0  5.0  5.0  5.0  5.0  5.0  5.0  4.0  ...                  0   \n",
              "4    2.0  2.0  2.0  1.0  1.0  1.0  4.0  5.0  5.0  1.0  ...                  0   \n",
              "..   ...  ...  ...  ...  ...  ...  ...  ...  ...  ...  ...                ...   \n",
              "128  4.0  4.0  4.0  5.0  4.0  5.0  2.0  4.0  4.0  2.0  ...                  1   \n",
              "129  2.0  3.0  4.0  5.0  4.0  4.0  3.0  6.0  4.0  1.0  ...                  1   \n",
              "130 -1.0 -1.0 -1.0 -1.0 -1.0 -1.0 -1.0 -1.0 -1.0 -1.0  ...                  1   \n",
              "131  5.0  5.0  5.0  5.0  5.0  5.0  5.0  5.0  5.0  5.0  ...                  1   \n",
              "132  6.0  5.0  5.0  5.0  5.0  5.0  5.0  6.0  5.0  6.0  ...                  1   \n",
              "\n",
              "     EQUIPO_rflidbinih  EDAD_ijawrgtfuz  EDAD_omygfsbzgq  EDAD_pqgwhrmfdu  \\\n",
              "0                    0                0                0                1   \n",
              "1                    0                0                0                1   \n",
              "2                    0                0                1                0   \n",
              "3                    0                0                0                1   \n",
              "4                    0                0                0                1   \n",
              "..                 ...              ...              ...              ...   \n",
              "128                  0                0                0                0   \n",
              "129                  0                0                0                0   \n",
              "130                  0                0                0                0   \n",
              "131                  0                0                0                0   \n",
              "132                  0                0                0                0   \n",
              "\n",
              "     EDAD_qmsudmubli  EDAD_vjekcogdhn  GENERO_Femenino  GENERO_Masculino  \\\n",
              "0                  0                0                0                 1   \n",
              "1                  0                0                0                 1   \n",
              "2                  0                0                1                 0   \n",
              "3                  0                0                0                 1   \n",
              "4                  0                0                0                 1   \n",
              "..               ...              ...              ...               ...   \n",
              "128                1                0                0                 0   \n",
              "129                1                0                0                 0   \n",
              "130                1                0                0                 0   \n",
              "131                1                0                0                 0   \n",
              "132                1                0                0                 0   \n",
              "\n",
              "     GENERO_No binario  \n",
              "0                    0  \n",
              "1                    0  \n",
              "2                    0  \n",
              "3                    0  \n",
              "4                    0  \n",
              "..                 ...  \n",
              "128                  0  \n",
              "129                  0  \n",
              "130                  0  \n",
              "131                  0  \n",
              "132                  0  \n",
              "\n",
              "[133 rows x 126 columns]"
            ],
            "text/html": [
              "\n",
              "  <div id=\"df-85681f5f-fd26-473e-ac6b-1eb98f741c8a\">\n",
              "    <div class=\"colab-df-container\">\n",
              "      <div>\n",
              "<style scoped>\n",
              "    .dataframe tbody tr th:only-of-type {\n",
              "        vertical-align: middle;\n",
              "    }\n",
              "\n",
              "    .dataframe tbody tr th {\n",
              "        vertical-align: top;\n",
              "    }\n",
              "\n",
              "    .dataframe thead th {\n",
              "        text-align: right;\n",
              "    }\n",
              "</style>\n",
              "<table border=\"1\" class=\"dataframe\">\n",
              "  <thead>\n",
              "    <tr style=\"text-align: right;\">\n",
              "      <th></th>\n",
              "      <th>V1</th>\n",
              "      <th>V2</th>\n",
              "      <th>V3</th>\n",
              "      <th>SA1</th>\n",
              "      <th>SA2</th>\n",
              "      <th>SA3</th>\n",
              "      <th>SI0</th>\n",
              "      <th>SI1</th>\n",
              "      <th>SI2</th>\n",
              "      <th>SP1</th>\n",
              "      <th>...</th>\n",
              "      <th>EQUIPO_qmsudmubli</th>\n",
              "      <th>EQUIPO_rflidbinih</th>\n",
              "      <th>EDAD_ijawrgtfuz</th>\n",
              "      <th>EDAD_omygfsbzgq</th>\n",
              "      <th>EDAD_pqgwhrmfdu</th>\n",
              "      <th>EDAD_qmsudmubli</th>\n",
              "      <th>EDAD_vjekcogdhn</th>\n",
              "      <th>GENERO_Femenino</th>\n",
              "      <th>GENERO_Masculino</th>\n",
              "      <th>GENERO_No binario</th>\n",
              "    </tr>\n",
              "  </thead>\n",
              "  <tbody>\n",
              "    <tr>\n",
              "      <th>0</th>\n",
              "      <td>5.0</td>\n",
              "      <td>4.0</td>\n",
              "      <td>4.0</td>\n",
              "      <td>5.0</td>\n",
              "      <td>5.0</td>\n",
              "      <td>5.0</td>\n",
              "      <td>4.0</td>\n",
              "      <td>5.0</td>\n",
              "      <td>5.0</td>\n",
              "      <td>4.0</td>\n",
              "      <td>...</td>\n",
              "      <td>0</td>\n",
              "      <td>0</td>\n",
              "      <td>0</td>\n",
              "      <td>0</td>\n",
              "      <td>1</td>\n",
              "      <td>0</td>\n",
              "      <td>0</td>\n",
              "      <td>0</td>\n",
              "      <td>1</td>\n",
              "      <td>0</td>\n",
              "    </tr>\n",
              "    <tr>\n",
              "      <th>1</th>\n",
              "      <td>4.0</td>\n",
              "      <td>5.0</td>\n",
              "      <td>3.0</td>\n",
              "      <td>5.0</td>\n",
              "      <td>5.0</td>\n",
              "      <td>5.0</td>\n",
              "      <td>4.0</td>\n",
              "      <td>5.0</td>\n",
              "      <td>6.0</td>\n",
              "      <td>2.0</td>\n",
              "      <td>...</td>\n",
              "      <td>0</td>\n",
              "      <td>0</td>\n",
              "      <td>0</td>\n",
              "      <td>0</td>\n",
              "      <td>1</td>\n",
              "      <td>0</td>\n",
              "      <td>0</td>\n",
              "      <td>0</td>\n",
              "      <td>1</td>\n",
              "      <td>0</td>\n",
              "    </tr>\n",
              "    <tr>\n",
              "      <th>2</th>\n",
              "      <td>5.0</td>\n",
              "      <td>4.0</td>\n",
              "      <td>5.0</td>\n",
              "      <td>4.0</td>\n",
              "      <td>4.0</td>\n",
              "      <td>4.0</td>\n",
              "      <td>4.0</td>\n",
              "      <td>5.0</td>\n",
              "      <td>5.0</td>\n",
              "      <td>3.0</td>\n",
              "      <td>...</td>\n",
              "      <td>0</td>\n",
              "      <td>0</td>\n",
              "      <td>0</td>\n",
              "      <td>1</td>\n",
              "      <td>0</td>\n",
              "      <td>0</td>\n",
              "      <td>0</td>\n",
              "      <td>1</td>\n",
              "      <td>0</td>\n",
              "      <td>0</td>\n",
              "    </tr>\n",
              "    <tr>\n",
              "      <th>3</th>\n",
              "      <td>5.0</td>\n",
              "      <td>5.0</td>\n",
              "      <td>5.0</td>\n",
              "      <td>5.0</td>\n",
              "      <td>5.0</td>\n",
              "      <td>5.0</td>\n",
              "      <td>5.0</td>\n",
              "      <td>5.0</td>\n",
              "      <td>5.0</td>\n",
              "      <td>4.0</td>\n",
              "      <td>...</td>\n",
              "      <td>0</td>\n",
              "      <td>0</td>\n",
              "      <td>0</td>\n",
              "      <td>0</td>\n",
              "      <td>1</td>\n",
              "      <td>0</td>\n",
              "      <td>0</td>\n",
              "      <td>0</td>\n",
              "      <td>1</td>\n",
              "      <td>0</td>\n",
              "    </tr>\n",
              "    <tr>\n",
              "      <th>4</th>\n",
              "      <td>2.0</td>\n",
              "      <td>2.0</td>\n",
              "      <td>2.0</td>\n",
              "      <td>1.0</td>\n",
              "      <td>1.0</td>\n",
              "      <td>1.0</td>\n",
              "      <td>4.0</td>\n",
              "      <td>5.0</td>\n",
              "      <td>5.0</td>\n",
              "      <td>1.0</td>\n",
              "      <td>...</td>\n",
              "      <td>0</td>\n",
              "      <td>0</td>\n",
              "      <td>0</td>\n",
              "      <td>0</td>\n",
              "      <td>1</td>\n",
              "      <td>0</td>\n",
              "      <td>0</td>\n",
              "      <td>0</td>\n",
              "      <td>1</td>\n",
              "      <td>0</td>\n",
              "    </tr>\n",
              "    <tr>\n",
              "      <th>...</th>\n",
              "      <td>...</td>\n",
              "      <td>...</td>\n",
              "      <td>...</td>\n",
              "      <td>...</td>\n",
              "      <td>...</td>\n",
              "      <td>...</td>\n",
              "      <td>...</td>\n",
              "      <td>...</td>\n",
              "      <td>...</td>\n",
              "      <td>...</td>\n",
              "      <td>...</td>\n",
              "      <td>...</td>\n",
              "      <td>...</td>\n",
              "      <td>...</td>\n",
              "      <td>...</td>\n",
              "      <td>...</td>\n",
              "      <td>...</td>\n",
              "      <td>...</td>\n",
              "      <td>...</td>\n",
              "      <td>...</td>\n",
              "      <td>...</td>\n",
              "    </tr>\n",
              "    <tr>\n",
              "      <th>128</th>\n",
              "      <td>4.0</td>\n",
              "      <td>4.0</td>\n",
              "      <td>4.0</td>\n",
              "      <td>5.0</td>\n",
              "      <td>4.0</td>\n",
              "      <td>5.0</td>\n",
              "      <td>2.0</td>\n",
              "      <td>4.0</td>\n",
              "      <td>4.0</td>\n",
              "      <td>2.0</td>\n",
              "      <td>...</td>\n",
              "      <td>1</td>\n",
              "      <td>0</td>\n",
              "      <td>0</td>\n",
              "      <td>0</td>\n",
              "      <td>0</td>\n",
              "      <td>1</td>\n",
              "      <td>0</td>\n",
              "      <td>0</td>\n",
              "      <td>0</td>\n",
              "      <td>0</td>\n",
              "    </tr>\n",
              "    <tr>\n",
              "      <th>129</th>\n",
              "      <td>2.0</td>\n",
              "      <td>3.0</td>\n",
              "      <td>4.0</td>\n",
              "      <td>5.0</td>\n",
              "      <td>4.0</td>\n",
              "      <td>4.0</td>\n",
              "      <td>3.0</td>\n",
              "      <td>6.0</td>\n",
              "      <td>4.0</td>\n",
              "      <td>1.0</td>\n",
              "      <td>...</td>\n",
              "      <td>1</td>\n",
              "      <td>0</td>\n",
              "      <td>0</td>\n",
              "      <td>0</td>\n",
              "      <td>0</td>\n",
              "      <td>1</td>\n",
              "      <td>0</td>\n",
              "      <td>0</td>\n",
              "      <td>0</td>\n",
              "      <td>0</td>\n",
              "    </tr>\n",
              "    <tr>\n",
              "      <th>130</th>\n",
              "      <td>-1.0</td>\n",
              "      <td>-1.0</td>\n",
              "      <td>-1.0</td>\n",
              "      <td>-1.0</td>\n",
              "      <td>-1.0</td>\n",
              "      <td>-1.0</td>\n",
              "      <td>-1.0</td>\n",
              "      <td>-1.0</td>\n",
              "      <td>-1.0</td>\n",
              "      <td>-1.0</td>\n",
              "      <td>...</td>\n",
              "      <td>1</td>\n",
              "      <td>0</td>\n",
              "      <td>0</td>\n",
              "      <td>0</td>\n",
              "      <td>0</td>\n",
              "      <td>1</td>\n",
              "      <td>0</td>\n",
              "      <td>0</td>\n",
              "      <td>0</td>\n",
              "      <td>0</td>\n",
              "    </tr>\n",
              "    <tr>\n",
              "      <th>131</th>\n",
              "      <td>5.0</td>\n",
              "      <td>5.0</td>\n",
              "      <td>5.0</td>\n",
              "      <td>5.0</td>\n",
              "      <td>5.0</td>\n",
              "      <td>5.0</td>\n",
              "      <td>5.0</td>\n",
              "      <td>5.0</td>\n",
              "      <td>5.0</td>\n",
              "      <td>5.0</td>\n",
              "      <td>...</td>\n",
              "      <td>1</td>\n",
              "      <td>0</td>\n",
              "      <td>0</td>\n",
              "      <td>0</td>\n",
              "      <td>0</td>\n",
              "      <td>1</td>\n",
              "      <td>0</td>\n",
              "      <td>0</td>\n",
              "      <td>0</td>\n",
              "      <td>0</td>\n",
              "    </tr>\n",
              "    <tr>\n",
              "      <th>132</th>\n",
              "      <td>6.0</td>\n",
              "      <td>5.0</td>\n",
              "      <td>5.0</td>\n",
              "      <td>5.0</td>\n",
              "      <td>5.0</td>\n",
              "      <td>5.0</td>\n",
              "      <td>5.0</td>\n",
              "      <td>6.0</td>\n",
              "      <td>5.0</td>\n",
              "      <td>6.0</td>\n",
              "      <td>...</td>\n",
              "      <td>1</td>\n",
              "      <td>0</td>\n",
              "      <td>0</td>\n",
              "      <td>0</td>\n",
              "      <td>0</td>\n",
              "      <td>1</td>\n",
              "      <td>0</td>\n",
              "      <td>0</td>\n",
              "      <td>0</td>\n",
              "      <td>0</td>\n",
              "    </tr>\n",
              "  </tbody>\n",
              "</table>\n",
              "<p>133 rows × 126 columns</p>\n",
              "</div>\n",
              "      <button class=\"colab-df-convert\" onclick=\"convertToInteractive('df-85681f5f-fd26-473e-ac6b-1eb98f741c8a')\"\n",
              "              title=\"Convert this dataframe to an interactive table.\"\n",
              "              style=\"display:none;\">\n",
              "        \n",
              "  <svg xmlns=\"http://www.w3.org/2000/svg\" height=\"24px\"viewBox=\"0 0 24 24\"\n",
              "       width=\"24px\">\n",
              "    <path d=\"M0 0h24v24H0V0z\" fill=\"none\"/>\n",
              "    <path d=\"M18.56 5.44l.94 2.06.94-2.06 2.06-.94-2.06-.94-.94-2.06-.94 2.06-2.06.94zm-11 1L8.5 8.5l.94-2.06 2.06-.94-2.06-.94L8.5 2.5l-.94 2.06-2.06.94zm10 10l.94 2.06.94-2.06 2.06-.94-2.06-.94-.94-2.06-.94 2.06-2.06.94z\"/><path d=\"M17.41 7.96l-1.37-1.37c-.4-.4-.92-.59-1.43-.59-.52 0-1.04.2-1.43.59L10.3 9.45l-7.72 7.72c-.78.78-.78 2.05 0 2.83L4 21.41c.39.39.9.59 1.41.59.51 0 1.02-.2 1.41-.59l7.78-7.78 2.81-2.81c.8-.78.8-2.07 0-2.86zM5.41 20L4 18.59l7.72-7.72 1.47 1.35L5.41 20z\"/>\n",
              "  </svg>\n",
              "      </button>\n",
              "      \n",
              "  <style>\n",
              "    .colab-df-container {\n",
              "      display:flex;\n",
              "      flex-wrap:wrap;\n",
              "      gap: 12px;\n",
              "    }\n",
              "\n",
              "    .colab-df-convert {\n",
              "      background-color: #E8F0FE;\n",
              "      border: none;\n",
              "      border-radius: 50%;\n",
              "      cursor: pointer;\n",
              "      display: none;\n",
              "      fill: #1967D2;\n",
              "      height: 32px;\n",
              "      padding: 0 0 0 0;\n",
              "      width: 32px;\n",
              "    }\n",
              "\n",
              "    .colab-df-convert:hover {\n",
              "      background-color: #E2EBFA;\n",
              "      box-shadow: 0px 1px 2px rgba(60, 64, 67, 0.3), 0px 1px 3px 1px rgba(60, 64, 67, 0.15);\n",
              "      fill: #174EA6;\n",
              "    }\n",
              "\n",
              "    [theme=dark] .colab-df-convert {\n",
              "      background-color: #3B4455;\n",
              "      fill: #D2E3FC;\n",
              "    }\n",
              "\n",
              "    [theme=dark] .colab-df-convert:hover {\n",
              "      background-color: #434B5C;\n",
              "      box-shadow: 0px 1px 3px 1px rgba(0, 0, 0, 0.15);\n",
              "      filter: drop-shadow(0px 1px 2px rgba(0, 0, 0, 0.3));\n",
              "      fill: #FFFFFF;\n",
              "    }\n",
              "  </style>\n",
              "\n",
              "      <script>\n",
              "        const buttonEl =\n",
              "          document.querySelector('#df-85681f5f-fd26-473e-ac6b-1eb98f741c8a button.colab-df-convert');\n",
              "        buttonEl.style.display =\n",
              "          google.colab.kernel.accessAllowed ? 'block' : 'none';\n",
              "\n",
              "        async function convertToInteractive(key) {\n",
              "          const element = document.querySelector('#df-85681f5f-fd26-473e-ac6b-1eb98f741c8a');\n",
              "          const dataTable =\n",
              "            await google.colab.kernel.invokeFunction('convertToInteractive',\n",
              "                                                     [key], {});\n",
              "          if (!dataTable) return;\n",
              "\n",
              "          const docLinkHtml = 'Like what you see? Visit the ' +\n",
              "            '<a target=\"_blank\" href=https://colab.research.google.com/notebooks/data_table.ipynb>data table notebook</a>'\n",
              "            + ' to learn more about interactive tables.';\n",
              "          element.innerHTML = '';\n",
              "          dataTable['output_type'] = 'display_data';\n",
              "          await google.colab.output.renderOutput(dataTable, element);\n",
              "          const docLink = document.createElement('div');\n",
              "          docLink.innerHTML = docLinkHtml;\n",
              "          element.appendChild(docLink);\n",
              "        }\n",
              "      </script>\n",
              "    </div>\n",
              "  </div>\n",
              "  "
            ]
          },
          "metadata": {},
          "execution_count": 51
        }
      ]
    },
    {
      "cell_type": "code",
      "execution_count": 52,
      "metadata": {
        "id": "798c6597-c0eb-407d-98df-8913d0762a6e"
      },
      "outputs": [],
      "source": [
        "#Crear una matriz de características (feature matrix) a partir de los datos:\n",
        "X = data_processed.values"
      ]
    },
    {
      "cell_type": "code",
      "source": [
        "# Crea una instancia del algoritmo de agrupación jerárquica AgglomerativeClustering\n",
        "modelAC = AgglomerativeClustering(n_clusters=7, metric='euclidean', linkage='ward')\n",
        "clustersAC=modelAC.fit_predict(X)"
      ],
      "metadata": {
        "id": "0nGQGaXYQ1Xl"
      },
      "execution_count": 53,
      "outputs": []
    },
    {
      "cell_type": "code",
      "source": [
        "clustersAC"
      ],
      "metadata": {
        "colab": {
          "base_uri": "https://localhost:8080/"
        },
        "id": "w6buB3LIldA6",
        "outputId": "55e34923-6b9d-4048-f0b4-c0383a32ca3e"
      },
      "execution_count": 54,
      "outputs": [
        {
          "output_type": "execute_result",
          "data": {
            "text/plain": [
              "array([4, 4, 4, 2, 5, 2, 4, 2, 4, 4, 4, 6, 6, 1, 4, 4, 4, 6, 4, 4, 3, 2,\n",
              "       3, 4, 4, 3, 4, 5, 2, 4, 1, 4, 4, 0, 0, 3, 4, 0, 2, 5, 4, 4, 4, 4,\n",
              "       4, 4, 4, 4, 2, 3, 4, 4, 2, 4, 3, 0, 4, 4, 4, 4, 1, 0, 4, 3, 4, 4,\n",
              "       4, 3, 6, 2, 2, 4, 0, 1, 4, 4, 4, 5, 4, 2, 2, 5, 2, 3, 3, 5, 4, 3,\n",
              "       4, 4, 2, 2, 5, 4, 2, 4, 2, 2, 3, 4, 5, 5, 4, 5, 4, 2, 5, 3, 3, 4,\n",
              "       4, 3, 2, 2, 2, 4, 2, 2, 3, 2, 2, 2, 4, 2, 2, 4, 4, 3, 4, 3, 1, 4,\n",
              "       4])"
            ]
          },
          "metadata": {},
          "execution_count": 54
        }
      ]
    },
    {
      "cell_type": "code",
      "source": [
        "\n",
        "# Obtén las etiquetas de los clusteres asignados a cada fila\n",
        "etiquetas = modelAC.labels_\n",
        "\n",
        "# Agrega las etiquetas al DataFrame original\n",
        "data_processed['Cluster'] = etiquetas\n",
        "\n",
        "data_processed.to_csv\n",
        "\n",
        "# Muestra los resultados\n",
        "print(data_processed.head())"
      ],
      "metadata": {
        "id": "-lfcIrXnQ4K1",
        "colab": {
          "base_uri": "https://localhost:8080/"
        },
        "outputId": "2d6a0bc4-6578-4be9-a377-70a1fda95391"
      },
      "execution_count": 55,
      "outputs": [
        {
          "output_type": "stream",
          "name": "stdout",
          "text": [
            "    V1   V2   V3  SA1  SA2  SA3  SI0  SI1  SI2  SP1  ...  EQUIPO_rflidbinih  \\\n",
            "0  5.0  4.0  4.0  5.0  5.0  5.0  4.0  5.0  5.0  4.0  ...                  0   \n",
            "1  4.0  5.0  3.0  5.0  5.0  5.0  4.0  5.0  6.0  2.0  ...                  0   \n",
            "2  5.0  4.0  5.0  4.0  4.0  4.0  4.0  5.0  5.0  3.0  ...                  0   \n",
            "3  5.0  5.0  5.0  5.0  5.0  5.0  5.0  5.0  5.0  4.0  ...                  0   \n",
            "4  2.0  2.0  2.0  1.0  1.0  1.0  4.0  5.0  5.0  1.0  ...                  0   \n",
            "\n",
            "   EDAD_ijawrgtfuz  EDAD_omygfsbzgq  EDAD_pqgwhrmfdu  EDAD_qmsudmubli  \\\n",
            "0                0                0                1                0   \n",
            "1                0                0                1                0   \n",
            "2                0                1                0                0   \n",
            "3                0                0                1                0   \n",
            "4                0                0                1                0   \n",
            "\n",
            "   EDAD_vjekcogdhn  GENERO_Femenino  GENERO_Masculino  GENERO_No binario  \\\n",
            "0                0                0                 1                  0   \n",
            "1                0                0                 1                  0   \n",
            "2                0                1                 0                  0   \n",
            "3                0                0                 1                  0   \n",
            "4                0                0                 1                  0   \n",
            "\n",
            "   Cluster  \n",
            "0        4  \n",
            "1        4  \n",
            "2        4  \n",
            "3        2  \n",
            "4        5  \n",
            "\n",
            "[5 rows x 127 columns]\n"
          ]
        }
      ]
    },
    {
      "cell_type": "code",
      "source": [
        "num_features=data_processed.shape[1]\n",
        "num_features"
      ],
      "metadata": {
        "colab": {
          "base_uri": "https://localhost:8080/"
        },
        "id": "TGWQjANovqUI",
        "outputId": "091d7245-c772-4145-9425-a1e00f7bc9e1"
      },
      "execution_count": 56,
      "outputs": [
        {
          "output_type": "execute_result",
          "data": {
            "text/plain": [
              "127"
            ]
          },
          "metadata": {},
          "execution_count": 56
        }
      ]
    },
    {
      "cell_type": "code",
      "source": [
        "# Calcular la matriz de enlace\n",
        "linkage_matrix = linkage(data_processed, method='single')\n",
        "\n",
        "# Mostrar el dendrograma\n",
        "plt.figure(figsize=(20, 10))\n",
        "dendrogram(linkage_matrix)\n",
        "\n",
        "plt.title('Dendrograma')\n",
        "plt.xlabel('ID de la muestra')\n",
        "plt.ylabel('Distancia')\n",
        "\n",
        "plt.show()\n"
      ],
      "metadata": {
        "colab": {
          "base_uri": "https://localhost:8080/",
          "height": 765
        },
        "id": "b8LiOEStR6nW",
        "outputId": "618c2287-abc2-4986-f5ad-4df9a94a4303"
      },
      "execution_count": 57,
      "outputs": [
        {
          "output_type": "display_data",
          "data": {
            "text/plain": [
              "<Figure size 2000x1000 with 1 Axes>"
            ],
            "image/png": "[encoded data removed]"
          },
          "metadata": {}
        }
      ]
    },
    {
      "cell_type": "code",
      "source": [
        "    # Aplicar PCA para reducir a 2 dimensiones\n",
        "    pca = PCA(n_components=2)\n",
        "    X_pca = pca.fit_transform(data_processed)\n",
        "\n",
        "    plt.scatter(X_pca[:, 0], X_pca[:, 1], c=etiquetas)\n",
        "    plt.xlabel('Principal Component 1')\n",
        "    plt.ylabel('Principal Component 2')\n",
        "    plt.title('Agglomerative Clustering')\n",
        "    plt.show()\n",
        "\n",
        "\n"
      ],
      "metadata": {
        "colab": {
          "base_uri": "https://localhost:8080/",
          "height": 472
        },
        "id": "Yj5SpuazmEYq",
        "outputId": "284f231c-604f-4841-b1b0-f98bded0dac6"
      },
      "execution_count": 58,
      "outputs": [
        {
          "output_type": "display_data",
          "data": {
            "text/plain": [
              "<Figure size 640x480 with 1 Axes>"
            ],
            "image/png": "[encoded data removed]"
          },
          "metadata": {}
        }
      ]
    },
    {
      "cell_type": "code",
      "source": [
        "# X_pca[:, 0] son los valores en el eje x\n",
        "\n",
        "# X_pca[:, 1] son los valores en el eje y\n",
        "\n",
        "# labels1 son las etiquetas de los grupos\n",
        "\n",
        "# Crea el gráfico de dispersión con colores según las etiquetas\n",
        "plt.scatter(X_pca[:, 0], X_pca[:, 1], c=etiquetas)\n",
        "\n",
        "\n",
        "# Crea una leyenda o mapa de colores\n",
        "plt.colorbar()\n",
        "\n",
        "# Etiqueta cada punto con el índice de la fila correspondiente\n",
        "for i, label in enumerate(etiquetas):\n",
        "    plt.annotate(i, (X_pca[i, 0], X_pca[i, 1]),size=6)\n",
        "\n",
        "\n",
        "# Muestra el gráfico\n",
        "plt.show()"
      ],
      "metadata": {
        "colab": {
          "base_uri": "https://localhost:8080/",
          "height": 435
        },
        "id": "VEqqeEUVdrTh",
        "outputId": "f96224a4-4313-4e4c-8df4-a2e1b549c37d"
      },
      "execution_count": 59,
      "outputs": [
        {
          "output_type": "display_data",
          "data": {
            "text/plain": [
              "<Figure size 640x480 with 2 Axes>"
            ],
            "image/png": "[encoded data removed]"
          },
          "metadata": {}
        }
      ]
    },
    {
      "cell_type": "code",
      "source": [
        "# Aplicar PCA al conjunto de datos\n",
        "pca = PCA()\n",
        "pca.fit(data_processed)\n",
        "\n",
        "# Obtener las componentes principales y su varianza explicada\n",
        "components = pca.components_\n",
        "explained_variance = pca.explained_variance_ratio_\n",
        "\n",
        "# Obtener los índices de los atributos más importantes para cada clúster\n",
        "important_attributes = []\n",
        "for cluster in range(modelAC.n_clusters):\n",
        "    cluster_indices = np.where(etiquetas == cluster)[0]\n",
        "    cluster_data = data_processed.iloc[cluster_indices]\n",
        "    cluster_scores = np.mean(cluster_data.dot(components.T), axis=0)\n",
        "    important_attributes.append(np.argsort(-np.abs(cluster_scores)))\n",
        "\n",
        "# Nombres de los campos\n",
        "column_names = data_processed.columns.tolist()\n",
        "\n",
        "# Imprimir los atributos más importantes por clúster\n",
        "for cluster, attributes in enumerate(important_attributes):\n",
        "    print(f\"Cluster {cluster}:\" )\n",
        "    for attribute in attributes[:7]:  # Mostrar los 5 atributos más importantes\n",
        "        attribute_name = column_names[attribute]\n",
        "        attribute_mean = np.mean(data_processed.iloc[np.where(etiquetas == cluster)[0], attribute])\n",
        "        print(f\"- Atributo n. {attribute+1}: {attribute_name} (Media: {attribute_mean})\")\n",
        "\n"
      ],
      "metadata": {
        "colab": {
          "base_uri": "https://localhost:8080/"
        },
        "id": "fDvb88Q2yqlf",
        "outputId": "7b625487-d1c7-4084-de49-e6eab898a36a"
      },
      "execution_count": 60,
      "outputs": [
        {
          "output_type": "stream",
          "name": "stdout",
          "text": [
            "Cluster 0:\n",
            "- Atributo n. 1: V1 (Media: 3.8333333333333335)\n",
            "- Atributo n. 2: V2 (Media: 3.8333333333333335)\n",
            "- Atributo n. 4: SA1 (Media: -1.0)\n",
            "- Atributo n. 3: V3 (Media: 3.5)\n",
            "- Atributo n. 5: SA2 (Media: -1.0)\n",
            "- Atributo n. 14: SF2 (Media: -1.0)\n",
            "- Atributo n. 13: SF1 (Media: -1.0)\n",
            "Cluster 1:\n",
            "- Atributo n. 4: SA1 (Media: 3.2)\n",
            "- Atributo n. 2: V2 (Media: 3.4)\n",
            "- Atributo n. 5: SA2 (Media: 3.0)\n",
            "- Atributo n. 13: SF1 (Media: 2.4)\n",
            "- Atributo n. 14: SF2 (Media: 3.4)\n",
            "- Atributo n. 10: SP1 (Media: 3.0)\n",
            "- Atributo n. 7: SI0 (Media: 3.4)\n",
            "Cluster 2:\n",
            "- Atributo n. 1: V1 (Media: 3.793103448275862)\n",
            "- Atributo n. 3: V3 (Media: 3.2413793103448274)\n",
            "- Atributo n. 4: SA1 (Media: 4.413793103448276)\n",
            "- Atributo n. 13: SF1 (Media: 3.7241379310344827)\n",
            "- Atributo n. 5: SA2 (Media: 4.0344827586206895)\n",
            "- Atributo n. 7: SI0 (Media: 3.9655172413793105)\n",
            "- Atributo n. 14: SF2 (Media: 3.8620689655172415)\n",
            "Cluster 3:\n",
            "- Atributo n. 1: V1 (Media: 4.444444444444445)\n",
            "- Atributo n. 3: V3 (Media: 3.2777777777777777)\n",
            "- Atributo n. 4: SA1 (Media: 4.388888888888889)\n",
            "- Atributo n. 13: SF1 (Media: 1.8333333333333333)\n",
            "- Atributo n. 5: SA2 (Media: 4.166666666666667)\n",
            "- Atributo n. 11: SP2 (Media: 2.0)\n",
            "- Atributo n. 14: SF2 (Media: 2.0555555555555554)\n",
            "Cluster 4:\n",
            "- Atributo n. 1: V1 (Media: 4.916666666666667)\n",
            "- Atributo n. 4: SA1 (Media: 5.183333333333334)\n",
            "- Atributo n. 3: V3 (Media: 4.233333333333333)\n",
            "- Atributo n. 2: V2 (Media: 4.833333333333333)\n",
            "- Atributo n. 14: SF2 (Media: 4.466666666666667)\n",
            "- Atributo n. 13: SF1 (Media: 4.45)\n",
            "- Atributo n. 29: CD2 (Media: 3.066666666666667)\n",
            "Cluster 5:\n",
            "- Atributo n. 1: V1 (Media: 2.1818181818181817)\n",
            "- Atributo n. 3: V3 (Media: 1.5454545454545454)\n",
            "- Atributo n. 4: SA1 (Media: 1.9090909090909092)\n",
            "- Atributo n. 2: V2 (Media: 2.5454545454545454)\n",
            "- Atributo n. 14: SF2 (Media: 1.8181818181818181)\n",
            "- Atributo n. 6: SA3 (Media: 2.0)\n",
            "- Atributo n. 5: SA2 (Media: 1.4545454545454546)\n",
            "Cluster 6:\n",
            "- Atributo n. 2: V2 (Media: 4.5)\n",
            "- Atributo n. 3: V3 (Media: 4.5)\n",
            "- Atributo n. 1: V1 (Media: 4.5)\n",
            "- Atributo n. 14: SF2 (Media: 4.0)\n",
            "- Atributo n. 13: SF1 (Media: 4.0)\n",
            "- Atributo n. 12: SP3 (Media: 3.25)\n",
            "- Atributo n. 10: SP1 (Media: 3.75)\n"
          ]
        }
      ]
    },
    {
      "cell_type": "code",
      "source": [
        "# Calcular el índice de silueta\n",
        "silhouette_avg = silhouette_score(data_processed, etiquetas)\n",
        "print(f\"Índice de Silueta Promedio: {silhouette_avg}\")"
      ],
      "metadata": {
        "colab": {
          "base_uri": "https://localhost:8080/"
        },
        "id": "vTL2QyM5DiFD",
        "outputId": "e03b266c-7ea5-4517-c695-21e0b28ae5f8"
      },
      "execution_count": 61,
      "outputs": [
        {
          "output_type": "stream",
          "name": "stdout",
          "text": [
            "Índice de Silueta Promedio: 0.15412736810751584\n"
          ]
        }
      ]
    },
    {
      "cell_type": "code",
      "source": [
        "# Calcular el índice de silueta para cada muestra\n",
        "silhouette_values = silhouette_samples(data_processed, etiquetas)\n",
        "\n",
        "# Calcular el índice de silueta individual promedio para cada clúster\n",
        "cluster_indices = sorted(set(etiquetas))\n",
        "for cluster_idx in cluster_indices:\n",
        "    # Obtener las muestras pertenecientes al clúster actual\n",
        "    cluster_samples = silhouette_values[etiquetas == cluster_idx]\n",
        "    cluster_avg_silhouette = cluster_samples.mean()\n",
        "    print(f\"Índice de Silueta del Clúster {cluster_idx}: {cluster_avg_silhouette}\")"
      ],
      "metadata": {
        "colab": {
          "base_uri": "https://localhost:8080/"
        },
        "id": "bBzRtZraDh0o",
        "outputId": "8dd1b598-db7a-498a-c48c-f2a66579cbee"
      },
      "execution_count": 62,
      "outputs": [
        {
          "output_type": "stream",
          "name": "stdout",
          "text": [
            "Índice de Silueta del Clúster 0: 0.104804026746534\n",
            "Índice de Silueta del Clúster 1: 0.15851810862928062\n",
            "Índice de Silueta del Clúster 2: 0.04069117897080827\n",
            "Índice de Silueta del Clúster 3: -0.00957117769326622\n",
            "Índice de Silueta del Clúster 4: 0.22184935633543182\n",
            "Índice de Silueta del Clúster 5: 0.158077021652598\n",
            "Índice de Silueta del Clúster 6: 0.7549884111737157\n"
          ]
        }
      ]
    },
    {
      "cell_type": "code",
      "source": [
        "#modelFA=FeatureAgglomeration(n_clusters=5)"
      ],
      "metadata": {
        "id": "DmsZThR8WDQT"
      },
      "execution_count": 63,
      "outputs": []
    }
  ]
}