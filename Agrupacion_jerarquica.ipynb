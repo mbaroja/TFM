{
  "nbformat": 4,
  "nbformat_minor": 0,
  "metadata": {
    "colab": {
      "provenance": [],
      "authorship_tag": "ABX9TyPBZkS/UIh2ODh/dBy8W2Dj",
      "include_colab_link": true
    },
    "kernelspec": {
      "name": "python3",
      "display_name": "Python 3"
    },
    "language_info": {
      "name": "python"
    }
  },
  "cells": [
    {
      "cell_type": "markdown",
      "metadata": {
        "id": "view-in-github",
        "colab_type": "text"
      },
      "source": [
        "<a href=\"https://colab.research.google.com/github/mbaroja/TFM/blob/code/Agrupacion_jerarquica.ipynb\" target=\"_parent\"><img src=\"https://colab.research.google.com/assets/colab-badge.svg\" alt=\"Open In Colab\"/></a>"
      ]
    },
    {
      "cell_type": "code",
      "execution_count": 96,
      "metadata": {
        "id": "rLmqqMR2Qar-"
      },
      "outputs": [],
      "source": [
        "import pandas as pd\n",
        "import numpy as np\n",
        "import matplotlib.pyplot as plt\n",
        "from sklearn.cluster import AgglomerativeClustering, FeatureAgglomeration\n",
        "from scipy.cluster.hierarchy import dendrogram, linkage\n",
        "from sklearn.decomposition import PCA\n",
        "from sklearn.metrics import silhouette_score, silhouette_samples\n"
      ]
    },
    {
      "cell_type": "code",
      "source": [
        "# Carga de los datos a un dataframe y comprobar dimensionalidad\n",
        "#df=pd.read_csv(\"https://raw.githubusercontent.com/mbaroja/TFM/data/data_cleaned.csv\",delimiter=\";\")\n",
        "#df=pd.read_csv(\"https://raw.githubusercontent.com/mbaroja/TFM/data/data_cleaned_without_avgcolumns.csv\",delimiter=\";\")\n",
        "df=pd.read_csv(\"https://raw.githubusercontent.com/mbaroja/TFM/data/data_cleaned_only_avgcolumns.csv\",delimiter=\";\")\n",
        "df.shape\n"
      ],
      "metadata": {
        "colab": {
          "base_uri": "https://localhost:8080/"
        },
        "id": "CeNz4eWOQujq",
        "outputId": "cc105e93-4133-46e1-8755-c3e1e7caaa7a"
      },
      "execution_count": 97,
      "outputs": [
        {
          "output_type": "execute_result",
          "data": {
            "text/plain": [
              "(133, 29)"
            ]
          },
          "metadata": {},
          "execution_count": 97
        }
      ]
    },
    {
      "cell_type": "code",
      "source": [
        "df.info()"
      ],
      "metadata": {
        "colab": {
          "base_uri": "https://localhost:8080/"
        },
        "id": "Wo_jF4tsKmml",
        "outputId": "0ba02b0e-4c12-44bf-85af-87c4f5697e1b"
      },
      "execution_count": 98,
      "outputs": [
        {
          "output_type": "stream",
          "name": "stdout",
          "text": [
            "<class 'pandas.core.frame.DataFrame'>\n",
            "RangeIndex: 133 entries, 0 to 132\n",
            "Data columns (total 29 columns):\n",
            " #   Column      Non-Null Count  Dtype  \n",
            "---  ------      --------------  -----  \n",
            " 0   AREA        133 non-null    object \n",
            " 1   EQUIPO      133 non-null    object \n",
            " 2   EDAD        133 non-null    object \n",
            " 3   GENERO      119 non-null    object \n",
            " 4   V_media     133 non-null    float64\n",
            " 5   SA_media    133 non-null    float64\n",
            " 6   SI_media    133 non-null    float64\n",
            " 7   SP_media    133 non-null    float64\n",
            " 8   SF_media    133 non-null    float64\n",
            " 9   CL_media    133 non-null    float64\n",
            " 10  CH_media    133 non-null    float64\n",
            " 11  CE_media    133 non-null    float64\n",
            " 12  CB_media    133 non-null    float64\n",
            " 13  CD_media    133 non-null    float64\n",
            " 14  CJ_media    133 non-null    float64\n",
            " 15  CC_media    133 non-null    float64\n",
            " 16  CI_media    133 non-null    float64\n",
            " 17  LS_media    133 non-null    float64\n",
            " 18  LA_media    133 non-null    float64\n",
            " 19  LV_media    133 non-null    float64\n",
            " 20  LG_media    133 non-null    float64\n",
            " 21  RET_media   133 non-null    float64\n",
            " 22  PS_media    133 non-null    float64\n",
            " 23  RS_media    133 non-null    float64\n",
            " 24  RC_media    133 non-null    float64\n",
            " 25  E_media     133 non-null    float64\n",
            " 26  CSSC_media  133 non-null    float64\n",
            " 27  TLKS_media  133 non-null    float64\n",
            " 28  Obs_01      133 non-null    int64  \n",
            "dtypes: float64(24), int64(1), object(4)\n",
            "memory usage: 30.3+ KB\n"
          ]
        }
      ]
    },
    {
      "cell_type": "markdown",
      "source": [
        "**Preprocesado de los datos de entrada**"
      ],
      "metadata": {
        "id": "8pvaaxbGkEFq"
      }
    },
    {
      "cell_type": "code",
      "execution_count": 99,
      "metadata": {
        "id": "9fe2f35a-fee5-4a24-983b-13f63ed08fc2"
      },
      "outputs": [],
      "source": [
        "#Preprocesado de datos ya que los algoritmos requieren datos numéricos para calcular la matriz de afinidad y realizar el clustering\n",
        "\n",
        "#identificar las columnas que contienen valores de texto en el conjunto de datos\n",
        "data_text = df.select_dtypes(include='object')\n",
        "# aplicar la codificación one-hot utilizando el método get_dummies de Pandas para convertir esas columnas en columnas numéricas\n",
        "data_encoded = pd.get_dummies(data_text)"
      ]
    },
    {
      "cell_type": "code",
      "execution_count": 100,
      "metadata": {
        "id": "5f144750-0142-492e-971b-1ebe34da0dee"
      },
      "outputs": [],
      "source": [
        "#una vez que preprocesados los datos, combinar las columnas numéricas procesadas con el resto del conjunto de datos.\n",
        "data_numeric = df.select_dtypes(exclude='object')\n",
        "data_processed = pd.concat([data_numeric, data_encoded], axis=1)"
      ]
    },
    {
      "cell_type": "code",
      "source": [
        "data_processed"
      ],
      "metadata": {
        "colab": {
          "base_uri": "https://localhost:8080/",
          "height": 505
        },
        "id": "bMSACmWcGyh5",
        "outputId": "4f86617f-3cef-49e1-ccb7-4a6cbfb30647"
      },
      "execution_count": 101,
      "outputs": [
        {
          "output_type": "execute_result",
          "data": {
            "text/plain": [
              "      V_media  SA_media  SI_media  SP_media  SF_media  CL_media  CH_media  \\\n",
              "0    4.333333  5.000000  4.666667  3.000000  4.000000  5.000000  4.000000   \n",
              "1    4.000000  5.000000  5.000000  2.000000  4.666667  5.000000  5.333333   \n",
              "2    4.666667  4.000000  4.666667  3.000000  4.333333  5.000000  5.000000   \n",
              "3    5.000000  5.000000  5.000000  4.000000  4.000000  4.666667  4.666667   \n",
              "4    2.000000  1.000000  4.666667  1.000000  1.000000  1.000000  1.333333   \n",
              "..        ...       ...       ...       ...       ...       ...       ...   \n",
              "128  4.000000  4.666667  3.333333  2.000000  2.000000  5.000000  4.000000   \n",
              "129  3.000000  4.333333  4.333333  1.333333  2.000000  4.666667  2.000000   \n",
              "130 -1.000000 -1.000000 -1.000000 -1.000000 -1.000000  4.666667  3.000000   \n",
              "131  5.000000  5.000000  5.000000  5.000000  5.000000  5.000000  5.000000   \n",
              "132  5.333333  5.000000  5.333333  5.333333  5.000000  4.333333  4.666667   \n",
              "\n",
              "     CE_media  CB_media  CD_media  ...  EQUIPO_qmsudmubli  EQUIPO_rflidbinih  \\\n",
              "0    4.333333  3.666667  5.000000  ...                  0                  0   \n",
              "1    6.000000  4.333333  4.000000  ...                  0                  0   \n",
              "2    5.000000  3.333333  2.333333  ...                  0                  0   \n",
              "3    4.666667  4.666667  3.666667  ...                  0                  0   \n",
              "4    2.000000  4.000000  5.000000  ...                  0                  0   \n",
              "..        ...       ...       ...  ...                ...                ...   \n",
              "128  4.333333  3.000000  2.333333  ...                  1                  0   \n",
              "129  3.333333  3.333333  4.333333  ...                  1                  0   \n",
              "130  3.666667  3.000000  3.000000  ...                  1                  0   \n",
              "131  5.000000  5.000000  5.000000  ...                  1                  0   \n",
              "132  5.000000  3.000000  3.333333  ...                  1                  0   \n",
              "\n",
              "     EDAD_ijawrgtfuz  EDAD_omygfsbzgq  EDAD_pqgwhrmfdu  EDAD_qmsudmubli  \\\n",
              "0                  0                0                1                0   \n",
              "1                  0                0                1                0   \n",
              "2                  0                1                0                0   \n",
              "3                  0                0                1                0   \n",
              "4                  0                0                1                0   \n",
              "..               ...              ...              ...              ...   \n",
              "128                0                0                0                1   \n",
              "129                0                0                0                1   \n",
              "130                0                0                0                1   \n",
              "131                0                0                0                1   \n",
              "132                0                0                0                1   \n",
              "\n",
              "     EDAD_vjekcogdhn  GENERO_Femenino  GENERO_Masculino  GENERO_No binario  \n",
              "0                  0                0                 1                  0  \n",
              "1                  0                0                 1                  0  \n",
              "2                  0                1                 0                  0  \n",
              "3                  0                0                 1                  0  \n",
              "4                  0                0                 1                  0  \n",
              "..               ...              ...               ...                ...  \n",
              "128                0                0                 0                  0  \n",
              "129                0                0                 0                  0  \n",
              "130                0                0                 0                  0  \n",
              "131                0                0                 0                  0  \n",
              "132                0                0                 0                  0  \n",
              "\n",
              "[133 rows x 45 columns]"
            ],
            "text/html": [
              "\n",
              "  <div id=\"df-8d0f34fb-d259-4250-ae7c-2de13acdc6ec\">\n",
              "    <div class=\"colab-df-container\">\n",
              "      <div>\n",
              "<style scoped>\n",
              "    .dataframe tbody tr th:only-of-type {\n",
              "        vertical-align: middle;\n",
              "    }\n",
              "\n",
              "    .dataframe tbody tr th {\n",
              "        vertical-align: top;\n",
              "    }\n",
              "\n",
              "    .dataframe thead th {\n",
              "        text-align: right;\n",
              "    }\n",
              "</style>\n",
              "<table border=\"1\" class=\"dataframe\">\n",
              "  <thead>\n",
              "    <tr style=\"text-align: right;\">\n",
              "      <th></th>\n",
              "      <th>V_media</th>\n",
              "      <th>SA_media</th>\n",
              "      <th>SI_media</th>\n",
              "      <th>SP_media</th>\n",
              "      <th>SF_media</th>\n",
              "      <th>CL_media</th>\n",
              "      <th>CH_media</th>\n",
              "      <th>CE_media</th>\n",
              "      <th>CB_media</th>\n",
              "      <th>CD_media</th>\n",
              "      <th>...</th>\n",
              "      <th>EQUIPO_qmsudmubli</th>\n",
              "      <th>EQUIPO_rflidbinih</th>\n",
              "      <th>EDAD_ijawrgtfuz</th>\n",
              "      <th>EDAD_omygfsbzgq</th>\n",
              "      <th>EDAD_pqgwhrmfdu</th>\n",
              "      <th>EDAD_qmsudmubli</th>\n",
              "      <th>EDAD_vjekcogdhn</th>\n",
              "      <th>GENERO_Femenino</th>\n",
              "      <th>GENERO_Masculino</th>\n",
              "      <th>GENERO_No binario</th>\n",
              "    </tr>\n",
              "  </thead>\n",
              "  <tbody>\n",
              "    <tr>\n",
              "      <th>0</th>\n",
              "      <td>4.333333</td>\n",
              "      <td>5.000000</td>\n",
              "      <td>4.666667</td>\n",
              "      <td>3.000000</td>\n",
              "      <td>4.000000</td>\n",
              "      <td>5.000000</td>\n",
              "      <td>4.000000</td>\n",
              "      <td>4.333333</td>\n",
              "      <td>3.666667</td>\n",
              "      <td>5.000000</td>\n",
              "      <td>...</td>\n",
              "      <td>0</td>\n",
              "      <td>0</td>\n",
              "      <td>0</td>\n",
              "      <td>0</td>\n",
              "      <td>1</td>\n",
              "      <td>0</td>\n",
              "      <td>0</td>\n",
              "      <td>0</td>\n",
              "      <td>1</td>\n",
              "      <td>0</td>\n",
              "    </tr>\n",
              "    <tr>\n",
              "      <th>1</th>\n",
              "      <td>4.000000</td>\n",
              "      <td>5.000000</td>\n",
              "      <td>5.000000</td>\n",
              "      <td>2.000000</td>\n",
              "      <td>4.666667</td>\n",
              "      <td>5.000000</td>\n",
              "      <td>5.333333</td>\n",
              "      <td>6.000000</td>\n",
              "      <td>4.333333</td>\n",
              "      <td>4.000000</td>\n",
              "      <td>...</td>\n",
              "      <td>0</td>\n",
              "      <td>0</td>\n",
              "      <td>0</td>\n",
              "      <td>0</td>\n",
              "      <td>1</td>\n",
              "      <td>0</td>\n",
              "      <td>0</td>\n",
              "      <td>0</td>\n",
              "      <td>1</td>\n",
              "      <td>0</td>\n",
              "    </tr>\n",
              "    <tr>\n",
              "      <th>2</th>\n",
              "      <td>4.666667</td>\n",
              "      <td>4.000000</td>\n",
              "      <td>4.666667</td>\n",
              "      <td>3.000000</td>\n",
              "      <td>4.333333</td>\n",
              "      <td>5.000000</td>\n",
              "      <td>5.000000</td>\n",
              "      <td>5.000000</td>\n",
              "      <td>3.333333</td>\n",
              "      <td>2.333333</td>\n",
              "      <td>...</td>\n",
              "      <td>0</td>\n",
              "      <td>0</td>\n",
              "      <td>0</td>\n",
              "      <td>1</td>\n",
              "      <td>0</td>\n",
              "      <td>0</td>\n",
              "      <td>0</td>\n",
              "      <td>1</td>\n",
              "      <td>0</td>\n",
              "      <td>0</td>\n",
              "    </tr>\n",
              "    <tr>\n",
              "      <th>3</th>\n",
              "      <td>5.000000</td>\n",
              "      <td>5.000000</td>\n",
              "      <td>5.000000</td>\n",
              "      <td>4.000000</td>\n",
              "      <td>4.000000</td>\n",
              "      <td>4.666667</td>\n",
              "      <td>4.666667</td>\n",
              "      <td>4.666667</td>\n",
              "      <td>4.666667</td>\n",
              "      <td>3.666667</td>\n",
              "      <td>...</td>\n",
              "      <td>0</td>\n",
              "      <td>0</td>\n",
              "      <td>0</td>\n",
              "      <td>0</td>\n",
              "      <td>1</td>\n",
              "      <td>0</td>\n",
              "      <td>0</td>\n",
              "      <td>0</td>\n",
              "      <td>1</td>\n",
              "      <td>0</td>\n",
              "    </tr>\n",
              "    <tr>\n",
              "      <th>4</th>\n",
              "      <td>2.000000</td>\n",
              "      <td>1.000000</td>\n",
              "      <td>4.666667</td>\n",
              "      <td>1.000000</td>\n",
              "      <td>1.000000</td>\n",
              "      <td>1.000000</td>\n",
              "      <td>1.333333</td>\n",
              "      <td>2.000000</td>\n",
              "      <td>4.000000</td>\n",
              "      <td>5.000000</td>\n",
              "      <td>...</td>\n",
              "      <td>0</td>\n",
              "      <td>0</td>\n",
              "      <td>0</td>\n",
              "      <td>0</td>\n",
              "      <td>1</td>\n",
              "      <td>0</td>\n",
              "      <td>0</td>\n",
              "      <td>0</td>\n",
              "      <td>1</td>\n",
              "      <td>0</td>\n",
              "    </tr>\n",
              "    <tr>\n",
              "      <th>...</th>\n",
              "      <td>...</td>\n",
              "      <td>...</td>\n",
              "      <td>...</td>\n",
              "      <td>...</td>\n",
              "      <td>...</td>\n",
              "      <td>...</td>\n",
              "      <td>...</td>\n",
              "      <td>...</td>\n",
              "      <td>...</td>\n",
              "      <td>...</td>\n",
              "      <td>...</td>\n",
              "      <td>...</td>\n",
              "      <td>...</td>\n",
              "      <td>...</td>\n",
              "      <td>...</td>\n",
              "      <td>...</td>\n",
              "      <td>...</td>\n",
              "      <td>...</td>\n",
              "      <td>...</td>\n",
              "      <td>...</td>\n",
              "      <td>...</td>\n",
              "    </tr>\n",
              "    <tr>\n",
              "      <th>128</th>\n",
              "      <td>4.000000</td>\n",
              "      <td>4.666667</td>\n",
              "      <td>3.333333</td>\n",
              "      <td>2.000000</td>\n",
              "      <td>2.000000</td>\n",
              "      <td>5.000000</td>\n",
              "      <td>4.000000</td>\n",
              "      <td>4.333333</td>\n",
              "      <td>3.000000</td>\n",
              "      <td>2.333333</td>\n",
              "      <td>...</td>\n",
              "      <td>1</td>\n",
              "      <td>0</td>\n",
              "      <td>0</td>\n",
              "      <td>0</td>\n",
              "      <td>0</td>\n",
              "      <td>1</td>\n",
              "      <td>0</td>\n",
              "      <td>0</td>\n",
              "      <td>0</td>\n",
              "      <td>0</td>\n",
              "    </tr>\n",
              "    <tr>\n",
              "      <th>129</th>\n",
              "      <td>3.000000</td>\n",
              "      <td>4.333333</td>\n",
              "      <td>4.333333</td>\n",
              "      <td>1.333333</td>\n",
              "      <td>2.000000</td>\n",
              "      <td>4.666667</td>\n",
              "      <td>2.000000</td>\n",
              "      <td>3.333333</td>\n",
              "      <td>3.333333</td>\n",
              "      <td>4.333333</td>\n",
              "      <td>...</td>\n",
              "      <td>1</td>\n",
              "      <td>0</td>\n",
              "      <td>0</td>\n",
              "      <td>0</td>\n",
              "      <td>0</td>\n",
              "      <td>1</td>\n",
              "      <td>0</td>\n",
              "      <td>0</td>\n",
              "      <td>0</td>\n",
              "      <td>0</td>\n",
              "    </tr>\n",
              "    <tr>\n",
              "      <th>130</th>\n",
              "      <td>-1.000000</td>\n",
              "      <td>-1.000000</td>\n",
              "      <td>-1.000000</td>\n",
              "      <td>-1.000000</td>\n",
              "      <td>-1.000000</td>\n",
              "      <td>4.666667</td>\n",
              "      <td>3.000000</td>\n",
              "      <td>3.666667</td>\n",
              "      <td>3.000000</td>\n",
              "      <td>3.000000</td>\n",
              "      <td>...</td>\n",
              "      <td>1</td>\n",
              "      <td>0</td>\n",
              "      <td>0</td>\n",
              "      <td>0</td>\n",
              "      <td>0</td>\n",
              "      <td>1</td>\n",
              "      <td>0</td>\n",
              "      <td>0</td>\n",
              "      <td>0</td>\n",
              "      <td>0</td>\n",
              "    </tr>\n",
              "    <tr>\n",
              "      <th>131</th>\n",
              "      <td>5.000000</td>\n",
              "      <td>5.000000</td>\n",
              "      <td>5.000000</td>\n",
              "      <td>5.000000</td>\n",
              "      <td>5.000000</td>\n",
              "      <td>5.000000</td>\n",
              "      <td>5.000000</td>\n",
              "      <td>5.000000</td>\n",
              "      <td>5.000000</td>\n",
              "      <td>5.000000</td>\n",
              "      <td>...</td>\n",
              "      <td>1</td>\n",
              "      <td>0</td>\n",
              "      <td>0</td>\n",
              "      <td>0</td>\n",
              "      <td>0</td>\n",
              "      <td>1</td>\n",
              "      <td>0</td>\n",
              "      <td>0</td>\n",
              "      <td>0</td>\n",
              "      <td>0</td>\n",
              "    </tr>\n",
              "    <tr>\n",
              "      <th>132</th>\n",
              "      <td>5.333333</td>\n",
              "      <td>5.000000</td>\n",
              "      <td>5.333333</td>\n",
              "      <td>5.333333</td>\n",
              "      <td>5.000000</td>\n",
              "      <td>4.333333</td>\n",
              "      <td>4.666667</td>\n",
              "      <td>5.000000</td>\n",
              "      <td>3.000000</td>\n",
              "      <td>3.333333</td>\n",
              "      <td>...</td>\n",
              "      <td>1</td>\n",
              "      <td>0</td>\n",
              "      <td>0</td>\n",
              "      <td>0</td>\n",
              "      <td>0</td>\n",
              "      <td>1</td>\n",
              "      <td>0</td>\n",
              "      <td>0</td>\n",
              "      <td>0</td>\n",
              "      <td>0</td>\n",
              "    </tr>\n",
              "  </tbody>\n",
              "</table>\n",
              "<p>133 rows × 45 columns</p>\n",
              "</div>\n",
              "      <button class=\"colab-df-convert\" onclick=\"convertToInteractive('df-8d0f34fb-d259-4250-ae7c-2de13acdc6ec')\"\n",
              "              title=\"Convert this dataframe to an interactive table.\"\n",
              "              style=\"display:none;\">\n",
              "        \n",
              "  <svg xmlns=\"http://www.w3.org/2000/svg\" height=\"24px\"viewBox=\"0 0 24 24\"\n",
              "       width=\"24px\">\n",
              "    <path d=\"M0 0h24v24H0V0z\" fill=\"none\"/>\n",
              "    <path d=\"M18.56 5.44l.94 2.06.94-2.06 2.06-.94-2.06-.94-.94-2.06-.94 2.06-2.06.94zm-11 1L8.5 8.5l.94-2.06 2.06-.94-2.06-.94L8.5 2.5l-.94 2.06-2.06.94zm10 10l.94 2.06.94-2.06 2.06-.94-2.06-.94-.94-2.06-.94 2.06-2.06.94z\"/><path d=\"M17.41 7.96l-1.37-1.37c-.4-.4-.92-.59-1.43-.59-.52 0-1.04.2-1.43.59L10.3 9.45l-7.72 7.72c-.78.78-.78 2.05 0 2.83L4 21.41c.39.39.9.59 1.41.59.51 0 1.02-.2 1.41-.59l7.78-7.78 2.81-2.81c.8-.78.8-2.07 0-2.86zM5.41 20L4 18.59l7.72-7.72 1.47 1.35L5.41 20z\"/>\n",
              "  </svg>\n",
              "      </button>\n",
              "      \n",
              "  <style>\n",
              "    .colab-df-container {\n",
              "      display:flex;\n",
              "      flex-wrap:wrap;\n",
              "      gap: 12px;\n",
              "    }\n",
              "\n",
              "    .colab-df-convert {\n",
              "      background-color: #E8F0FE;\n",
              "      border: none;\n",
              "      border-radius: 50%;\n",
              "      cursor: pointer;\n",
              "      display: none;\n",
              "      fill: #1967D2;\n",
              "      height: 32px;\n",
              "      padding: 0 0 0 0;\n",
              "      width: 32px;\n",
              "    }\n",
              "\n",
              "    .colab-df-convert:hover {\n",
              "      background-color: #E2EBFA;\n",
              "      box-shadow: 0px 1px 2px rgba(60, 64, 67, 0.3), 0px 1px 3px 1px rgba(60, 64, 67, 0.15);\n",
              "      fill: #174EA6;\n",
              "    }\n",
              "\n",
              "    [theme=dark] .colab-df-convert {\n",
              "      background-color: #3B4455;\n",
              "      fill: #D2E3FC;\n",
              "    }\n",
              "\n",
              "    [theme=dark] .colab-df-convert:hover {\n",
              "      background-color: #434B5C;\n",
              "      box-shadow: 0px 1px 3px 1px rgba(0, 0, 0, 0.15);\n",
              "      filter: drop-shadow(0px 1px 2px rgba(0, 0, 0, 0.3));\n",
              "      fill: #FFFFFF;\n",
              "    }\n",
              "  </style>\n",
              "\n",
              "      <script>\n",
              "        const buttonEl =\n",
              "          document.querySelector('#df-8d0f34fb-d259-4250-ae7c-2de13acdc6ec button.colab-df-convert');\n",
              "        buttonEl.style.display =\n",
              "          google.colab.kernel.accessAllowed ? 'block' : 'none';\n",
              "\n",
              "        async function convertToInteractive(key) {\n",
              "          const element = document.querySelector('#df-8d0f34fb-d259-4250-ae7c-2de13acdc6ec');\n",
              "          const dataTable =\n",
              "            await google.colab.kernel.invokeFunction('convertToInteractive',\n",
              "                                                     [key], {});\n",
              "          if (!dataTable) return;\n",
              "\n",
              "          const docLinkHtml = 'Like what you see? Visit the ' +\n",
              "            '<a target=\"_blank\" href=https://colab.research.google.com/notebooks/data_table.ipynb>data table notebook</a>'\n",
              "            + ' to learn more about interactive tables.';\n",
              "          element.innerHTML = '';\n",
              "          dataTable['output_type'] = 'display_data';\n",
              "          await google.colab.output.renderOutput(dataTable, element);\n",
              "          const docLink = document.createElement('div');\n",
              "          docLink.innerHTML = docLinkHtml;\n",
              "          element.appendChild(docLink);\n",
              "        }\n",
              "      </script>\n",
              "    </div>\n",
              "  </div>\n",
              "  "
            ]
          },
          "metadata": {},
          "execution_count": 101
        }
      ]
    },
    {
      "cell_type": "code",
      "execution_count": 102,
      "metadata": {
        "id": "798c6597-c0eb-407d-98df-8913d0762a6e"
      },
      "outputs": [],
      "source": [
        "#Crear una matriz de características (feature matrix) a partir de los datos:\n",
        "X = data_processed.values"
      ]
    },
    {
      "cell_type": "code",
      "source": [
        "# Crea una instancia del algoritmo de agrupación jerárquica AgglomerativeClustering\n",
        "modelAC = AgglomerativeClustering(n_clusters=7, metric='euclidean', linkage='single')\n",
        "clustersAC=modelAC.fit_predict(X)"
      ],
      "metadata": {
        "id": "0nGQGaXYQ1Xl"
      },
      "execution_count": 103,
      "outputs": []
    },
    {
      "cell_type": "code",
      "source": [
        "clustersAC"
      ],
      "metadata": {
        "colab": {
          "base_uri": "https://localhost:8080/"
        },
        "id": "w6buB3LIldA6",
        "outputId": "46e1271f-403e-4bca-9b0a-8f1ec038554b"
      },
      "execution_count": 104,
      "outputs": [
        {
          "output_type": "execute_result",
          "data": {
            "text/plain": [
              "array([0, 0, 0, 0, 0, 0, 0, 0, 0, 0, 0, 6, 6, 2, 0, 0, 0, 6, 0, 0, 0, 0,\n",
              "       0, 0, 0, 0, 0, 0, 0, 0, 2, 0, 0, 0, 0, 0, 0, 4, 0, 0, 0, 0, 0, 0,\n",
              "       0, 0, 0, 0, 0, 0, 0, 0, 0, 0, 0, 0, 0, 0, 0, 0, 2, 0, 0, 0, 0, 0,\n",
              "       0, 0, 6, 0, 0, 0, 3, 5, 0, 0, 0, 0, 0, 0, 0, 0, 0, 0, 0, 0, 0, 0,\n",
              "       0, 0, 0, 0, 0, 0, 0, 0, 0, 0, 0, 0, 0, 0, 0, 0, 0, 0, 0, 0, 0, 0,\n",
              "       0, 0, 0, 0, 0, 0, 0, 0, 0, 0, 0, 0, 0, 0, 0, 0, 0, 0, 0, 0, 1, 0,\n",
              "       0])"
            ]
          },
          "metadata": {},
          "execution_count": 104
        }
      ]
    },
    {
      "cell_type": "code",
      "source": [
        "\n",
        "# Obtén las etiquetas de los clusteres asignados a cada fila\n",
        "etiquetas = modelAC.labels_\n",
        "\n",
        "# Agrega las etiquetas al DataFrame original\n",
        "data_processed['Cluster'] = etiquetas\n",
        "\n",
        "# Muestra los resultados\n",
        "print(data_processed.head())"
      ],
      "metadata": {
        "id": "-lfcIrXnQ4K1",
        "colab": {
          "base_uri": "https://localhost:8080/"
        },
        "outputId": "36500ad8-296c-442e-962c-e445274f7b43"
      },
      "execution_count": 105,
      "outputs": [
        {
          "output_type": "stream",
          "name": "stdout",
          "text": [
            "    V_media  SA_media  SI_media  SP_media  SF_media  CL_media  CH_media  \\\n",
            "0  4.333333       5.0  4.666667       3.0  4.000000  5.000000  4.000000   \n",
            "1  4.000000       5.0  5.000000       2.0  4.666667  5.000000  5.333333   \n",
            "2  4.666667       4.0  4.666667       3.0  4.333333  5.000000  5.000000   \n",
            "3  5.000000       5.0  5.000000       4.0  4.000000  4.666667  4.666667   \n",
            "4  2.000000       1.0  4.666667       1.0  1.000000  1.000000  1.333333   \n",
            "\n",
            "   CE_media  CB_media  CD_media  ...  EQUIPO_rflidbinih  EDAD_ijawrgtfuz  \\\n",
            "0  4.333333  3.666667  5.000000  ...                  0                0   \n",
            "1  6.000000  4.333333  4.000000  ...                  0                0   \n",
            "2  5.000000  3.333333  2.333333  ...                  0                0   \n",
            "3  4.666667  4.666667  3.666667  ...                  0                0   \n",
            "4  2.000000  4.000000  5.000000  ...                  0                0   \n",
            "\n",
            "   EDAD_omygfsbzgq  EDAD_pqgwhrmfdu  EDAD_qmsudmubli  EDAD_vjekcogdhn  \\\n",
            "0                0                1                0                0   \n",
            "1                0                1                0                0   \n",
            "2                1                0                0                0   \n",
            "3                0                1                0                0   \n",
            "4                0                1                0                0   \n",
            "\n",
            "   GENERO_Femenino  GENERO_Masculino  GENERO_No binario  Cluster  \n",
            "0                0                 1                  0        0  \n",
            "1                0                 1                  0        0  \n",
            "2                1                 0                  0        0  \n",
            "3                0                 1                  0        0  \n",
            "4                0                 1                  0        0  \n",
            "\n",
            "[5 rows x 46 columns]\n"
          ]
        }
      ]
    },
    {
      "cell_type": "code",
      "source": [
        "num_features=data_processed.shape[1]\n",
        "num_features"
      ],
      "metadata": {
        "colab": {
          "base_uri": "https://localhost:8080/"
        },
        "id": "TGWQjANovqUI",
        "outputId": "2f52d637-e84f-4d3b-bf04-76e5ebe000da"
      },
      "execution_count": 106,
      "outputs": [
        {
          "output_type": "execute_result",
          "data": {
            "text/plain": [
              "46"
            ]
          },
          "metadata": {},
          "execution_count": 106
        }
      ]
    },
    {
      "cell_type": "code",
      "source": [
        "# Calcular la matriz de enlace\n",
        "linkage_matrix = linkage(data_processed, method='single')\n",
        "\n",
        "# Mostrar el dendrograma\n",
        "plt.figure(figsize=(20, 10))\n",
        "dendrogram(linkage_matrix)\n",
        "\n",
        "plt.title('Dendrograma')\n",
        "plt.xlabel('ID de la muestra')\n",
        "plt.ylabel('Distancia')\n",
        "\n",
        "plt.show()\n"
      ],
      "metadata": {
        "colab": {
          "base_uri": "https://localhost:8080/",
          "height": 765
        },
        "id": "b8LiOEStR6nW",
        "outputId": "47fd179e-bc1d-4d82-a270-26ddf030a940"
      },
      "execution_count": 107,
      "outputs": [
        {
          "output_type": "display_data",
          "data": {
            "text/plain": [
              "<Figure size 2000x1000 with 1 Axes>"
            ],
            "image/png": "[encoded data removed]"
          },
          "metadata": {}
        }
      ]
    },
    {
      "cell_type": "code",
      "source": [
        "    # Aplicar PCA para reducir a 2 dimensiones\n",
        "    pca = PCA(n_components=2)\n",
        "    X_pca = pca.fit_transform(data_processed)\n",
        "\n",
        "    plt.scatter(X_pca[:, 0], X_pca[:, 1], c=etiquetas)\n",
        "    plt.xlabel('Principal Component 1')\n",
        "    plt.ylabel('Principal Component 2')\n",
        "    plt.title('Agglomerative Clustering')\n",
        "    plt.show()\n",
        "\n",
        "\n"
      ],
      "metadata": {
        "colab": {
          "base_uri": "https://localhost:8080/",
          "height": 472
        },
        "id": "Yj5SpuazmEYq",
        "outputId": "a5ac5b45-4672-4f0c-9176-efbfe74b4d4a"
      },
      "execution_count": 108,
      "outputs": [
        {
          "output_type": "display_data",
          "data": {
            "text/plain": [
              "<Figure size 640x480 with 1 Axes>"
            ],
            "image/png": "[encoded data removed]"
          },
          "metadata": {}
        }
      ]
    },
    {
      "cell_type": "code",
      "source": [
        "# X_pca[:, 0] son los valores en el eje x\n",
        "\n",
        "# X_pca[:, 1] son los valores en el eje y\n",
        "\n",
        "# labels1 son las etiquetas de los grupos\n",
        "\n",
        "# Crea el gráfico de dispersión con colores según las etiquetas\n",
        "plt.scatter(X_pca[:, 0], X_pca[:, 1], c=etiquetas)\n",
        "\n",
        "\n",
        "# Crea una leyenda o mapa de colores\n",
        "plt.colorbar()\n",
        "\n",
        "# Etiqueta cada punto con el índice de la fila correspondiente\n",
        "for i, label in enumerate(etiquetas):\n",
        "    plt.annotate(i, (X_pca[i, 0], X_pca[i, 1]),size=6)\n",
        "\n",
        "\n",
        "# Muestra el gráfico\n",
        "plt.show()"
      ],
      "metadata": {
        "colab": {
          "base_uri": "https://localhost:8080/",
          "height": 435
        },
        "id": "VEqqeEUVdrTh",
        "outputId": "eb97a4a5-6bd5-41cf-ce0d-c3b5def72be0"
      },
      "execution_count": 109,
      "outputs": [
        {
          "output_type": "display_data",
          "data": {
            "text/plain": [
              "<Figure size 640x480 with 2 Axes>"
            ],
            "image/png": "[encoded data removed]"
          },
          "metadata": {}
        }
      ]
    },
    {
      "cell_type": "code",
      "source": [
        "# Aplicar PCA al conjunto de datos\n",
        "pca = PCA()\n",
        "pca.fit(data_processed)\n",
        "\n",
        "# Obtener las componentes principales y su varianza explicada\n",
        "components = pca.components_\n",
        "explained_variance = pca.explained_variance_ratio_\n",
        "\n",
        "# Obtener los índices de los atributos más importantes para cada clúster\n",
        "important_attributes = []\n",
        "for cluster in range(modelAC.n_clusters):\n",
        "    cluster_indices = np.where(etiquetas == cluster)[0]\n",
        "    cluster_data = data_processed.iloc[cluster_indices]\n",
        "    cluster_scores = np.mean(cluster_data.dot(components.T), axis=0)\n",
        "    important_attributes.append(np.argsort(-np.abs(cluster_scores)))\n",
        "\n",
        "# Nombres de los campos\n",
        "column_names = data_processed.columns.tolist()\n",
        "\n",
        "# Imprimir los atributos más importantes por clúster\n",
        "for cluster, attributes in enumerate(important_attributes):\n",
        "    print(f\"Cluster {cluster}:\" )\n",
        "    for attribute in attributes[:7]:  # Mostrar los 5 atributos más importantes\n",
        "        attribute_name = column_names[attribute]\n",
        "        attribute_mean = np.mean(data_processed.iloc[np.where(etiquetas == cluster)[0], attribute])\n",
        "        print(f\"- Atributo n. {attribute+1}: {attribute_name} (Media: {attribute_mean})\")\n",
        "\n"
      ],
      "metadata": {
        "colab": {
          "base_uri": "https://localhost:8080/"
        },
        "id": "fDvb88Q2yqlf",
        "outputId": "d8e5e63e-7a7f-4881-fff9-b07645befc11"
      },
      "execution_count": 110,
      "outputs": [
        {
          "output_type": "stream",
          "name": "stdout",
          "text": [
            "Cluster 0:\n",
            "- Atributo n. 1: V_media (Media: 4.062841530054645)\n",
            "- Atributo n. 4: SP_media (Media: 2.48224043715847)\n",
            "- Atributo n. 11: CJ_media (Media: 2.912568306010929)\n",
            "- Atributo n. 2: SA_media (Media: 4.213114754098361)\n",
            "- Atributo n. 3: SI_media (Media: 4.147540983606557)\n",
            "- Atributo n. 8: CE_media (Media: 3.878415300546448)\n",
            "- Atributo n. 15: LA_media (Media: 4.027868852459017)\n",
            "Cluster 1:\n",
            "- Atributo n. 4: SP_media (Media: -1.0)\n",
            "- Atributo n. 3: SI_media (Media: -1.0)\n",
            "- Atributo n. 5: SF_media (Media: -1.0)\n",
            "- Atributo n. 2: SA_media (Media: -1.0)\n",
            "- Atributo n. 15: LA_media (Media: -1.0)\n",
            "- Atributo n. 6: CL_media (Media: 4.666666666666667)\n",
            "- Atributo n. 13: CI_media (Media: -1.0)\n",
            "Cluster 2:\n",
            "- Atributo n. 2: SA_media (Media: 4.222222222222222)\n",
            "- Atributo n. 4: SP_media (Media: 4.0)\n",
            "- Atributo n. 7: CH_media (Media: 3.7777777777777772)\n",
            "- Atributo n. 11: CJ_media (Media: -1.0)\n",
            "- Atributo n. 3: SI_media (Media: 5.222222222222222)\n",
            "- Atributo n. 8: CE_media (Media: 3.444444444444444)\n",
            "- Atributo n. 29: AREA_qezlrbomit (Media: 0.3333333333333333)\n",
            "Cluster 3:\n",
            "- Atributo n. 1: V_media (Media: -1.0)\n",
            "- Atributo n. 2: SA_media (Media: -1.0)\n",
            "- Atributo n. 3: SI_media (Media: -1.0)\n",
            "- Atributo n. 4: SP_media (Media: -1.0)\n",
            "- Atributo n. 7: CH_media (Media: -1.0)\n",
            "- Atributo n. 6: CL_media (Media: -1.0)\n",
            "- Atributo n. 9: CB_media (Media: -1.0)\n",
            "Cluster 4:\n",
            "- Atributo n. 1: V_media (Media: 4.0)\n",
            "- Atributo n. 8: CE_media (Media: 4.0)\n",
            "- Atributo n. 3: SI_media (Media: -1.0)\n",
            "- Atributo n. 5: SF_media (Media: -1.0)\n",
            "- Atributo n. 4: SP_media (Media: -1.0)\n",
            "- Atributo n. 2: SA_media (Media: -1.0)\n",
            "- Atributo n. 15: LA_media (Media: 5.0)\n",
            "Cluster 5:\n",
            "- Atributo n. 4: SP_media (Media: 1.0)\n",
            "- Atributo n. 11: CJ_media (Media: 3.333333333333333)\n",
            "- Atributo n. 7: CH_media (Media: 4.333333333333333)\n",
            "- Atributo n. 2: SA_media (Media: 3.333333333333333)\n",
            "- Atributo n. 6: CL_media (Media: 3.6666666666666665)\n",
            "- Atributo n. 1: V_media (Media: 4.666666666666667)\n",
            "- Atributo n. 5: SF_media (Media: 2.0)\n",
            "Cluster 6:\n",
            "- Atributo n. 2: SA_media (Media: 4.083333333333333)\n",
            "- Atributo n. 11: CJ_media (Media: -1.0)\n",
            "- Atributo n. 3: SI_media (Media: 4.625)\n",
            "- Atributo n. 1: V_media (Media: 4.5)\n",
            "- Atributo n. 15: LA_media (Media: -1.0)\n",
            "- Atributo n. 8: CE_media (Media: -1.0)\n",
            "- Atributo n. 6: CL_media (Media: -1.0)\n"
          ]
        }
      ]
    },
    {
      "cell_type": "code",
      "source": [
        "# Calcular el índice de silueta\n",
        "silhouette_avg = silhouette_score(data_processed, etiquetas)\n",
        "print(f\"Índice de Silueta Promedio: {silhouette_avg}\")"
      ],
      "metadata": {
        "colab": {
          "base_uri": "https://localhost:8080/"
        },
        "id": "vTL2QyM5DiFD",
        "outputId": "10de285b-90fb-4c25-e02d-17ad4df2d597"
      },
      "execution_count": 111,
      "outputs": [
        {
          "output_type": "stream",
          "name": "stdout",
          "text": [
            "Índice de Silueta Promedio: 0.4406546227584394\n"
          ]
        }
      ]
    },
    {
      "cell_type": "code",
      "source": [
        "# Calcular el índice de silueta para cada muestra\n",
        "silhouette_values = silhouette_samples(data_processed, etiquetas)\n",
        "\n",
        "# Calcular el índice de silueta individual promedio para cada clúster\n",
        "cluster_indices = sorted(set(etiquetas))\n",
        "for cluster_idx in cluster_indices:\n",
        "    # Obtener las muestras pertenecientes al clúster actual\n",
        "    cluster_samples = silhouette_values[etiquetas == cluster_idx]\n",
        "    cluster_avg_silhouette = cluster_samples.mean()\n",
        "    print(f\"Índice de Silueta del Clúster {cluster_idx}: {cluster_avg_silhouette}\")"
      ],
      "metadata": {
        "colab": {
          "base_uri": "https://localhost:8080/"
        },
        "id": "bBzRtZraDh0o",
        "outputId": "0a174037-1a3f-437b-af32-8a6c84dbddbd"
      },
      "execution_count": 112,
      "outputs": [
        {
          "output_type": "stream",
          "name": "stdout",
          "text": [
            "Índice de Silueta del Clúster 0: 0.44291718865232094\n",
            "Índice de Silueta del Clúster 1: 0.0\n",
            "Índice de Silueta del Clúster 2: 0.540243168459707\n",
            "Índice de Silueta del Clúster 3: 0.0\n",
            "Índice de Silueta del Clúster 4: 0.0\n",
            "Índice de Silueta del Clúster 5: 0.0\n",
            "Índice de Silueta del Clúster 6: 0.7376095764775438\n"
          ]
        }
      ]
    },
    {
      "cell_type": "code",
      "source": [
        "#modelFA=FeatureAgglomeration(n_clusters=5)"
      ],
      "metadata": {
        "id": "DmsZThR8WDQT"
      },
      "execution_count": 113,
      "outputs": []
    }
  ]
}