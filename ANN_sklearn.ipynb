{
  "nbformat": 4,
  "nbformat_minor": 0,
  "metadata": {
    "colab": {
      "provenance": [],
      "include_colab_link": true
    },
    "kernelspec": {
      "name": "python3",
      "display_name": "Python 3"
    },
    "language_info": {
      "name": "python"
    }
  },
  "cells": [
    {
      "cell_type": "markdown",
      "metadata": {
        "id": "view-in-github",
        "colab_type": "text"
      },
      "source": [
        "<a href=\"https://colab.research.google.com/github/mbaroja/TFM/blob/code/ANN_sklearn.ipynb\" target=\"_parent\"><img src=\"https://colab.research.google.com/assets/colab-badge.svg\" alt=\"Open In Colab\"/></a>"
      ]
    },
    {
      "cell_type": "markdown",
      "source": [
        "# **ANN - Redes neuronales artificiales**\n"
      ],
      "metadata": {
        "id": "tdU1nzaOpwSK"
      }
    },
    {
      "cell_type": "markdown",
      "source": [
        "# **Librerías**"
      ],
      "metadata": {
        "id": "322JlTqrL7wT"
      }
    },
    {
      "cell_type": "code",
      "execution_count": null,
      "metadata": {
        "id": "4aVUWwrMHy_Z"
      },
      "outputs": [],
      "source": [
        "# Tratamiento de datos\n",
        "import numpy as np\n",
        "import pandas as pd\n",
        "# Gráficos\n",
        "import matplotlib.pyplot as plt\n",
        "import seaborn as sns\n",
        "# Modelado\n",
        "from sklearn.neural_network import MLPClassifier\n",
        "from sklearn.model_selection import train_test_split\n",
        "# Evaluación\n",
        "from sklearn.metrics import accuracy_score\n",
        "from sklearn.metrics import roc_curve, roc_auc_score\n",
        "from sklearn.metrics import confusion_matrix            # matriz de confusión\n",
        "from sklearn.metrics import classification_report       # evaluación  Accuracy/Precision/Recall/F1 Score\n",
        "from sklearn.metrics import ConfusionMatrixDisplay      # matriz de confusión para mapa de calor\n",
        "#############\n",
        "from sklearn.model_selection import RandomizedSearchCV\n",
        "from sklearn.model_selection import GridSearchCV\n",
        "from sklearn.model_selection import KFold\n",
        "import multiprocessing\n",
        "\n",
        "#Validación cruzada\n",
        "from sklearn.model_selection import KFold\n",
        "from sklearn.model_selection import cross_val_score"
      ]
    },
    {
      "cell_type": "markdown",
      "source": [
        "**Clasificador perceptrón multicapa en Scikit-learn**\n",
        "\n",
        "Este modelo optimiza la función de pérdida de registro utilizando LBFGS o descenso de gradiente estocástico.\n",
        "\n",
        "*class sklearn.neural_network.MLPClassifier(hidden_layer_sizes=(100,), activation='relu', *, solver='adam', alpha=0.0001, batch_size='auto', learning_rate='constant', learning_rate_init=0.001, power_t=0.5, max_iter=200, shuffle=True, random_state=None, tol=0.0001, verbose=False, warm_start=False, momentum=0.9, nesterovs_momentum=True, early_stopping=False, validation_fraction=0.1, beta_1=0.9, beta_2=0.999, epsilon=1e-08, n_iter_no_change=10, max_fun=15000)*\n",
        "\n",
        "* **solver = lbfgs** converge más rápido en datasets pequeños y puede conseguir mejores resultados"
      ],
      "metadata": {
        "id": "O0DkNOCUtx1T"
      }
    },
    {
      "cell_type": "markdown",
      "source": [
        "# **Datos**\n",
        "Datos obtenidos del clustering"
      ],
      "metadata": {
        "id": "TIyOJU56MFjL"
      }
    },
    {
      "cell_type": "code",
      "source": [
        "data = pd.read_csv('https://raw.githubusercontent.com/mbaroja/TFM/data/AgglomerativeClustering_withclusters.csv', delimiter=';')"
      ],
      "metadata": {
        "id": "8__Ta4ELIFxb"
      },
      "execution_count": null,
      "outputs": []
    },
    {
      "cell_type": "code",
      "source": [
        "data"
      ],
      "metadata": {
        "colab": {
          "base_uri": "https://localhost:8080/",
          "height": 505
        },
        "id": "JQU8rf8LElFb",
        "outputId": "5de9cfa0-0934-4482-cbf4-e358de9f9500"
      },
      "execution_count": null,
      "outputs": [
        {
          "output_type": "execute_result",
          "data": {
            "text/plain": [
              "      V_media  SA_media  SI_media  SP_media  SF_media  CL_media  CH_media  \\\n",
              "0    4.333333  5.000000  4.666667  3.000000  4.000000  5.000000  4.000000   \n",
              "1    4.000000  5.000000  5.000000  2.000000  4.666667  5.000000  5.333333   \n",
              "2    4.666667  4.000000  4.666667  3.000000  4.333333  5.000000  5.000000   \n",
              "3    5.000000  5.000000  5.000000  4.000000  4.000000  4.666667  4.666667   \n",
              "4    2.000000  1.000000  4.666667  1.000000  1.000000  1.000000  1.333333   \n",
              "..        ...       ...       ...       ...       ...       ...       ...   \n",
              "128  4.000000  4.666667  3.333333  2.000000  2.000000  5.000000  4.000000   \n",
              "129  3.000000  4.333333  4.333333  1.333333  2.000000  4.666667  2.000000   \n",
              "130 -1.000000 -1.000000 -1.000000 -1.000000 -1.000000  4.666667  3.000000   \n",
              "131  5.000000  5.000000  5.000000  5.000000  5.000000  5.000000  5.000000   \n",
              "132  5.333333  5.000000  5.333333  5.333333  5.000000  4.333333  4.666667   \n",
              "\n",
              "     CE_media  CB_media  CD_media  ...  EQUIPO_rflidbinih  EDAD_ijawrgtfuz  \\\n",
              "0    4.333333  3.666667  5.000000  ...                  0                0   \n",
              "1    6.000000  4.333333  4.000000  ...                  0                0   \n",
              "2    5.000000  3.333333  2.333333  ...                  0                0   \n",
              "3    4.666667  4.666667  3.666667  ...                  0                0   \n",
              "4    2.000000  4.000000  5.000000  ...                  0                0   \n",
              "..        ...       ...       ...  ...                ...              ...   \n",
              "128  4.333333  3.000000  2.333333  ...                  0                0   \n",
              "129  3.333333  3.333333  4.333333  ...                  0                0   \n",
              "130  3.666667  3.000000  3.000000  ...                  0                0   \n",
              "131  5.000000  5.000000  5.000000  ...                  0                0   \n",
              "132  5.000000  3.000000  3.333333  ...                  0                0   \n",
              "\n",
              "     EDAD_omygfsbzgq  EDAD_pqgwhrmfdu  EDAD_qmsudmubli  EDAD_vjekcogdhn  \\\n",
              "0                  0                1                0                0   \n",
              "1                  0                1                0                0   \n",
              "2                  1                0                0                0   \n",
              "3                  0                1                0                0   \n",
              "4                  0                1                0                0   \n",
              "..               ...              ...              ...              ...   \n",
              "128                0                0                1                0   \n",
              "129                0                0                1                0   \n",
              "130                0                0                1                0   \n",
              "131                0                0                1                0   \n",
              "132                0                0                1                0   \n",
              "\n",
              "     GENERO_Femenino  GENERO_Masculino  GENERO_No binario  Cluster  \n",
              "0                  0                 1                  0        1  \n",
              "1                  0                 1                  0        1  \n",
              "2                  1                 0                  0        1  \n",
              "3                  0                 1                  0        4  \n",
              "4                  0                 1                  0        0  \n",
              "..               ...               ...                ...      ...  \n",
              "128                0                 0                  0        4  \n",
              "129                0                 0                  0        0  \n",
              "130                0                 0                  0        5  \n",
              "131                0                 0                  0        1  \n",
              "132                0                 0                  0        1  \n",
              "\n",
              "[133 rows x 46 columns]"
            ],
            "text/html": [
              "\n",
              "  <div id=\"df-c86407a7-9967-40f3-951d-0a5817a2e5af\">\n",
              "    <div class=\"colab-df-container\">\n",
              "      <div>\n",
              "<style scoped>\n",
              "    .dataframe tbody tr th:only-of-type {\n",
              "        vertical-align: middle;\n",
              "    }\n",
              "\n",
              "    .dataframe tbody tr th {\n",
              "        vertical-align: top;\n",
              "    }\n",
              "\n",
              "    .dataframe thead th {\n",
              "        text-align: right;\n",
              "    }\n",
              "</style>\n",
              "<table border=\"1\" class=\"dataframe\">\n",
              "  <thead>\n",
              "    <tr style=\"text-align: right;\">\n",
              "      <th></th>\n",
              "      <th>V_media</th>\n",
              "      <th>SA_media</th>\n",
              "      <th>SI_media</th>\n",
              "      <th>SP_media</th>\n",
              "      <th>SF_media</th>\n",
              "      <th>CL_media</th>\n",
              "      <th>CH_media</th>\n",
              "      <th>CE_media</th>\n",
              "      <th>CB_media</th>\n",
              "      <th>CD_media</th>\n",
              "      <th>...</th>\n",
              "      <th>EQUIPO_rflidbinih</th>\n",
              "      <th>EDAD_ijawrgtfuz</th>\n",
              "      <th>EDAD_omygfsbzgq</th>\n",
              "      <th>EDAD_pqgwhrmfdu</th>\n",
              "      <th>EDAD_qmsudmubli</th>\n",
              "      <th>EDAD_vjekcogdhn</th>\n",
              "      <th>GENERO_Femenino</th>\n",
              "      <th>GENERO_Masculino</th>\n",
              "      <th>GENERO_No binario</th>\n",
              "      <th>Cluster</th>\n",
              "    </tr>\n",
              "  </thead>\n",
              "  <tbody>\n",
              "    <tr>\n",
              "      <th>0</th>\n",
              "      <td>4.333333</td>\n",
              "      <td>5.000000</td>\n",
              "      <td>4.666667</td>\n",
              "      <td>3.000000</td>\n",
              "      <td>4.000000</td>\n",
              "      <td>5.000000</td>\n",
              "      <td>4.000000</td>\n",
              "      <td>4.333333</td>\n",
              "      <td>3.666667</td>\n",
              "      <td>5.000000</td>\n",
              "      <td>...</td>\n",
              "      <td>0</td>\n",
              "      <td>0</td>\n",
              "      <td>0</td>\n",
              "      <td>1</td>\n",
              "      <td>0</td>\n",
              "      <td>0</td>\n",
              "      <td>0</td>\n",
              "      <td>1</td>\n",
              "      <td>0</td>\n",
              "      <td>1</td>\n",
              "    </tr>\n",
              "    <tr>\n",
              "      <th>1</th>\n",
              "      <td>4.000000</td>\n",
              "      <td>5.000000</td>\n",
              "      <td>5.000000</td>\n",
              "      <td>2.000000</td>\n",
              "      <td>4.666667</td>\n",
              "      <td>5.000000</td>\n",
              "      <td>5.333333</td>\n",
              "      <td>6.000000</td>\n",
              "      <td>4.333333</td>\n",
              "      <td>4.000000</td>\n",
              "      <td>...</td>\n",
              "      <td>0</td>\n",
              "      <td>0</td>\n",
              "      <td>0</td>\n",
              "      <td>1</td>\n",
              "      <td>0</td>\n",
              "      <td>0</td>\n",
              "      <td>0</td>\n",
              "      <td>1</td>\n",
              "      <td>0</td>\n",
              "      <td>1</td>\n",
              "    </tr>\n",
              "    <tr>\n",
              "      <th>2</th>\n",
              "      <td>4.666667</td>\n",
              "      <td>4.000000</td>\n",
              "      <td>4.666667</td>\n",
              "      <td>3.000000</td>\n",
              "      <td>4.333333</td>\n",
              "      <td>5.000000</td>\n",
              "      <td>5.000000</td>\n",
              "      <td>5.000000</td>\n",
              "      <td>3.333333</td>\n",
              "      <td>2.333333</td>\n",
              "      <td>...</td>\n",
              "      <td>0</td>\n",
              "      <td>0</td>\n",
              "      <td>1</td>\n",
              "      <td>0</td>\n",
              "      <td>0</td>\n",
              "      <td>0</td>\n",
              "      <td>1</td>\n",
              "      <td>0</td>\n",
              "      <td>0</td>\n",
              "      <td>1</td>\n",
              "    </tr>\n",
              "    <tr>\n",
              "      <th>3</th>\n",
              "      <td>5.000000</td>\n",
              "      <td>5.000000</td>\n",
              "      <td>5.000000</td>\n",
              "      <td>4.000000</td>\n",
              "      <td>4.000000</td>\n",
              "      <td>4.666667</td>\n",
              "      <td>4.666667</td>\n",
              "      <td>4.666667</td>\n",
              "      <td>4.666667</td>\n",
              "      <td>3.666667</td>\n",
              "      <td>...</td>\n",
              "      <td>0</td>\n",
              "      <td>0</td>\n",
              "      <td>0</td>\n",
              "      <td>1</td>\n",
              "      <td>0</td>\n",
              "      <td>0</td>\n",
              "      <td>0</td>\n",
              "      <td>1</td>\n",
              "      <td>0</td>\n",
              "      <td>4</td>\n",
              "    </tr>\n",
              "    <tr>\n",
              "      <th>4</th>\n",
              "      <td>2.000000</td>\n",
              "      <td>1.000000</td>\n",
              "      <td>4.666667</td>\n",
              "      <td>1.000000</td>\n",
              "      <td>1.000000</td>\n",
              "      <td>1.000000</td>\n",
              "      <td>1.333333</td>\n",
              "      <td>2.000000</td>\n",
              "      <td>4.000000</td>\n",
              "      <td>5.000000</td>\n",
              "      <td>...</td>\n",
              "      <td>0</td>\n",
              "      <td>0</td>\n",
              "      <td>0</td>\n",
              "      <td>1</td>\n",
              "      <td>0</td>\n",
              "      <td>0</td>\n",
              "      <td>0</td>\n",
              "      <td>1</td>\n",
              "      <td>0</td>\n",
              "      <td>0</td>\n",
              "    </tr>\n",
              "    <tr>\n",
              "      <th>...</th>\n",
              "      <td>...</td>\n",
              "      <td>...</td>\n",
              "      <td>...</td>\n",
              "      <td>...</td>\n",
              "      <td>...</td>\n",
              "      <td>...</td>\n",
              "      <td>...</td>\n",
              "      <td>...</td>\n",
              "      <td>...</td>\n",
              "      <td>...</td>\n",
              "      <td>...</td>\n",
              "      <td>...</td>\n",
              "      <td>...</td>\n",
              "      <td>...</td>\n",
              "      <td>...</td>\n",
              "      <td>...</td>\n",
              "      <td>...</td>\n",
              "      <td>...</td>\n",
              "      <td>...</td>\n",
              "      <td>...</td>\n",
              "      <td>...</td>\n",
              "    </tr>\n",
              "    <tr>\n",
              "      <th>128</th>\n",
              "      <td>4.000000</td>\n",
              "      <td>4.666667</td>\n",
              "      <td>3.333333</td>\n",
              "      <td>2.000000</td>\n",
              "      <td>2.000000</td>\n",
              "      <td>5.000000</td>\n",
              "      <td>4.000000</td>\n",
              "      <td>4.333333</td>\n",
              "      <td>3.000000</td>\n",
              "      <td>2.333333</td>\n",
              "      <td>...</td>\n",
              "      <td>0</td>\n",
              "      <td>0</td>\n",
              "      <td>0</td>\n",
              "      <td>0</td>\n",
              "      <td>1</td>\n",
              "      <td>0</td>\n",
              "      <td>0</td>\n",
              "      <td>0</td>\n",
              "      <td>0</td>\n",
              "      <td>4</td>\n",
              "    </tr>\n",
              "    <tr>\n",
              "      <th>129</th>\n",
              "      <td>3.000000</td>\n",
              "      <td>4.333333</td>\n",
              "      <td>4.333333</td>\n",
              "      <td>1.333333</td>\n",
              "      <td>2.000000</td>\n",
              "      <td>4.666667</td>\n",
              "      <td>2.000000</td>\n",
              "      <td>3.333333</td>\n",
              "      <td>3.333333</td>\n",
              "      <td>4.333333</td>\n",
              "      <td>...</td>\n",
              "      <td>0</td>\n",
              "      <td>0</td>\n",
              "      <td>0</td>\n",
              "      <td>0</td>\n",
              "      <td>1</td>\n",
              "      <td>0</td>\n",
              "      <td>0</td>\n",
              "      <td>0</td>\n",
              "      <td>0</td>\n",
              "      <td>0</td>\n",
              "    </tr>\n",
              "    <tr>\n",
              "      <th>130</th>\n",
              "      <td>-1.000000</td>\n",
              "      <td>-1.000000</td>\n",
              "      <td>-1.000000</td>\n",
              "      <td>-1.000000</td>\n",
              "      <td>-1.000000</td>\n",
              "      <td>4.666667</td>\n",
              "      <td>3.000000</td>\n",
              "      <td>3.666667</td>\n",
              "      <td>3.000000</td>\n",
              "      <td>3.000000</td>\n",
              "      <td>...</td>\n",
              "      <td>0</td>\n",
              "      <td>0</td>\n",
              "      <td>0</td>\n",
              "      <td>0</td>\n",
              "      <td>1</td>\n",
              "      <td>0</td>\n",
              "      <td>0</td>\n",
              "      <td>0</td>\n",
              "      <td>0</td>\n",
              "      <td>5</td>\n",
              "    </tr>\n",
              "    <tr>\n",
              "      <th>131</th>\n",
              "      <td>5.000000</td>\n",
              "      <td>5.000000</td>\n",
              "      <td>5.000000</td>\n",
              "      <td>5.000000</td>\n",
              "      <td>5.000000</td>\n",
              "      <td>5.000000</td>\n",
              "      <td>5.000000</td>\n",
              "      <td>5.000000</td>\n",
              "      <td>5.000000</td>\n",
              "      <td>5.000000</td>\n",
              "      <td>...</td>\n",
              "      <td>0</td>\n",
              "      <td>0</td>\n",
              "      <td>0</td>\n",
              "      <td>0</td>\n",
              "      <td>1</td>\n",
              "      <td>0</td>\n",
              "      <td>0</td>\n",
              "      <td>0</td>\n",
              "      <td>0</td>\n",
              "      <td>1</td>\n",
              "    </tr>\n",
              "    <tr>\n",
              "      <th>132</th>\n",
              "      <td>5.333333</td>\n",
              "      <td>5.000000</td>\n",
              "      <td>5.333333</td>\n",
              "      <td>5.333333</td>\n",
              "      <td>5.000000</td>\n",
              "      <td>4.333333</td>\n",
              "      <td>4.666667</td>\n",
              "      <td>5.000000</td>\n",
              "      <td>3.000000</td>\n",
              "      <td>3.333333</td>\n",
              "      <td>...</td>\n",
              "      <td>0</td>\n",
              "      <td>0</td>\n",
              "      <td>0</td>\n",
              "      <td>0</td>\n",
              "      <td>1</td>\n",
              "      <td>0</td>\n",
              "      <td>0</td>\n",
              "      <td>0</td>\n",
              "      <td>0</td>\n",
              "      <td>1</td>\n",
              "    </tr>\n",
              "  </tbody>\n",
              "</table>\n",
              "<p>133 rows × 46 columns</p>\n",
              "</div>\n",
              "      <button class=\"colab-df-convert\" onclick=\"convertToInteractive('df-c86407a7-9967-40f3-951d-0a5817a2e5af')\"\n",
              "              title=\"Convert this dataframe to an interactive table.\"\n",
              "              style=\"display:none;\">\n",
              "        \n",
              "  <svg xmlns=\"http://www.w3.org/2000/svg\" height=\"24px\"viewBox=\"0 0 24 24\"\n",
              "       width=\"24px\">\n",
              "    <path d=\"M0 0h24v24H0V0z\" fill=\"none\"/>\n",
              "    <path d=\"M18.56 5.44l.94 2.06.94-2.06 2.06-.94-2.06-.94-.94-2.06-.94 2.06-2.06.94zm-11 1L8.5 8.5l.94-2.06 2.06-.94-2.06-.94L8.5 2.5l-.94 2.06-2.06.94zm10 10l.94 2.06.94-2.06 2.06-.94-2.06-.94-.94-2.06-.94 2.06-2.06.94z\"/><path d=\"M17.41 7.96l-1.37-1.37c-.4-.4-.92-.59-1.43-.59-.52 0-1.04.2-1.43.59L10.3 9.45l-7.72 7.72c-.78.78-.78 2.05 0 2.83L4 21.41c.39.39.9.59 1.41.59.51 0 1.02-.2 1.41-.59l7.78-7.78 2.81-2.81c.8-.78.8-2.07 0-2.86zM5.41 20L4 18.59l7.72-7.72 1.47 1.35L5.41 20z\"/>\n",
              "  </svg>\n",
              "      </button>\n",
              "      \n",
              "  <style>\n",
              "    .colab-df-container {\n",
              "      display:flex;\n",
              "      flex-wrap:wrap;\n",
              "      gap: 12px;\n",
              "    }\n",
              "\n",
              "    .colab-df-convert {\n",
              "      background-color: #E8F0FE;\n",
              "      border: none;\n",
              "      border-radius: 50%;\n",
              "      cursor: pointer;\n",
              "      display: none;\n",
              "      fill: #1967D2;\n",
              "      height: 32px;\n",
              "      padding: 0 0 0 0;\n",
              "      width: 32px;\n",
              "    }\n",
              "\n",
              "    .colab-df-convert:hover {\n",
              "      background-color: #E2EBFA;\n",
              "      box-shadow: 0px 1px 2px rgba(60, 64, 67, 0.3), 0px 1px 3px 1px rgba(60, 64, 67, 0.15);\n",
              "      fill: #174EA6;\n",
              "    }\n",
              "\n",
              "    [theme=dark] .colab-df-convert {\n",
              "      background-color: #3B4455;\n",
              "      fill: #D2E3FC;\n",
              "    }\n",
              "\n",
              "    [theme=dark] .colab-df-convert:hover {\n",
              "      background-color: #434B5C;\n",
              "      box-shadow: 0px 1px 3px 1px rgba(0, 0, 0, 0.15);\n",
              "      filter: drop-shadow(0px 1px 2px rgba(0, 0, 0, 0.3));\n",
              "      fill: #FFFFFF;\n",
              "    }\n",
              "  </style>\n",
              "\n",
              "      <script>\n",
              "        const buttonEl =\n",
              "          document.querySelector('#df-c86407a7-9967-40f3-951d-0a5817a2e5af button.colab-df-convert');\n",
              "        buttonEl.style.display =\n",
              "          google.colab.kernel.accessAllowed ? 'block' : 'none';\n",
              "\n",
              "        async function convertToInteractive(key) {\n",
              "          const element = document.querySelector('#df-c86407a7-9967-40f3-951d-0a5817a2e5af');\n",
              "          const dataTable =\n",
              "            await google.colab.kernel.invokeFunction('convertToInteractive',\n",
              "                                                     [key], {});\n",
              "          if (!dataTable) return;\n",
              "\n",
              "          const docLinkHtml = 'Like what you see? Visit the ' +\n",
              "            '<a target=\"_blank\" href=https://colab.research.google.com/notebooks/data_table.ipynb>data table notebook</a>'\n",
              "            + ' to learn more about interactive tables.';\n",
              "          element.innerHTML = '';\n",
              "          dataTable['output_type'] = 'display_data';\n",
              "          await google.colab.output.renderOutput(dataTable, element);\n",
              "          const docLink = document.createElement('div');\n",
              "          docLink.innerHTML = docLinkHtml;\n",
              "          element.appendChild(docLink);\n",
              "        }\n",
              "      </script>\n",
              "    </div>\n",
              "  </div>\n",
              "  "
            ]
          },
          "metadata": {},
          "execution_count": 4
        }
      ]
    },
    {
      "cell_type": "code",
      "source": [
        "data.describe"
      ],
      "metadata": {
        "colab": {
          "base_uri": "https://localhost:8080/"
        },
        "id": "T_Io5kJhErJc",
        "outputId": "5bfe85b9-ba70-4dc1-dff1-6e3f3bba11fe"
      },
      "execution_count": null,
      "outputs": [
        {
          "output_type": "execute_result",
          "data": {
            "text/plain": [
              "<bound method NDFrame.describe of       V_media  SA_media  SI_media  SP_media  SF_media  CL_media  CH_media  \\\n",
              "0    4.333333  5.000000  4.666667  3.000000  4.000000  5.000000  4.000000   \n",
              "1    4.000000  5.000000  5.000000  2.000000  4.666667  5.000000  5.333333   \n",
              "2    4.666667  4.000000  4.666667  3.000000  4.333333  5.000000  5.000000   \n",
              "3    5.000000  5.000000  5.000000  4.000000  4.000000  4.666667  4.666667   \n",
              "4    2.000000  1.000000  4.666667  1.000000  1.000000  1.000000  1.333333   \n",
              "..        ...       ...       ...       ...       ...       ...       ...   \n",
              "128  4.000000  4.666667  3.333333  2.000000  2.000000  5.000000  4.000000   \n",
              "129  3.000000  4.333333  4.333333  1.333333  2.000000  4.666667  2.000000   \n",
              "130 -1.000000 -1.000000 -1.000000 -1.000000 -1.000000  4.666667  3.000000   \n",
              "131  5.000000  5.000000  5.000000  5.000000  5.000000  5.000000  5.000000   \n",
              "132  5.333333  5.000000  5.333333  5.333333  5.000000  4.333333  4.666667   \n",
              "\n",
              "     CE_media  CB_media  CD_media  ...  EQUIPO_rflidbinih  EDAD_ijawrgtfuz  \\\n",
              "0    4.333333  3.666667  5.000000  ...                  0                0   \n",
              "1    6.000000  4.333333  4.000000  ...                  0                0   \n",
              "2    5.000000  3.333333  2.333333  ...                  0                0   \n",
              "3    4.666667  4.666667  3.666667  ...                  0                0   \n",
              "4    2.000000  4.000000  5.000000  ...                  0                0   \n",
              "..        ...       ...       ...  ...                ...              ...   \n",
              "128  4.333333  3.000000  2.333333  ...                  0                0   \n",
              "129  3.333333  3.333333  4.333333  ...                  0                0   \n",
              "130  3.666667  3.000000  3.000000  ...                  0                0   \n",
              "131  5.000000  5.000000  5.000000  ...                  0                0   \n",
              "132  5.000000  3.000000  3.333333  ...                  0                0   \n",
              "\n",
              "     EDAD_omygfsbzgq  EDAD_pqgwhrmfdu  EDAD_qmsudmubli  EDAD_vjekcogdhn  \\\n",
              "0                  0                1                0                0   \n",
              "1                  0                1                0                0   \n",
              "2                  1                0                0                0   \n",
              "3                  0                1                0                0   \n",
              "4                  0                1                0                0   \n",
              "..               ...              ...              ...              ...   \n",
              "128                0                0                1                0   \n",
              "129                0                0                1                0   \n",
              "130                0                0                1                0   \n",
              "131                0                0                1                0   \n",
              "132                0                0                1                0   \n",
              "\n",
              "     GENERO_Femenino  GENERO_Masculino  GENERO_No binario  Cluster  \n",
              "0                  0                 1                  0        1  \n",
              "1                  0                 1                  0        1  \n",
              "2                  1                 0                  0        1  \n",
              "3                  0                 1                  0        4  \n",
              "4                  0                 1                  0        0  \n",
              "..               ...               ...                ...      ...  \n",
              "128                0                 0                  0        4  \n",
              "129                0                 0                  0        0  \n",
              "130                0                 0                  0        5  \n",
              "131                0                 0                  0        1  \n",
              "132                0                 0                  0        1  \n",
              "\n",
              "[133 rows x 46 columns]>"
            ]
          },
          "metadata": {},
          "execution_count": 5
        }
      ]
    },
    {
      "cell_type": "markdown",
      "source": [
        "# **MLPClassifier**"
      ],
      "metadata": {
        "id": "abnSgLUi1Iaf"
      }
    },
    {
      "cell_type": "code",
      "source": [
        "# Dividir los datos en características (X) y etiquetas (y)\n",
        "X = data.drop('Cluster', axis=1)  # nombre de la columna objetivo, en este caso AREA\n",
        "y = data['Cluster']\n",
        "\n",
        "etiquetas=np.unique(y)\n",
        "\n",
        "# Dividir los datos en conjuntos de entrenamiento y prueba\n",
        "X_train, X_test, y_train, y_test = train_test_split(X, y, test_size=0.2, random_state=42)"
      ],
      "metadata": {
        "id": "yxPpNhwoy3bc"
      },
      "execution_count": null,
      "outputs": []
    },
    {
      "cell_type": "markdown",
      "source": [
        "# **Modelos**\n",
        "\n",
        "\n",
        "\n"
      ],
      "metadata": {
        "id": "NMWHtkZKMOHq"
      }
    },
    {
      "cell_type": "code",
      "source": [
        "# Creación de los modelos\n",
        "MLP_1 = MLPClassifier(hidden_layer_sizes=(512,512), solver = 'lbfgs', max_iter = 1000, random_state = 42)\n",
        "#MLP_2 = MLPClassifier(hidden_layer_sizes=(10), solver = 'lbfgs', max_iter = 1000, random_state = 42)\n",
        "#MLP_3 = MLPClassifier(hidden_layer_sizes=(20,20), solver = 'lbfgs', max_iter = 5000, random_state = 42)\n",
        "#MLP_4 = MLPClassifier(hidden_layer_sizes=(50,50,50), solver = 'lbfgs', max_iter = 5000, random_state = 42)\n",
        "\n",
        "# Entrenamiento\n",
        "MLP_1.fit(X_train, y_train)\n",
        "#MLP_2.fit(X_train, y_train)\n",
        "#MLP_3.fit(X_train, y_train)\n",
        "#MLP_4.fit(X_train, y_train)\n"
      ],
      "metadata": {
        "colab": {
          "base_uri": "https://localhost:8080/",
          "height": 92
        },
        "id": "wYSvqbawvbFs",
        "outputId": "b4920b51-840a-43c8-e746-77ff509ef1dd"
      },
      "execution_count": null,
      "outputs": [
        {
          "output_type": "execute_result",
          "data": {
            "text/plain": [
              "MLPClassifier(hidden_layer_sizes=(512, 512), max_iter=1000, random_state=42,\n",
              "              solver='lbfgs')"
            ],
            "text/html": [
              "<style>#sk-container-id-26 {color: black;background-color: white;}#sk-container-id-26 pre{padding: 0;}#sk-container-id-26 div.sk-toggleable {background-color: white;}#sk-container-id-26 label.sk-toggleable__label {cursor: pointer;display: block;width: 100%;margin-bottom: 0;padding: 0.3em;box-sizing: border-box;text-align: center;}#sk-container-id-26 label.sk-toggleable__label-arrow:before {content: \"▸\";float: left;margin-right: 0.25em;color: #696969;}#sk-container-id-26 label.sk-toggleable__label-arrow:hover:before {color: black;}#sk-container-id-26 div.sk-estimator:hover label.sk-toggleable__label-arrow:before {color: black;}#sk-container-id-26 div.sk-toggleable__content {max-height: 0;max-width: 0;overflow: hidden;text-align: left;background-color: #f0f8ff;}#sk-container-id-26 div.sk-toggleable__content pre {margin: 0.2em;color: black;border-radius: 0.25em;background-color: #f0f8ff;}#sk-container-id-26 input.sk-toggleable__control:checked~div.sk-toggleable__content {max-height: 200px;max-width: 100%;overflow: auto;}#sk-container-id-26 input.sk-toggleable__control:checked~label.sk-toggleable__label-arrow:before {content: \"▾\";}#sk-container-id-26 div.sk-estimator input.sk-toggleable__control:checked~label.sk-toggleable__label {background-color: #d4ebff;}#sk-container-id-26 div.sk-label input.sk-toggleable__control:checked~label.sk-toggleable__label {background-color: #d4ebff;}#sk-container-id-26 input.sk-hidden--visually {border: 0;clip: rect(1px 1px 1px 1px);clip: rect(1px, 1px, 1px, 1px);height: 1px;margin: -1px;overflow: hidden;padding: 0;position: absolute;width: 1px;}#sk-container-id-26 div.sk-estimator {font-family: monospace;background-color: #f0f8ff;border: 1px dotted black;border-radius: 0.25em;box-sizing: border-box;margin-bottom: 0.5em;}#sk-container-id-26 div.sk-estimator:hover {background-color: #d4ebff;}#sk-container-id-26 div.sk-parallel-item::after {content: \"\";width: 100%;border-bottom: 1px solid gray;flex-grow: 1;}#sk-container-id-26 div.sk-label:hover label.sk-toggleable__label {background-color: #d4ebff;}#sk-container-id-26 div.sk-serial::before {content: \"\";position: absolute;border-left: 1px solid gray;box-sizing: border-box;top: 0;bottom: 0;left: 50%;z-index: 0;}#sk-container-id-26 div.sk-serial {display: flex;flex-direction: column;align-items: center;background-color: white;padding-right: 0.2em;padding-left: 0.2em;position: relative;}#sk-container-id-26 div.sk-item {position: relative;z-index: 1;}#sk-container-id-26 div.sk-parallel {display: flex;align-items: stretch;justify-content: center;background-color: white;position: relative;}#sk-container-id-26 div.sk-item::before, #sk-container-id-26 div.sk-parallel-item::before {content: \"\";position: absolute;border-left: 1px solid gray;box-sizing: border-box;top: 0;bottom: 0;left: 50%;z-index: -1;}#sk-container-id-26 div.sk-parallel-item {display: flex;flex-direction: column;z-index: 1;position: relative;background-color: white;}#sk-container-id-26 div.sk-parallel-item:first-child::after {align-self: flex-end;width: 50%;}#sk-container-id-26 div.sk-parallel-item:last-child::after {align-self: flex-start;width: 50%;}#sk-container-id-26 div.sk-parallel-item:only-child::after {width: 0;}#sk-container-id-26 div.sk-dashed-wrapped {border: 1px dashed gray;margin: 0 0.4em 0.5em 0.4em;box-sizing: border-box;padding-bottom: 0.4em;background-color: white;}#sk-container-id-26 div.sk-label label {font-family: monospace;font-weight: bold;display: inline-block;line-height: 1.2em;}#sk-container-id-26 div.sk-label-container {text-align: center;}#sk-container-id-26 div.sk-container {/* jupyter's `normalize.less` sets `[hidden] { display: none; }` but bootstrap.min.css set `[hidden] { display: none !important; }` so we also need the `!important` here to be able to override the default hidden behavior on the sphinx rendered scikit-learn.org. See: https://github.com/scikit-learn/scikit-learn/issues/21755 */display: inline-block !important;position: relative;}#sk-container-id-26 div.sk-text-repr-fallback {display: none;}</style><div id=\"sk-container-id-26\" class=\"sk-top-container\"><div class=\"sk-text-repr-fallback\"><pre>MLPClassifier(hidden_layer_sizes=(512, 512), max_iter=1000, random_state=42,\n",
              "              solver=&#x27;lbfgs&#x27;)</pre><b>In a Jupyter environment, please rerun this cell to show the HTML representation or trust the notebook. <br />On GitHub, the HTML representation is unable to render, please try loading this page with nbviewer.org.</b></div><div class=\"sk-container\" hidden><div class=\"sk-item\"><div class=\"sk-estimator sk-toggleable\"><input class=\"sk-toggleable__control sk-hidden--visually\" id=\"sk-estimator-id-26\" type=\"checkbox\" checked><label for=\"sk-estimator-id-26\" class=\"sk-toggleable__label sk-toggleable__label-arrow\">MLPClassifier</label><div class=\"sk-toggleable__content\"><pre>MLPClassifier(hidden_layer_sizes=(512, 512), max_iter=1000, random_state=42,\n",
              "              solver=&#x27;lbfgs&#x27;)</pre></div></div></div></div></div>"
            ]
          },
          "metadata": {},
          "execution_count": 56
        }
      ]
    },
    {
      "cell_type": "markdown",
      "source": [
        "##**Predicciones y resultados**"
      ],
      "metadata": {
        "id": "qXVblHMRF8uv"
      }
    },
    {
      "cell_type": "code",
      "source": [
        "# Realizar predicciones en el conjunto de prueba\n",
        "y_pred = MLP_1.predict(X_test)\n",
        "\n",
        "# Calcular la precisión del modelo\n",
        "accuracy = accuracy_score(y_test, y_pred)\n",
        "print(\"Precisión:\", accuracy)"
      ],
      "metadata": {
        "colab": {
          "base_uri": "https://localhost:8080/"
        },
        "id": "EjGfEvWVF6vB",
        "outputId": "89c6a015-cd90-4586-fa23-818550e1c051"
      },
      "execution_count": null,
      "outputs": [
        {
          "output_type": "stream",
          "name": "stdout",
          "text": [
            "Precisión: 0.9629629629629629\n"
          ]
        }
      ]
    },
    {
      "cell_type": "code",
      "source": [
        "y_test"
      ],
      "metadata": {
        "colab": {
          "base_uri": "https://localhost:8080/"
        },
        "id": "fCB2PxlGGMmt",
        "outputId": "221ea111-1983-4234-d9c9-729e730235ac"
      },
      "execution_count": null,
      "outputs": [
        {
          "output_type": "execute_result",
          "data": {
            "text/plain": [
              "51     1\n",
              "69     1\n",
              "31     4\n",
              "42     1\n",
              "117    4\n",
              "77     0\n",
              "127    4\n",
              "56     1\n",
              "40     1\n",
              "12     7\n",
              "81     0\n",
              "26     1\n",
              "108    0\n",
              "100    0\n",
              "66     1\n",
              "83     0\n",
              "4      0\n",
              "27     0\n",
              "19     1\n",
              "123    4\n",
              "36     1\n",
              "16     1\n",
              "18     1\n",
              "10     1\n",
              "65     1\n",
              "44     1\n",
              "11     7\n",
              "Name: Cluster, dtype: int64"
            ]
          },
          "metadata": {},
          "execution_count": 59
        }
      ]
    },
    {
      "cell_type": "code",
      "source": [
        "# Resultados\n",
        "resultados = MLP_1.predict(X_test)\n",
        "resultados_maximos = []\n",
        "#for i in resultados:\n",
        "#  resultados_maximos.append(np.where(i==i.max()))\n",
        "#  resultados_maximos= [int(tupla[0]) for tupla in resultados_maximos]\n",
        "\n",
        "# Generación del informe de clasificación\n",
        "print(\"\\n\", classification_report(y_pred,y_test, zero_division=True))"
      ],
      "metadata": {
        "colab": {
          "base_uri": "https://localhost:8080/"
        },
        "id": "Ucjlz4vCGSmP",
        "outputId": "d8e23863-1dec-465e-f49c-db685d888eab"
      },
      "execution_count": null,
      "outputs": [
        {
          "output_type": "stream",
          "name": "stdout",
          "text": [
            "\n",
            "               precision    recall  f1-score   support\n",
            "\n",
            "           0       1.00      1.00      1.00         7\n",
            "           1       0.93      1.00      0.96        13\n",
            "           4       1.00      0.80      0.89         5\n",
            "           7       1.00      1.00      1.00         2\n",
            "\n",
            "    accuracy                           0.96        27\n",
            "   macro avg       0.98      0.95      0.96        27\n",
            "weighted avg       0.97      0.96      0.96        27\n",
            "\n"
          ]
        }
      ]
    },
    {
      "cell_type": "code",
      "source": [
        "# Matriz de confusión\n",
        "cm = confusion_matrix(y_test, y_pred, labels=etiquetas)\n",
        "# Visualizar matriz de confusión\n",
        "plt.figure(figsize=(6, 4))\n",
        "plt.imshow(cm, interpolation='nearest', cmap=plt.cm.Blues)\n",
        "plt.title('Matriz de Confusión')\n",
        "plt.colorbar()\n",
        "#classes = ['GENERO_Femenino', 'GENERO_Masculino']  # Ajustar las etiquetas de clase según los datos\n",
        "#tick_marks = np.arange(len(classes))\n",
        "#plt.xticks(tick_marks, classes)\n",
        "#plt.yticks(tick_marks, classes)\n",
        "plt.xlabel('Etiqueta Predicha')\n",
        "plt.ylabel('Etiqueta Real')\n",
        "plt.show()"
      ],
      "metadata": {
        "colab": {
          "base_uri": "https://localhost:8080/",
          "height": 410
        },
        "id": "AZBEJFY4GZqQ",
        "outputId": "c9aacf40-e126-445b-ef11-386d1716f3db"
      },
      "execution_count": null,
      "outputs": [
        {
          "output_type": "display_data",
          "data": {
            "text/plain": [
              "<Figure size 600x400 with 2 Axes>"
            ],
            "image/png": "[encoded data removed]"
          },
          "metadata": {}
        }
      ]
    },
    {
      "cell_type": "code",
      "source": [
        "# Crear el heatmap de la matriz de confusión\n",
        "plt.figure(figsize=(6,4))\n",
        "sns.heatmap(cm, annot=cm, fmt='d', cmap='Blues')\n",
        "plt.xlabel(\"Predicción\")\n",
        "plt.ylabel(\"Clase Real\")\n",
        "plt.title(\"Matriz de Confusión\")\n",
        "plt.show()"
      ],
      "metadata": {
        "colab": {
          "base_uri": "https://localhost:8080/",
          "height": 410
        },
        "id": "KPjDa23iGhn_",
        "outputId": "c7e44241-4b4b-44b8-b3a9-6532fc8af453"
      },
      "execution_count": null,
      "outputs": [
        {
          "output_type": "display_data",
          "data": {
            "text/plain": [
              "<Figure size 600x400 with 2 Axes>"
            ],
            "image/png": "[encoded data removed]"
          },
          "metadata": {}
        }
      ]
    },
    {
      "cell_type": "markdown",
      "source": [
        "###Hay que tener en cuenta que al interpretar el F1-score en conjuntos de datos pequeños, es el caso,, es importante considerar el contexto y tener en cuenta otras métricas y factores relevantes. Además, es recomendable utilizar técnicas de validación cruzada o remuestreo adecuadas para asegurarse de que la evaluación sea robusta y representativa del desempeño general del modelo."
      ],
      "metadata": {
        "id": "vjTRUOi6lAPt"
      }
    },
    {
      "cell_type": "markdown",
      "source": [
        "# **Validación cruzada del modelo que obtenía mayor *accuracy***"
      ],
      "metadata": {
        "id": "mIKyMj4tk6Wt"
      }
    },
    {
      "cell_type": "code",
      "source": [
        "# Definir el número de folds\n",
        "k = 5\n",
        "\n",
        "# Crear un objeto de validación cruzada k-fold\n",
        "kfold = KFold(n_splits=k, shuffle=True, random_state=42)"
      ],
      "metadata": {
        "id": "frsBiaFPlFff"
      },
      "execution_count": null,
      "outputs": []
    },
    {
      "cell_type": "code",
      "source": [
        "model = MLPClassifier(hidden_layer_sizes=(512,512), solver = 'lbfgs', max_iter = 1000)"
      ],
      "metadata": {
        "id": "6NQQjSPEGdDP"
      },
      "execution_count": null,
      "outputs": []
    },
    {
      "cell_type": "code",
      "source": [
        "# Realizar validación cruzada\n",
        "scores = cross_val_score(model, X, y, cv=kfold, scoring='f1_macro')\n",
        "\n",
        "# Imprimir los resultados de cada fold\n",
        "for i, score in enumerate(scores):\n",
        "    print(f\"F1-score en el fold {i+1}: {score}\")\n",
        "\n",
        "# Imprimir el promedio y la desviación estándar de los resultados\n",
        "print(f\"Promedio del F1-score: {scores.mean()}\")\n",
        "print(f\"Desviación estándar del F1-score: {scores.std()}\")"
      ],
      "metadata": {
        "colab": {
          "base_uri": "https://localhost:8080/"
        },
        "id": "CBsra_XuGvVV",
        "outputId": "b9afe8b1-c5b8-425d-d78f-c4f61acf74f5"
      },
      "execution_count": null,
      "outputs": [
        {
          "output_type": "stream",
          "name": "stdout",
          "text": [
            "F1-score en el fold 1: 0.962962962962963\n",
            "F1-score en el fold 2: 0.6335600907029478\n",
            "F1-score en el fold 3: 0.6196488294314382\n",
            "F1-score en el fold 4: 0.6075757575757577\n",
            "F1-score en el fold 5: 0.7211180124223603\n",
            "Promedio del F1-score: 0.7089731306190934\n",
            "Desviación estándar del F1-score: 0.13312078554472914\n"
          ]
        }
      ]
    }
  ]
}